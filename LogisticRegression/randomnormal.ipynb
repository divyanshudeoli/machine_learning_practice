{
 "cells": [
  {
   "cell_type": "code",
   "execution_count": 46,
   "id": "single-dryer",
   "metadata": {},
   "outputs": [],
   "source": [
    "import numpy as np\n",
    "import pandas as pd\n",
    "import matplotlib.pyplot as plt\n",
    "import seaborn as sns\n",
    "from sklearn.linear_model import LogisticRegression\n",
    "reg=LogisticRegression()\n",
    "from sklearn.metrics import f1_score\n",
    "from sklearn.model_selection import train_test_split"
   ]
  },
  {
   "cell_type": "code",
   "execution_count": 55,
   "id": "standing-hammer",
   "metadata": {},
   "outputs": [],
   "source": [
    "z=np.random.normal(5,5,10000)\n",
    "x=z[z>0]"
   ]
  },
  {
   "cell_type": "code",
   "execution_count": 56,
   "id": "subjective-mexican",
   "metadata": {},
   "outputs": [
    {
     "data": {
      "text/plain": [
       "(8367,)"
      ]
     },
     "execution_count": 56,
     "metadata": {},
     "output_type": "execute_result"
    }
   ],
   "source": [
    "x.shape"
   ]
  },
  {
   "cell_type": "code",
   "execution_count": 71,
   "id": "weekly-registration",
   "metadata": {},
   "outputs": [
    {
     "data": {
      "text/plain": [
       "(9000,)"
      ]
     },
     "execution_count": 71,
     "metadata": {},
     "output_type": "execute_result"
    }
   ],
   "source": [
    "x2=np.random.normal(25,5,9000)\n",
    "x2=x2[x2>0]\n",
    "x2.shape"
   ]
  },
  {
   "cell_type": "code",
   "execution_count": 59,
   "id": "blind-aviation",
   "metadata": {},
   "outputs": [],
   "source": [
    "y=np.zeros(8367)"
   ]
  },
  {
   "cell_type": "code",
   "execution_count": 72,
   "id": "outside-vienna",
   "metadata": {},
   "outputs": [
    {
     "data": {
      "text/plain": [
       "array([1., 1., 1., ..., 1., 1., 1.])"
      ]
     },
     "execution_count": 72,
     "metadata": {},
     "output_type": "execute_result"
    }
   ],
   "source": [
    "y2=np.ones(x2.shape)\n",
    "y2"
   ]
  },
  {
   "cell_type": "code",
   "execution_count": 73,
   "id": "auburn-thinking",
   "metadata": {},
   "outputs": [],
   "source": [
    "logx=np.concatenate((x,x2))\n",
    "logy=np.concatenate((y,y2))"
   ]
  },
  {
   "cell_type": "code",
   "execution_count": 74,
   "id": "listed-injury",
   "metadata": {},
   "outputs": [
    {
     "data": {
      "text/plain": [
       "<AxesSubplot:>"
      ]
     },
     "execution_count": 74,
     "metadata": {},
     "output_type": "execute_result"
    },
    {
     "data": {
      "image/png": "[encoded data removed]",
      "text/plain": [
       "<Figure size 432x288 with 1 Axes>"
      ]
     },
     "metadata": {
      "needs_background": "light"
     },
     "output_type": "display_data"
    }
   ],
   "source": [
    "sns.scatterplot(x=logx,y=logy)"
   ]
  },
  {
   "cell_type": "code",
   "execution_count": 75,
   "id": "micro-inside",
   "metadata": {},
   "outputs": [],
   "source": [
    "logx=logx.reshape(-1,1)\n",
    "logy=logy.reshape(-1,1)"
   ]
  },
  {
   "cell_type": "code",
   "execution_count": 76,
   "id": "brief-formula",
   "metadata": {},
   "outputs": [
    {
     "name": "stderr",
     "output_type": "stream",
     "text": [
      "c:\\python\\lib\\site-packages\\sklearn\\utils\\validation.py:63: DataConversionWarning: A column-vector y was passed when a 1d array was expected. Please change the shape of y to (n_samples, ), for example using ravel().\n",
      "  return f(*args, **kwargs)\n"
     ]
    },
    {
     "data": {
      "text/plain": [
       "LogisticRegression()"
      ]
     },
     "execution_count": 76,
     "metadata": {},
     "output_type": "execute_result"
    }
   ],
   "source": [
    "xtrain,xtest,ytrain,ytest=train_test_split(logx,logy)\n",
    "reg.fit(xtrain,ytrain)"
   ]
  },
  {
   "cell_type": "code",
   "execution_count": 96,
   "id": "checked-military",
   "metadata": {},
   "outputs": [
    {
     "data": {
      "text/plain": [
       "0.9050496751133998"
      ]
     },
     "execution_count": 96,
     "metadata": {},
     "output_type": "execute_result"
    }
   ],
   "source": [
    "r2_score(reg.predict(xtest),ytest)"
   ]
  },
  {
   "cell_type": "code",
   "execution_count": 78,
   "id": "according-parallel",
   "metadata": {},
   "outputs": [],
   "source": [
    "from sklearn.linear_model import LinearRegression"
   ]
  },
  {
   "cell_type": "code",
   "execution_count": 79,
   "id": "prepared-runner",
   "metadata": {},
   "outputs": [],
   "source": [
    "lr=LinearRegression()"
   ]
  },
  {
   "cell_type": "code",
   "execution_count": 80,
   "id": "virtual-collection",
   "metadata": {},
   "outputs": [
    {
     "data": {
      "text/plain": [
       "LinearRegression()"
      ]
     },
     "execution_count": 80,
     "metadata": {},
     "output_type": "execute_result"
    }
   ],
   "source": [
    "lr.fit(xtrain,ytrain)"
   ]
  },
  {
   "cell_type": "code",
   "execution_count": 93,
   "id": "about-declaration",
   "metadata": {},
   "outputs": [],
   "source": [
    "pred=np.around(lr.predict(xtest))"
   ]
  },
  {
   "cell_type": "code",
   "execution_count": 95,
   "id": "wooden-nevada",
   "metadata": {},
   "outputs": [
    {
     "data": {
      "text/plain": [
       "0.8921382531172416"
      ]
     },
     "execution_count": 95,
     "metadata": {},
     "output_type": "execute_result"
    }
   ],
   "source": [
    "r2_score(pred,ytest)"
   ]
  },
  {
   "cell_type": "code",
   "execution_count": 91,
   "id": "neither-barrel",
   "metadata": {},
   "outputs": [
    {
     "data": {
      "text/plain": [
       "array([[1.],\n",
       "       [1.],\n",
       "       [1.],\n",
       "       ...,\n",
       "       [1.],\n",
       "       [0.],\n",
       "       [0.]])"
      ]
     },
     "execution_count": 91,
     "metadata": {},
     "output_type": "execute_result"
    }
   ],
   "source": [
    "ytest"
   ]
  },
  {
   "cell_type": "code",
   "execution_count": 90,
   "id": "personalized-upgrade",
   "metadata": {},
   "outputs": [
    {
     "data": {
      "text/plain": [
       "array([[ 1.],\n",
       "       [ 1.],\n",
       "       [ 0.],\n",
       "       ...,\n",
       "       [ 1.],\n",
       "       [ 0.],\n",
       "       [-0.]])"
      ]
     },
     "execution_count": 90,
     "metadata": {},
     "output_type": "execute_result"
    }
   ],
   "source": [
    "np.around(lr.predict(xtest))"
   ]
  },
  {
   "cell_type": "code",
   "execution_count": null,
   "id": "strategic-witness",
   "metadata": {},
   "outputs": [],
   "source": []
  }
 ],
 "metadata": {
  "kernelspec": {
   "display_name": "Python 3",
   "language": "python",
   "name": "python3"
  },
  "language_info": {
   "codemirror_mode": {
    "name": "ipython",
    "version": 3
   },
   "file_extension": ".py",
   "mimetype": "text/x-python",
   "name": "python",
   "nbconvert_exporter": "python",
   "pygments_lexer": "ipython3",
   "version": "3.8.5"
  }
 },
 "nbformat": 4,
 "nbformat_minor": 5
}
