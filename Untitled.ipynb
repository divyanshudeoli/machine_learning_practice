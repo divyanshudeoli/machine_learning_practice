{
 "cells": [
  {
   "cell_type": "code",
   "execution_count": 1,
   "id": "advance-daniel",
   "metadata": {},
   "outputs": [],
   "source": [
    "import numpy as np"
   ]
  },
  {
   "cell_type": "code",
   "execution_count": 2,
   "id": "color-cargo",
   "metadata": {},
   "outputs": [],
   "source": [
    "import matplotlib.pyplot as plt"
   ]
  },
  {
   "cell_type": "code",
   "execution_count": 4,
   "id": "hired-scottish",
   "metadata": {},
   "outputs": [],
   "source": [
    "x=np.arange(-100,101)"
   ]
  },
  {
   "cell_type": "code",
   "execution_count": 13,
   "id": "lasting-sight",
   "metadata": {},
   "outputs": [],
   "source": [
    "mean=x.mean()"
   ]
  },
  {
   "cell_type": "code",
   "execution_count": 14,
   "id": "abroad-plate",
   "metadata": {},
   "outputs": [],
   "source": [
    "std=x.std()"
   ]
  },
  {
   "cell_type": "code",
   "execution_count": 12,
   "id": "complicated-wales",
   "metadata": {},
   "outputs": [
    {
     "data": {
      "text/plain": [
       "58.02298395176403"
      ]
     },
     "execution_count": 12,
     "metadata": {},
     "output_type": "execute_result"
    }
   ],
   "source": [
    "s=0\n",
    "for i in x:\n",
    "    s=s+(i**2)\n",
    "s/=201    \n",
    "s**0.5"
   ]
  },
  {
   "cell_type": "code",
   "execution_count": 15,
   "id": "european-checkout",
   "metadata": {},
   "outputs": [],
   "source": [
    "y=np.exp(-(x-mean)**2/(2*(std**2)))"
   ]
  },
  {
   "cell_type": "code",
   "execution_count": 20,
   "id": "sacred-lighting",
   "metadata": {},
   "outputs": [
    {
     "data": {
      "text/plain": [
       "<matplotlib.collections.PathCollection at 0xaf26b8>"
      ]
     },
     "execution_count": 20,
     "metadata": {},
     "output_type": "execute_result"
    },
    {
     "data": {
      "image/png": "[encoded data removed]",
      "text/plain": [
       "<Figure size 432x288 with 1 Axes>"
      ]
     },
     "metadata": {
      "needs_background": "light"
     },
     "output_type": "display_data"
    }
   ],
   "source": [
    "plt.scatter(x,y)"
   ]
  },
  {
   "cell_type": "code",
   "execution_count": 21,
   "id": "expressed-boating",
   "metadata": {},
   "outputs": [],
   "source": [
    "y=y/(std*((np.pi*2)**0.5))"
   ]
  },
  {
   "cell_type": "code",
   "execution_count": 23,
   "id": "surface-museum",
   "metadata": {},
   "outputs": [
    {
     "data": {
      "text/plain": [
       "(array([22., 18., 16., 16., 14., 16., 14., 18., 20., 47.]),\n",
       " array([0.00155711, 0.00208895, 0.0026208 , 0.00315265, 0.0036845 ,\n",
       "        0.00421635, 0.0047482 , 0.00528005, 0.00581189, 0.00634374,\n",
       "        0.00687559]),\n",
       " <BarContainer object of 10 artists>)"
      ]
     },
     "execution_count": 23,
     "metadata": {},
     "output_type": "execute_result"
    },
    {
     "data": {
      "image/png": "[encoded data removed]",
      "text/plain": [
       "<Figure size 432x288 with 1 Axes>"
      ]
     },
     "metadata": {
      "needs_background": "light"
     },
     "output_type": "display_data"
    }
   ],
   "source": [
    "plt.hist(y)"
   ]
  },
  {
   "cell_type": "code",
   "execution_count": 28,
   "id": "collected-answer",
   "metadata": {},
   "outputs": [
    {
     "data": {
      "text/plain": [
       "145.38443992859803"
      ]
     },
     "execution_count": 28,
     "metadata": {},
     "output_type": "execute_result"
    }
   ],
   "source": [
    "(np.pi*2)**0.5*58"
   ]
  },
  {
   "cell_type": "code",
   "execution_count": 34,
   "id": "fatal-heating",
   "metadata": {},
   "outputs": [],
   "source": [
    "def normal(x):\n",
    "    print(np.exp(-((x-mean)**2)/(2*(std**2)))/((np.pi*2)**0.5*std))"
   ]
  },
  {
   "cell_type": "code",
   "execution_count": 40,
   "id": "wrong-wholesale",
   "metadata": {},
   "outputs": [
    {
     "name": "stdout",
     "output_type": "stream",
     "text": [
      "0.0015571060835706243\n"
     ]
    }
   ],
   "source": [
    "normal(100)"
   ]
  },
  {
   "cell_type": "code",
   "execution_count": 71,
   "id": "middle-triple",
   "metadata": {},
   "outputs": [],
   "source": [
    "e=np.arange(-2,3,0.01)"
   ]
  },
  {
   "cell_type": "code",
   "execution_count": 75,
   "id": "amazing-senegal",
   "metadata": {},
   "outputs": [
    {
     "data": {
      "text/plain": [
       "4.166650000000008"
      ]
     },
     "execution_count": 75,
     "metadata": {},
     "output_type": "execute_result"
    }
   ],
   "source": [
    "sr=2*e.std()**2\n",
    "sr"
   ]
  },
  {
   "cell_type": "code",
   "execution_count": 85,
   "id": "accepting-chester",
   "metadata": {},
   "outputs": [],
   "source": [
    "d=e.std()*(2*np.pi)**0.5"
   ]
  },
  {
   "cell_type": "code",
   "execution_count": 90,
   "id": "equal-browser",
   "metadata": {},
   "outputs": [],
   "source": [
    "y=np.exp(-(e-e.mean())**2/sr)/d"
   ]
  },
  {
   "cell_type": "code",
   "execution_count": 91,
   "id": "prescription-wholesale",
   "metadata": {},
   "outputs": [
    {
     "data": {
      "text/plain": [
       "[<matplotlib.lines.Line2D at 0x4a8dd60>]"
      ]
     },
     "execution_count": 91,
     "metadata": {},
     "output_type": "execute_result"
    },
    {
     "data": {
      "image/png": "[encoded data removed]",
      "text/plain": [
       "<Figure size 432x288 with 1 Axes>"
      ]
     },
     "metadata": {
      "needs_background": "light"
     },
     "output_type": "display_data"
    }
   ],
   "source": [
    "plt.plot(e,y)"
   ]
  },
  {
   "cell_type": "code",
   "execution_count": 99,
   "id": "wireless-drive",
   "metadata": {},
   "outputs": [],
   "source": [
    "xpoi=np.arange(0,101)"
   ]
  },
  {
   "cell_type": "code",
   "execution_count": 105,
   "id": "sufficient-probe",
   "metadata": {},
   "outputs": [],
   "source": [
    "lam=1.1"
   ]
  },
  {
   "cell_type": "code",
   "execution_count": 106,
   "id": "remarkable-routine",
   "metadata": {},
   "outputs": [],
   "source": [
    "t=[]\n",
    "for i in xpoi:\n",
    "    t.append(lam**i)"
   ]
  },
  {
   "cell_type": "code",
   "execution_count": 109,
   "id": "quantitative-glossary",
   "metadata": {},
   "outputs": [],
   "source": [
    "ypoi=np.array(t)"
   ]
  },
  {
   "cell_type": "code",
   "execution_count": 110,
   "id": "loose-reception",
   "metadata": {},
   "outputs": [
    {
     "data": {
      "text/plain": [
       "[<matplotlib.lines.Line2D at 0x4acbc40>]"
      ]
     },
     "execution_count": 110,
     "metadata": {},
     "output_type": "execute_result"
    },
    {
     "data": {
      "image/png": "[encoded data removed]",
      "text/plain": [
       "<Figure size 432x288 with 1 Axes>"
      ]
     },
     "metadata": {
      "needs_background": "light"
     },
     "output_type": "display_data"
    }
   ],
   "source": [
    "plt.plot(xpoi,ypoi)"
   ]
  },
  {
   "cell_type": "code",
   "execution_count": null,
   "id": "potential-popularity",
   "metadata": {},
   "outputs": [],
   "source": []
  }
 ],
 "metadata": {
  "kernelspec": {
   "display_name": "Python 3",
   "language": "python",
   "name": "python3"
  },
  "language_info": {
   "codemirror_mode": {
    "name": "ipython",
    "version": 3
   },
   "file_extension": ".py",
   "mimetype": "text/x-python",
   "name": "python",
   "nbconvert_exporter": "python",
   "pygments_lexer": "ipython3",
   "version": "3.8.5"
  }
 },
 "nbformat": 4,
 "nbformat_minor": 5
}
