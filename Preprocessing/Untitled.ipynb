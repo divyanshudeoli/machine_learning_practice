{
 "cells": [
  {
   "cell_type": "code",
   "execution_count": 6,
   "id": "approved-forest",
   "metadata": {},
   "outputs": [],
   "source": [
    "import numpy as np\n",
    "import pandas as pd\n",
    "import sklearn.preprocessing as sp"
   ]
  },
  {
   "cell_type": "code",
   "execution_count": 7,
   "id": "solar-princess",
   "metadata": {},
   "outputs": [],
   "source": [
    "import matplotlib.pyplot as plt\n",
    "import seaborn as sns"
   ]
  },
  {
   "cell_type": "code",
   "execution_count": 26,
   "id": "alternate-consequence",
   "metadata": {},
   "outputs": [],
   "source": [
    "lognor=np.random.lognormal(size=1000).reshape(-1,1)"
   ]
  },
  {
   "cell_type": "code",
   "execution_count": 23,
   "id": "private-sector",
   "metadata": {},
   "outputs": [
    {
     "data": {
      "text/plain": [
       "(array([380., 268., 132.,  71.,  48.,  21.,  15.,  13.,  11.,   8.,   5.,\n",
       "          9.,   4.,   3.,   5.,   1.,   1.,   1.,   0.,   1.,   0.,   1.,\n",
       "          1.,   0.,   0.,   0.,   0.,   0.,   0.,   1.]),\n",
       " array([ 0.047002  ,  0.72452088,  1.40203976,  2.07955864,  2.75707751,\n",
       "         3.43459639,  4.11211527,  4.78963415,  5.46715303,  6.14467191,\n",
       "         6.82219079,  7.49970967,  8.17722855,  8.85474743,  9.53226631,\n",
       "        10.20978519, 10.88730407, 11.56482295, 12.24234182, 12.9198607 ,\n",
       "        13.59737958, 14.27489846, 14.95241734, 15.62993622, 16.3074551 ,\n",
       "        16.98497398, 17.66249286, 18.34001174, 19.01753062, 19.6950495 ,\n",
       "        20.37256838]),\n",
       " <BarContainer object of 30 artists>)"
      ]
     },
     "execution_count": 23,
     "metadata": {},
     "output_type": "execute_result"
    },
    {
     "data": {
      "image/png": "[encoded data removed]",
      "text/plain": [
       "<Figure size 432x288 with 1 Axes>"
      ]
     },
     "metadata": {
      "needs_background": "light"
     },
     "output_type": "display_data"
    }
   ],
   "source": [
    "plt.hist(lognor,bins=30)"
   ]
  },
  {
   "cell_type": "code",
   "execution_count": 35,
   "id": "wanted-roads",
   "metadata": {},
   "outputs": [],
   "source": [
    "pt=sp.PowerTransformer()"
   ]
  },
  {
   "cell_type": "code",
   "execution_count": 36,
   "id": "academic-labor",
   "metadata": {},
   "outputs": [],
   "source": [
    "nor=pt.fit_transform(lognor)"
   ]
  },
  {
   "cell_type": "code",
   "execution_count": 21,
   "id": "endangered-hamburg",
   "metadata": {},
   "outputs": [
    {
     "data": {
      "text/plain": [
       "(1, 1000)"
      ]
     },
     "execution_count": 21,
     "metadata": {},
     "output_type": "execute_result"
    }
   ],
   "source": [
    "lognor.shape"
   ]
  },
  {
   "cell_type": "code",
   "execution_count": 37,
   "id": "placed-spare",
   "metadata": {},
   "outputs": [
    {
     "data": {
      "text/plain": [
       "(array([ 1.,  1.,  0.,  0.,  4.,  4.,  1.,  9.,  2.,  6.,  5.,  9.,  9.,\n",
       "         7.,  4., 10.,  7., 17., 14.,  9., 13.,  9., 12., 16., 14., 16.,\n",
       "        14.,  8.,  7., 10., 18., 16., 12., 15., 18., 14., 24., 14., 31.,\n",
       "        14., 12., 23.,  7., 14., 16., 10., 10., 14., 17., 13., 17., 11.,\n",
       "        14., 15., 12., 18., 20., 12., 17., 10., 15., 10., 16., 13., 19.,\n",
       "         7., 13., 15.,  8., 15., 17.,  8., 10.,  8.,  7., 17., 10.,  8.,\n",
       "        11.,  5.,  8., 11.,  4.,  9.,  1.,  1.,  2.,  9.,  6.,  1.,  4.,\n",
       "         2.,  2.,  1.,  1.,  3.,  2.,  1.,  3.,  1.]),\n",
       " array([-2.17167663, -2.12566311, -2.07964959, -2.03363607, -1.98762255,\n",
       "        -1.94160902, -1.8955955 , -1.84958198, -1.80356846, -1.75755494,\n",
       "        -1.71154142, -1.6655279 , -1.61951437, -1.57350085, -1.52748733,\n",
       "        -1.48147381, -1.43546029, -1.38944677, -1.34343325, -1.29741972,\n",
       "        -1.2514062 , -1.20539268, -1.15937916, -1.11336564, -1.06735212,\n",
       "        -1.02133859, -0.97532507, -0.92931155, -0.88329803, -0.83728451,\n",
       "        -0.79127099, -0.74525747, -0.69924394, -0.65323042, -0.6072169 ,\n",
       "        -0.56120338, -0.51518986, -0.46917634, -0.42316282, -0.37714929,\n",
       "        -0.33113577, -0.28512225, -0.23910873, -0.19309521, -0.14708169,\n",
       "        -0.10106816, -0.05505464, -0.00904112,  0.0369724 ,  0.08298592,\n",
       "         0.12899944,  0.17501296,  0.22102649,  0.26704001,  0.31305353,\n",
       "         0.35906705,  0.40508057,  0.45109409,  0.49710762,  0.54312114,\n",
       "         0.58913466,  0.63514818,  0.6811617 ,  0.72717522,  0.77318874,\n",
       "         0.81920227,  0.86521579,  0.91122931,  0.95724283,  1.00325635,\n",
       "         1.04926987,  1.09528339,  1.14129692,  1.18731044,  1.23332396,\n",
       "         1.27933748,  1.325351  ,  1.37136452,  1.41737805,  1.46339157,\n",
       "         1.50940509,  1.55541861,  1.60143213,  1.64744565,  1.69345917,\n",
       "         1.7394727 ,  1.78548622,  1.83149974,  1.87751326,  1.92352678,\n",
       "         1.9695403 ,  2.01555383,  2.06156735,  2.10758087,  2.15359439,\n",
       "         2.19960791,  2.24562143,  2.29163495,  2.33764848,  2.383662  ,\n",
       "         2.42967552]),\n",
       " <BarContainer object of 100 artists>)"
      ]
     },
     "execution_count": 37,
     "metadata": {},
     "output_type": "execute_result"
    },
    {
     "data": {
      "image/png": "[encoded data removed]",
      "text/plain": [
       "<Figure size 432x288 with 1 Axes>"
      ]
     },
     "metadata": {
      "needs_background": "light"
     },
     "output_type": "display_data"
    }
   ],
   "source": [
    "plt.hist(nor,bins=100)"
   ]
  },
  {
   "cell_type": "code",
   "execution_count": null,
   "id": "musical-entrepreneur",
   "metadata": {},
   "outputs": [],
   "source": []
  }
 ],
 "metadata": {
  "kernelspec": {
   "display_name": "Python 3",
   "language": "python",
   "name": "python3"
  },
  "language_info": {
   "codemirror_mode": {
    "name": "ipython",
    "version": 3
   },
   "file_extension": ".py",
   "mimetype": "text/x-python",
   "name": "python",
   "nbconvert_exporter": "python",
   "pygments_lexer": "ipython3",
   "version": "3.8.5"
  }
 },
 "nbformat": 4,
 "nbformat_minor": 5
}
