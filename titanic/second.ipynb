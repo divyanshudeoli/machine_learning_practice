{
 "cells": [
  {
   "cell_type": "code",
   "execution_count": 1,
   "id": "unable-oliver",
   "metadata": {},
   "outputs": [],
   "source": [
    "import numpy as np\n",
    "import pandas as pd\n",
    "import matplotlib.pyplot as plt\n",
    "import seaborn as sns\n",
    "from sklearn.linear_model import LogisticRegression\n",
    "from sklearn.metrics import f1_score\n",
    "from sklearn.model_selection import train_test_split"
   ]
  },
  {
   "cell_type": "code",
   "execution_count": 2,
   "id": "brazilian-luther",
   "metadata": {},
   "outputs": [
    {
     "data": {
      "text/html": [
       "<div>\n",
       "<style scoped>\n",
       "    .dataframe tbody tr th:only-of-type {\n",
       "        vertical-align: middle;\n",
       "    }\n",
       "\n",
       "    .dataframe tbody tr th {\n",
       "        vertical-align: top;\n",
       "    }\n",
       "\n",
       "    .dataframe thead th {\n",
       "        text-align: right;\n",
       "    }\n",
       "</style>\n",
       "<table border=\"1\" class=\"dataframe\">\n",
       "  <thead>\n",
       "    <tr style=\"text-align: right;\">\n",
       "      <th></th>\n",
       "      <th>PassengerId</th>\n",
       "      <th>Survived</th>\n",
       "      <th>Pclass</th>\n",
       "      <th>Name</th>\n",
       "      <th>Sex</th>\n",
       "      <th>Age</th>\n",
       "      <th>SibSp</th>\n",
       "      <th>Parch</th>\n",
       "      <th>Ticket</th>\n",
       "      <th>Fare</th>\n",
       "      <th>Cabin</th>\n",
       "      <th>Embarked</th>\n",
       "    </tr>\n",
       "  </thead>\n",
       "  <tbody>\n",
       "    <tr>\n",
       "      <th>0</th>\n",
       "      <td>1</td>\n",
       "      <td>0</td>\n",
       "      <td>3</td>\n",
       "      <td>Braund, Mr. Owen Harris</td>\n",
       "      <td>male</td>\n",
       "      <td>22.0</td>\n",
       "      <td>1</td>\n",
       "      <td>0</td>\n",
       "      <td>A/5 21171</td>\n",
       "      <td>7.2500</td>\n",
       "      <td>NaN</td>\n",
       "      <td>S</td>\n",
       "    </tr>\n",
       "    <tr>\n",
       "      <th>1</th>\n",
       "      <td>2</td>\n",
       "      <td>1</td>\n",
       "      <td>1</td>\n",
       "      <td>Cumings, Mrs. John Bradley (Florence Briggs Th...</td>\n",
       "      <td>female</td>\n",
       "      <td>38.0</td>\n",
       "      <td>1</td>\n",
       "      <td>0</td>\n",
       "      <td>PC 17599</td>\n",
       "      <td>71.2833</td>\n",
       "      <td>C85</td>\n",
       "      <td>C</td>\n",
       "    </tr>\n",
       "    <tr>\n",
       "      <th>2</th>\n",
       "      <td>3</td>\n",
       "      <td>1</td>\n",
       "      <td>3</td>\n",
       "      <td>Heikkinen, Miss. Laina</td>\n",
       "      <td>female</td>\n",
       "      <td>26.0</td>\n",
       "      <td>0</td>\n",
       "      <td>0</td>\n",
       "      <td>STON/O2. 3101282</td>\n",
       "      <td>7.9250</td>\n",
       "      <td>NaN</td>\n",
       "      <td>S</td>\n",
       "    </tr>\n",
       "    <tr>\n",
       "      <th>3</th>\n",
       "      <td>4</td>\n",
       "      <td>1</td>\n",
       "      <td>1</td>\n",
       "      <td>Futrelle, Mrs. Jacques Heath (Lily May Peel)</td>\n",
       "      <td>female</td>\n",
       "      <td>35.0</td>\n",
       "      <td>1</td>\n",
       "      <td>0</td>\n",
       "      <td>113803</td>\n",
       "      <td>53.1000</td>\n",
       "      <td>C123</td>\n",
       "      <td>S</td>\n",
       "    </tr>\n",
       "    <tr>\n",
       "      <th>4</th>\n",
       "      <td>5</td>\n",
       "      <td>0</td>\n",
       "      <td>3</td>\n",
       "      <td>Allen, Mr. William Henry</td>\n",
       "      <td>male</td>\n",
       "      <td>35.0</td>\n",
       "      <td>0</td>\n",
       "      <td>0</td>\n",
       "      <td>373450</td>\n",
       "      <td>8.0500</td>\n",
       "      <td>NaN</td>\n",
       "      <td>S</td>\n",
       "    </tr>\n",
       "    <tr>\n",
       "      <th>...</th>\n",
       "      <td>...</td>\n",
       "      <td>...</td>\n",
       "      <td>...</td>\n",
       "      <td>...</td>\n",
       "      <td>...</td>\n",
       "      <td>...</td>\n",
       "      <td>...</td>\n",
       "      <td>...</td>\n",
       "      <td>...</td>\n",
       "      <td>...</td>\n",
       "      <td>...</td>\n",
       "      <td>...</td>\n",
       "    </tr>\n",
       "    <tr>\n",
       "      <th>886</th>\n",
       "      <td>887</td>\n",
       "      <td>0</td>\n",
       "      <td>2</td>\n",
       "      <td>Montvila, Rev. Juozas</td>\n",
       "      <td>male</td>\n",
       "      <td>27.0</td>\n",
       "      <td>0</td>\n",
       "      <td>0</td>\n",
       "      <td>211536</td>\n",
       "      <td>13.0000</td>\n",
       "      <td>NaN</td>\n",
       "      <td>S</td>\n",
       "    </tr>\n",
       "    <tr>\n",
       "      <th>887</th>\n",
       "      <td>888</td>\n",
       "      <td>1</td>\n",
       "      <td>1</td>\n",
       "      <td>Graham, Miss. Margaret Edith</td>\n",
       "      <td>female</td>\n",
       "      <td>19.0</td>\n",
       "      <td>0</td>\n",
       "      <td>0</td>\n",
       "      <td>112053</td>\n",
       "      <td>30.0000</td>\n",
       "      <td>B42</td>\n",
       "      <td>S</td>\n",
       "    </tr>\n",
       "    <tr>\n",
       "      <th>888</th>\n",
       "      <td>889</td>\n",
       "      <td>0</td>\n",
       "      <td>3</td>\n",
       "      <td>Johnston, Miss. Catherine Helen \"Carrie\"</td>\n",
       "      <td>female</td>\n",
       "      <td>NaN</td>\n",
       "      <td>1</td>\n",
       "      <td>2</td>\n",
       "      <td>W./C. 6607</td>\n",
       "      <td>23.4500</td>\n",
       "      <td>NaN</td>\n",
       "      <td>S</td>\n",
       "    </tr>\n",
       "    <tr>\n",
       "      <th>889</th>\n",
       "      <td>890</td>\n",
       "      <td>1</td>\n",
       "      <td>1</td>\n",
       "      <td>Behr, Mr. Karl Howell</td>\n",
       "      <td>male</td>\n",
       "      <td>26.0</td>\n",
       "      <td>0</td>\n",
       "      <td>0</td>\n",
       "      <td>111369</td>\n",
       "      <td>30.0000</td>\n",
       "      <td>C148</td>\n",
       "      <td>C</td>\n",
       "    </tr>\n",
       "    <tr>\n",
       "      <th>890</th>\n",
       "      <td>891</td>\n",
       "      <td>0</td>\n",
       "      <td>3</td>\n",
       "      <td>Dooley, Mr. Patrick</td>\n",
       "      <td>male</td>\n",
       "      <td>32.0</td>\n",
       "      <td>0</td>\n",
       "      <td>0</td>\n",
       "      <td>370376</td>\n",
       "      <td>7.7500</td>\n",
       "      <td>NaN</td>\n",
       "      <td>Q</td>\n",
       "    </tr>\n",
       "  </tbody>\n",
       "</table>\n",
       "<p>891 rows × 12 columns</p>\n",
       "</div>"
      ],
      "text/plain": [
       "     PassengerId  Survived  Pclass  \\\n",
       "0              1         0       3   \n",
       "1              2         1       1   \n",
       "2              3         1       3   \n",
       "3              4         1       1   \n",
       "4              5         0       3   \n",
       "..           ...       ...     ...   \n",
       "886          887         0       2   \n",
       "887          888         1       1   \n",
       "888          889         0       3   \n",
       "889          890         1       1   \n",
       "890          891         0       3   \n",
       "\n",
       "                                                  Name     Sex   Age  SibSp  \\\n",
       "0                              Braund, Mr. Owen Harris    male  22.0      1   \n",
       "1    Cumings, Mrs. John Bradley (Florence Briggs Th...  female  38.0      1   \n",
       "2                               Heikkinen, Miss. Laina  female  26.0      0   \n",
       "3         Futrelle, Mrs. Jacques Heath (Lily May Peel)  female  35.0      1   \n",
       "4                             Allen, Mr. William Henry    male  35.0      0   \n",
       "..                                                 ...     ...   ...    ...   \n",
       "886                              Montvila, Rev. Juozas    male  27.0      0   \n",
       "887                       Graham, Miss. Margaret Edith  female  19.0      0   \n",
       "888           Johnston, Miss. Catherine Helen \"Carrie\"  female   NaN      1   \n",
       "889                              Behr, Mr. Karl Howell    male  26.0      0   \n",
       "890                                Dooley, Mr. Patrick    male  32.0      0   \n",
       "\n",
       "     Parch            Ticket     Fare Cabin Embarked  \n",
       "0        0         A/5 21171   7.2500   NaN        S  \n",
       "1        0          PC 17599  71.2833   C85        C  \n",
       "2        0  STON/O2. 3101282   7.9250   NaN        S  \n",
       "3        0            113803  53.1000  C123        S  \n",
       "4        0            373450   8.0500   NaN        S  \n",
       "..     ...               ...      ...   ...      ...  \n",
       "886      0            211536  13.0000   NaN        S  \n",
       "887      0            112053  30.0000   B42        S  \n",
       "888      2        W./C. 6607  23.4500   NaN        S  \n",
       "889      0            111369  30.0000  C148        C  \n",
       "890      0            370376   7.7500   NaN        Q  \n",
       "\n",
       "[891 rows x 12 columns]"
      ]
     },
     "execution_count": 2,
     "metadata": {},
     "output_type": "execute_result"
    }
   ],
   "source": [
    "df=pd.read_csv(\"train.csv\")\n",
    "df"
   ]
  },
  {
   "cell_type": "code",
   "execution_count": 3,
   "id": "scientific-stanford",
   "metadata": {},
   "outputs": [],
   "source": [
    "logit=LogisticRegression()"
   ]
  },
  {
   "cell_type": "code",
   "execution_count": 4,
   "id": "square-simple",
   "metadata": {},
   "outputs": [
    {
     "data": {
      "text/plain": [
       "PassengerId      0\n",
       "Survived         0\n",
       "Pclass           0\n",
       "Name             0\n",
       "Sex              0\n",
       "Age            177\n",
       "SibSp            0\n",
       "Parch            0\n",
       "Ticket           0\n",
       "Fare             0\n",
       "Cabin          687\n",
       "Embarked         2\n",
       "dtype: int64"
      ]
     },
     "execution_count": 4,
     "metadata": {},
     "output_type": "execute_result"
    }
   ],
   "source": [
    "df.isnull().sum()"
   ]
  },
  {
   "cell_type": "code",
   "execution_count": 7,
   "id": "introductory-blood",
   "metadata": {},
   "outputs": [
    {
     "data": {
      "text/plain": [
       "(array([24.,  6., 14.,  3.,  7.,  8.,  6.,  3.,  7., 22., 13., 51., 40.,\n",
       "        27., 46., 24., 36., 47., 27., 35., 17., 34., 29., 11., 27.,  8.,\n",
       "        18.,  9., 17., 18.,  6., 17.,  6.,  9.,  7.,  2.,  7.,  4.,  7.,\n",
       "         4.,  3.,  1.,  0.,  2.,  3.,  0.,  1.,  0.,  0.,  1.]),\n",
       " array([ 0.42  ,  2.0116,  3.6032,  5.1948,  6.7864,  8.378 ,  9.9696,\n",
       "        11.5612, 13.1528, 14.7444, 16.336 , 17.9276, 19.5192, 21.1108,\n",
       "        22.7024, 24.294 , 25.8856, 27.4772, 29.0688, 30.6604, 32.252 ,\n",
       "        33.8436, 35.4352, 37.0268, 38.6184, 40.21  , 41.8016, 43.3932,\n",
       "        44.9848, 46.5764, 48.168 , 49.7596, 51.3512, 52.9428, 54.5344,\n",
       "        56.126 , 57.7176, 59.3092, 60.9008, 62.4924, 64.084 , 65.6756,\n",
       "        67.2672, 68.8588, 70.4504, 72.042 , 73.6336, 75.2252, 76.8168,\n",
       "        78.4084, 80.    ]),\n",
       " <BarContainer object of 50 artists>)"
      ]
     },
     "execution_count": 7,
     "metadata": {},
     "output_type": "execute_result"
    },
    {
     "data": {
      "image/png": "[encoded data removed]",
      "text/plain": [
       "<Figure size 432x288 with 1 Axes>"
      ]
     },
     "metadata": {
      "needs_background": "light"
     },
     "output_type": "display_data"
    }
   ],
   "source": [
    "plt.hist(df['Age'],bins=50)"
   ]
  },
  {
   "cell_type": "code",
   "execution_count": 9,
   "id": "frozen-raleigh",
   "metadata": {},
   "outputs": [
    {
     "data": {
      "text/plain": [
       "(array([337., 182., 147.,  50.,  16.,  39.,  18.,  29.,  18.,   2.,   8.,\n",
       "          7.,   0.,   7.,   9.,   0.,   2.,   0.,   0.,   0.,   4.,   1.,\n",
       "          4.,   0.,   2.,   6.,   0.,   0.,   0.,   0.,   0.,   0.,   0.,\n",
       "          0.,   0.,   0.,   0.,   0.,   0.,   0.,   0.,   0.,   0.,   0.,\n",
       "          0.,   0.,   0.,   0.,   0.,   3.]),\n",
       " array([  0.      ,  10.246584,  20.493168,  30.739752,  40.986336,\n",
       "         51.23292 ,  61.479504,  71.726088,  81.972672,  92.219256,\n",
       "        102.46584 , 112.712424, 122.959008, 133.205592, 143.452176,\n",
       "        153.69876 , 163.945344, 174.191928, 184.438512, 194.685096,\n",
       "        204.93168 , 215.178264, 225.424848, 235.671432, 245.918016,\n",
       "        256.1646  , 266.411184, 276.657768, 286.904352, 297.150936,\n",
       "        307.39752 , 317.644104, 327.890688, 338.137272, 348.383856,\n",
       "        358.63044 , 368.877024, 379.123608, 389.370192, 399.616776,\n",
       "        409.86336 , 420.109944, 430.356528, 440.603112, 450.849696,\n",
       "        461.09628 , 471.342864, 481.589448, 491.836032, 502.082616,\n",
       "        512.3292  ]),\n",
       " <BarContainer object of 50 artists>)"
      ]
     },
     "execution_count": 9,
     "metadata": {},
     "output_type": "execute_result"
    },
    {
     "data": {
      "image/png": "[encoded data removed]",
      "text/plain": [
       "<Figure size 432x288 with 1 Axes>"
      ]
     },
     "metadata": {
      "needs_background": "light"
     },
     "output_type": "display_data"
    }
   ],
   "source": [
    "plt.hist(df['Fare'],bins=50)"
   ]
  },
  {
   "cell_type": "code",
   "execution_count": 11,
   "id": "adequate-booking",
   "metadata": {},
   "outputs": [
    {
     "data": {
      "text/plain": [
       "(array([577., 314.]),\n",
       " array([0. , 0.5, 1. ]),\n",
       " <BarContainer object of 2 artists>)"
      ]
     },
     "execution_count": 11,
     "metadata": {},
     "output_type": "execute_result"
    },
    {
     "data": {
      "image/png": "[encoded data removed]",
      "text/plain": [
       "<Figure size 432x288 with 1 Axes>"
      ]
     },
     "metadata": {
      "needs_background": "light"
     },
     "output_type": "display_data"
    }
   ],
   "source": [
    "plt.hist(df['Sex'],bins=2)"
   ]
  },
  {
   "cell_type": "code",
   "execution_count": 16,
   "id": "adjusted-clinic",
   "metadata": {},
   "outputs": [
    {
     "name": "stderr",
     "output_type": "stream",
     "text": [
      "c:\\python\\lib\\site-packages\\seaborn\\_decorators.py:36: FutureWarning: Pass the following variable as a keyword arg: x. From version 0.12, the only valid positional argument will be `data`, and passing other arguments without an explicit keyword will result in an error or misinterpretation.\n",
      "  warnings.warn(\n"
     ]
    },
    {
     "data": {
      "text/plain": [
       "<AxesSubplot:xlabel='Cabin', ylabel='count'>"
      ]
     },
     "execution_count": 16,
     "metadata": {},
     "output_type": "execute_result"
    },
    {
     "data": {
      "image/png": "[encoded data removed]",
      "text/plain": [
       "<Figure size 432x288 with 1 Axes>"
      ]
     },
     "metadata": {
      "needs_background": "light"
     },
     "output_type": "display_data"
    }
   ],
   "source": [
    "sns.countplot(df['Cabin'])"
   ]
  },
  {
   "cell_type": "code",
   "execution_count": 14,
   "id": "cognitive-stylus",
   "metadata": {},
   "outputs": [
    {
     "name": "stderr",
     "output_type": "stream",
     "text": [
      "c:\\python\\lib\\site-packages\\seaborn\\_decorators.py:36: FutureWarning: Pass the following variable as a keyword arg: x. From version 0.12, the only valid positional argument will be `data`, and passing other arguments without an explicit keyword will result in an error or misinterpretation.\n",
      "  warnings.warn(\n"
     ]
    },
    {
     "data": {
      "text/plain": [
       "<AxesSubplot:xlabel='Pclass', ylabel='count'>"
      ]
     },
     "execution_count": 14,
     "metadata": {},
     "output_type": "execute_result"
    },
    {
     "data": {
      "image/png": "[encoded data removed]",
      "text/plain": [
       "<Figure size 432x288 with 1 Axes>"
      ]
     },
     "metadata": {
      "needs_background": "light"
     },
     "output_type": "display_data"
    }
   ],
   "source": [
    "sns.countplot(df['Pclass'])"
   ]
  },
  {
   "cell_type": "code",
   "execution_count": 15,
   "id": "sharp-handle",
   "metadata": {},
   "outputs": [
    {
     "name": "stderr",
     "output_type": "stream",
     "text": [
      "c:\\python\\lib\\site-packages\\seaborn\\_decorators.py:36: FutureWarning: Pass the following variable as a keyword arg: x. From version 0.12, the only valid positional argument will be `data`, and passing other arguments without an explicit keyword will result in an error or misinterpretation.\n",
      "  warnings.warn(\n"
     ]
    },
    {
     "data": {
      "text/plain": [
       "<AxesSubplot:xlabel='Embarked', ylabel='count'>"
      ]
     },
     "execution_count": 15,
     "metadata": {},
     "output_type": "execute_result"
    },
    {
     "data": {
      "image/png": "[encoded data removed]",
      "text/plain": [
       "<Figure size 432x288 with 1 Axes>"
      ]
     },
     "metadata": {
      "needs_background": "light"
     },
     "output_type": "display_data"
    }
   ],
   "source": [
    "sns.countplot(df['Embarked'])"
   ]
  },
  {
   "cell_type": "code",
   "execution_count": 17,
   "id": "demonstrated-internship",
   "metadata": {},
   "outputs": [
    {
     "name": "stderr",
     "output_type": "stream",
     "text": [
      "c:\\python\\lib\\site-packages\\seaborn\\_decorators.py:36: FutureWarning: Pass the following variable as a keyword arg: x. From version 0.12, the only valid positional argument will be `data`, and passing other arguments without an explicit keyword will result in an error or misinterpretation.\n",
      "  warnings.warn(\n"
     ]
    },
    {
     "data": {
      "text/plain": [
       "<AxesSubplot:xlabel='Parch', ylabel='count'>"
      ]
     },
     "execution_count": 17,
     "metadata": {},
     "output_type": "execute_result"
    },
    {
     "data": {
      "image/png": "[encoded data removed]",
      "text/plain": [
       "<Figure size 432x288 with 1 Axes>"
      ]
     },
     "metadata": {
      "needs_background": "light"
     },
     "output_type": "display_data"
    }
   ],
   "source": [
    "sns.countplot(df['Parch'])"
   ]
  },
  {
   "cell_type": "code",
   "execution_count": 5,
   "id": "fundamental-bidding",
   "metadata": {},
   "outputs": [],
   "source": [
    "df.replace(to_replace=['male','female'],value=[0,1],inplace=True)"
   ]
  },
  {
   "cell_type": "code",
   "execution_count": 102,
   "id": "protective-leadership",
   "metadata": {},
   "outputs": [],
   "source": [
    "x=df[['Sex','Pclass']]\n",
    "y=df['Survived']"
   ]
  },
  {
   "cell_type": "code",
   "execution_count": 121,
   "id": "affecting-ozone",
   "metadata": {},
   "outputs": [],
   "source": [
    "xtrain,xtest,ytrain,ytest=train_test_split(x,y)"
   ]
  },
  {
   "cell_type": "code",
   "execution_count": 122,
   "id": "alien-contact",
   "metadata": {},
   "outputs": [
    {
     "data": {
      "text/plain": [
       "LogisticRegression()"
      ]
     },
     "execution_count": 122,
     "metadata": {},
     "output_type": "execute_result"
    }
   ],
   "source": [
    "logit.fit(xtrain,ytrain)"
   ]
  },
  {
   "cell_type": "code",
   "execution_count": 123,
   "id": "talented-welcome",
   "metadata": {},
   "outputs": [
    {
     "data": {
      "text/plain": [
       "0.676056338028169"
      ]
     },
     "execution_count": 123,
     "metadata": {},
     "output_type": "execute_result"
    }
   ],
   "source": [
    "f1_score(logit.predict(xtest),ytest)"
   ]
  },
  {
   "cell_type": "code",
   "execution_count": 133,
   "id": "geographic-stake",
   "metadata": {},
   "outputs": [],
   "source": [
    "df[['Q','S']]=pd.get_dummies(df['Embarked'],drop_first=True)"
   ]
  },
  {
   "cell_type": "code",
   "execution_count": 139,
   "id": "wireless-balance",
   "metadata": {},
   "outputs": [],
   "source": [
    "df.drop(columns=['PassengerId','Name','Cabin','Embarked','Ticket'],inplace=True)"
   ]
  },
  {
   "cell_type": "code",
   "execution_count": 145,
   "id": "german-federation",
   "metadata": {},
   "outputs": [
    {
     "data": {
      "text/plain": [
       "(array([ 17., 320., 129.,  53.,  43., 104.,  31.,  19.,   4.,  12.,  23.,\n",
       "         16.,   6.,  12.,  10.,  19.,  10.,   8.,   2.,   0.,   2.,   6.,\n",
       "          3.,   4.,   0.,   0.,   7.,   0.,   2.,   7.,   0.,   0.,   2.,\n",
       "          0.,   0.,   0.,   0.,   0.,   0.,   0.,   0.,   4.,   0.,   1.,\n",
       "          4.,   0.,   0.,   0.,   2.,   0.,   0.,   6.,   0.,   0.,   0.,\n",
       "          0.,   0.,   0.,   0.,   0.,   0.,   0.,   0.,   0.,   0.,   0.,\n",
       "          0.,   0.,   0.,   0.,   0.,   0.,   0.,   0.,   0.,   0.,   0.,\n",
       "          0.,   0.,   0.,   0.,   0.,   0.,   0.,   0.,   0.,   0.,   0.,\n",
       "          0.,   0.,   0.,   0.,   0.,   0.,   0.,   0.,   0.,   0.,   0.,\n",
       "          3.]),\n",
       " array([  0.      ,   5.123292,  10.246584,  15.369876,  20.493168,\n",
       "         25.61646 ,  30.739752,  35.863044,  40.986336,  46.109628,\n",
       "         51.23292 ,  56.356212,  61.479504,  66.602796,  71.726088,\n",
       "         76.84938 ,  81.972672,  87.095964,  92.219256,  97.342548,\n",
       "        102.46584 , 107.589132, 112.712424, 117.835716, 122.959008,\n",
       "        128.0823  , 133.205592, 138.328884, 143.452176, 148.575468,\n",
       "        153.69876 , 158.822052, 163.945344, 169.068636, 174.191928,\n",
       "        179.31522 , 184.438512, 189.561804, 194.685096, 199.808388,\n",
       "        204.93168 , 210.054972, 215.178264, 220.301556, 225.424848,\n",
       "        230.54814 , 235.671432, 240.794724, 245.918016, 251.041308,\n",
       "        256.1646  , 261.287892, 266.411184, 271.534476, 276.657768,\n",
       "        281.78106 , 286.904352, 292.027644, 297.150936, 302.274228,\n",
       "        307.39752 , 312.520812, 317.644104, 322.767396, 327.890688,\n",
       "        333.01398 , 338.137272, 343.260564, 348.383856, 353.507148,\n",
       "        358.63044 , 363.753732, 368.877024, 374.000316, 379.123608,\n",
       "        384.2469  , 389.370192, 394.493484, 399.616776, 404.740068,\n",
       "        409.86336 , 414.986652, 420.109944, 425.233236, 430.356528,\n",
       "        435.47982 , 440.603112, 445.726404, 450.849696, 455.972988,\n",
       "        461.09628 , 466.219572, 471.342864, 476.466156, 481.589448,\n",
       "        486.71274 , 491.836032, 496.959324, 502.082616, 507.205908,\n",
       "        512.3292  ]),\n",
       " <BarContainer object of 100 artists>)"
      ]
     },
     "execution_count": 145,
     "metadata": {},
     "output_type": "execute_result"
    },
    {
     "data": {
      "image/png": "[encoded data removed]",
      "text/plain": [
       "<Figure size 432x288 with 1 Axes>"
      ]
     },
     "metadata": {
      "needs_background": "light"
     },
     "output_type": "display_data"
    }
   ],
   "source": [
    "plt.hist(df['Fare'],bins=100)"
   ]
  },
  {
   "cell_type": "code",
   "execution_count": 170,
   "id": "aging-noise",
   "metadata": {},
   "outputs": [
    {
     "data": {
      "text/plain": [
       "array([[-5.02445171e-01],\n",
       "       [ 7.86845294e-01],\n",
       "       [-4.88854258e-01],\n",
       "       [ 4.20730236e-01],\n",
       "       [-4.86337422e-01],\n",
       "       [-4.78116429e-01],\n",
       "       [ 3.95813561e-01],\n",
       "       [-2.24083121e-01],\n",
       "       [-4.24256141e-01],\n",
       "       [-4.29555021e-02],\n",
       "       [-3.12172378e-01],\n",
       "       [-1.13845709e-01],\n",
       "       [-4.86337422e-01],\n",
       "       [-1.87093118e-02],\n",
       "       [-4.90279793e-01],\n",
       "       [-3.26266659e-01],\n",
       "       [-6.19988892e-02],\n",
       "       [-3.86670720e-01],\n",
       "       [-2.85997284e-01],\n",
       "       [-5.02948539e-01],\n",
       "       [-1.24919787e-01],\n",
       "       [-3.86670720e-01],\n",
       "       [-4.86756223e-01],\n",
       "       [ 6.63597416e-02],\n",
       "       [-2.24083121e-01],\n",
       "       [-1.64441595e-02],\n",
       "       [-5.02948539e-01],\n",
       "       [ 4.64700108e+00],\n",
       "       [-4.89776426e-01],\n",
       "       [-4.89442190e-01],\n",
       "       [-9.02720170e-02],\n",
       "       [ 2.30172882e+00],\n",
       "       [-4.92377828e-01],\n",
       "       [-4.37007438e-01],\n",
       "       [ 1.00606170e+00],\n",
       "       [ 3.98582080e-01],\n",
       "       [-5.02863973e-01],\n",
       "       [-4.86337422e-01],\n",
       "       [-2.85997284e-01],\n",
       "       [-4.22073541e-01],\n",
       "       [-4.57645492e-01],\n",
       "       [-2.25593223e-01],\n",
       "       [-4.89442190e-01],\n",
       "       [ 1.88762532e-01],\n",
       "       [-4.89776426e-01],\n",
       "       [-4.86337422e-01],\n",
       "       [-3.36334002e-01],\n",
       "       [-4.92377828e-01],\n",
       "       [-2.11917743e-01],\n",
       "       [-2.90024222e-01],\n",
       "       [ 1.50673744e-01],\n",
       "       [-4.91371093e-01],\n",
       "       [ 8.96496787e-01],\n",
       "       [-1.24919787e-01],\n",
       "       [ 5.99510151e-01],\n",
       "       [ 6.63597416e-02],\n",
       "       [-4.37007438e-01],\n",
       "       [-5.02863973e-01],\n",
       "       [-8.96840841e-02],\n",
       "       [ 2.95895176e-01],\n",
       "       [-5.02863973e-01],\n",
       "       [ 9.62353321e-01],\n",
       "       [ 1.03232136e+00],\n",
       "       [-8.66638810e-02],\n",
       "       [-9.02720170e-02],\n",
       "       [-3.41452240e-01],\n",
       "       [-4.37007438e-01],\n",
       "       [-4.84156835e-01],\n",
       "       [-4.88854258e-01],\n",
       "       [-4.74004926e-01],\n",
       "       [-4.37007438e-01],\n",
       "       [ 2.95895176e-01],\n",
       "       [ 8.31477855e-01],\n",
       "       [-3.57390858e-01],\n",
       "       [ 4.89103607e-01],\n",
       "       [-4.94391297e-01],\n",
       "       [-4.89442190e-01],\n",
       "       [-4.86337422e-01],\n",
       "       [-6.45157251e-02],\n",
       "       [-3.97241431e-01],\n",
       "       [-4.67209469e-01],\n",
       "       [-4.57142125e-01],\n",
       "       [-4.91622777e-01],\n",
       "       [ 2.99922113e-01],\n",
       "       [-4.37007438e-01],\n",
       "       [-3.29286862e-01],\n",
       "       [ 4.37082185e-02],\n",
       "       [-4.86337422e-01],\n",
       "       [ 4.64700108e+00],\n",
       "       [-4.86337422e-01],\n",
       "       [-4.86337422e-01],\n",
       "       [-4.90279793e-01],\n",
       "       [ 5.83317835e-01],\n",
       "       [-2.34150465e-01],\n",
       "       [-5.02445171e-01],\n",
       "       [-4.86337422e-01],\n",
       "       [ 4.93298232e-02],\n",
       "       [ 6.27277898e-01],\n",
       "       [-1.85323848e-01],\n",
       "       [-1.24919787e-01],\n",
       "       [-4.89442190e-01],\n",
       "       [-4.89442190e-01],\n",
       "       [ 9.07737982e-01],\n",
       "       [-4.74172044e-01],\n",
       "       [-4.88854258e-01],\n",
       "       [-4.89442190e-01],\n",
       "       [-4.94391297e-01],\n",
       "       [-4.91874461e-01],\n",
       "       [-4.89442190e-01],\n",
       "       [-1.62168958e-01],\n",
       "       [ 3.98582080e-01],\n",
       "       [-3.57390858e-01],\n",
       "       [-4.86337422e-01],\n",
       "       [-4.50598352e-01],\n",
       "       [-3.57308306e-01],\n",
       "       [-4.88854258e-01],\n",
       "       [-4.92377828e-01],\n",
       "       [-2.25593223e-01],\n",
       "       [ 4.33533223e+00],\n",
       "       [-1.87093118e-02],\n",
       "       [ 8.31477855e-01],\n",
       "       [-4.86337422e-01],\n",
       "       [-4.29555021e-02],\n",
       "       [-3.86670720e-01],\n",
       "       [ 9.07737982e-01],\n",
       "       [-4.22073541e-01],\n",
       "       [-4.92377828e-01],\n",
       "       [-5.04625758e-01],\n",
       "       [-1.98244277e-01],\n",
       "       [-5.07982210e-01],\n",
       "       [-4.89442190e-01],\n",
       "       [-5.06472109e-01],\n",
       "       [-3.56468689e-01],\n",
       "       [-1.24919787e-01],\n",
       "       [-3.86670720e-01],\n",
       "       [-3.45479177e-01],\n",
       "       [-1.19215630e-01],\n",
       "       [ 4.20730236e-01],\n",
       "       [-4.62846282e-01],\n",
       "       [ 9.46245572e-01],\n",
       "       [-3.41452240e-01],\n",
       "       [-4.92377828e-01],\n",
       "       [-3.29286862e-01],\n",
       "       [-5.12512515e-01],\n",
       "       [-4.16872751e-01],\n",
       "       [ 9.15281006e-02],\n",
       "       [-4.91455659e-01],\n",
       "       [ 4.37082185e-02],\n",
       "       [-1.24919787e-01],\n",
       "       [-3.86670720e-01],\n",
       "       [-3.96234697e-01],\n",
       "       [ 6.92548513e-01],\n",
       "       [-4.86337422e-01],\n",
       "       [-3.56468689e-01],\n",
       "       [-5.01186753e-01],\n",
       "       [ 5.87429338e-01],\n",
       "       [-4.92714077e-01],\n",
       "       [-4.86337422e-01],\n",
       "       [-4.74004926e-01],\n",
       "       [ 7.51945840e-01],\n",
       "       [-3.24253190e-01],\n",
       "       [-3.31300330e-01],\n",
       "       [-4.91874461e-01],\n",
       "       [-4.74004926e-01],\n",
       "       [ 1.50673744e-01],\n",
       "       [-2.35157199e-01],\n",
       "       [ 4.58986142e-01],\n",
       "       [-8.66638810e-02],\n",
       "       [-1.26429888e-01],\n",
       "       [ 4.89103607e-01],\n",
       "       [ 2.60903672e-02],\n",
       "       [-6.19988892e-02],\n",
       "       [-4.24256141e-01],\n",
       "       [-4.88854258e-01],\n",
       "       [-3.03713226e-02],\n",
       "       [-4.90279793e-01],\n",
       "       [-1.35657615e-01],\n",
       "       [-7.03044477e-02],\n",
       "       [-3.86670720e-01],\n",
       "       [-6.48421654e-01],\n",
       "       [ 7.51945840e-01],\n",
       "       [-3.45394611e-01],\n",
       "       [-1.64441595e-02],\n",
       "       [ 1.36831147e-01],\n",
       "       [-2.04955168e-01],\n",
       "       [ 3.58312706e-01],\n",
       "       [-3.36334002e-01],\n",
       "       [-1.13845709e-01],\n",
       "       [-3.36334002e-01],\n",
       "       [-4.89442190e-01],\n",
       "       [-3.86670720e-01],\n",
       "       [-3.86670720e-01],\n",
       "       [-4.90279793e-01],\n",
       "       [-1.24919787e-01],\n",
       "       [-9.02720170e-02],\n",
       "       [ 2.30172882e+00],\n",
       "       [-4.92377828e-01],\n",
       "       [-4.79205715e-01],\n",
       "       [-4.92377828e-01],\n",
       "       [-3.86670720e-01],\n",
       "       [-4.57142125e-01],\n",
       "       [ 7.51945840e-01],\n",
       "       [-5.17630753e-01],\n",
       "       [-5.02948539e-01],\n",
       "       [-4.86337422e-01],\n",
       "       [-4.37762489e-01],\n",
       "       [-3.29286862e-01],\n",
       "       [-2.70141218e-01],\n",
       "       [-4.92377828e-01],\n",
       "       [-2.42463508e-02],\n",
       "       [-5.06472109e-01],\n",
       "       [-2.25593223e-01],\n",
       "       [-5.02445171e-01],\n",
       "       [-3.86670720e-01],\n",
       "       [-4.92377828e-01],\n",
       "       [ 1.63233504e+00],\n",
       "       [-4.88854258e-01],\n",
       "       [-1.04785100e-01],\n",
       "       [ 8.87687861e-01],\n",
       "       [-4.37007438e-01],\n",
       "       [-4.86337422e-01],\n",
       "       [-3.86670720e-01],\n",
       "       [-4.86337422e-01],\n",
       "       [-4.89442190e-01],\n",
       "       [ 1.16370019e+00],\n",
       "       [-4.60162328e-01],\n",
       "       [-4.37007438e-01],\n",
       "       [-5.02445171e-01],\n",
       "       [-3.86670720e-01],\n",
       "       [-1.35657615e-01],\n",
       "       [ 1.03232136e+00],\n",
       "       [-4.91874461e-01],\n",
       "       [-3.76603377e-01],\n",
       "       [-1.64441595e-02],\n",
       "       [-4.37007438e-01],\n",
       "       [-4.96404765e-01],\n",
       "       [-1.24919787e-01],\n",
       "       [-1.19886115e-01],\n",
       "       [-4.37007438e-01],\n",
       "       [-4.01268368e-01],\n",
       "       [-3.57390858e-01],\n",
       "       [-3.36334002e-01],\n",
       "       [-4.37007438e-01],\n",
       "       [-5.04962007e-01],\n",
       "       [-5.02948539e-01],\n",
       "       [ 1.16370019e+00],\n",
       "       [-4.91874461e-01],\n",
       "       [-3.56468689e-01],\n",
       "       [ 4.09740724e-01],\n",
       "       [-1.24919787e-01],\n",
       "       [-5.02445171e-01],\n",
       "       [-4.37762489e-01],\n",
       "       [-1.13845709e-01],\n",
       "       [-3.24253190e-01],\n",
       "       [-2.41449289e-01],\n",
       "       [-3.41452240e-01],\n",
       "       [ 9.46245572e-01],\n",
       "       [ 1.09322879e+00],\n",
       "       [ 9.66716653e+00],\n",
       "       [-1.24919787e-01],\n",
       "       [-4.92377828e-01],\n",
       "       [-1.64441595e-02],\n",
       "       [ 9.55306181e-01],\n",
       "       [-6.48421654e-01],\n",
       "       [-4.92377828e-01],\n",
       "       [-4.37007438e-01],\n",
       "       [ 1.50673744e-01],\n",
       "       [-4.91874461e-01],\n",
       "       [ 2.44149778e+00],\n",
       "       [ 2.08251241e+00],\n",
       "       [-2.42463508e-02],\n",
       "       [-6.48421654e-01],\n",
       "       [-2.55795253e-01],\n",
       "       [-5.04214441e-02],\n",
       "       [-4.92377828e-01],\n",
       "       [ 9.21244331e-01],\n",
       "       [-4.92377828e-01],\n",
       "       [-6.48421654e-01],\n",
       "       [-6.19988892e-02],\n",
       "       [-2.40694238e-01],\n",
       "       [-4.92377828e-01],\n",
       "       [-4.90279793e-01],\n",
       "       [-4.57142125e-01],\n",
       "       [-4.86337422e-01],\n",
       "       [-1.24919787e-01],\n",
       "       [-4.74004926e-01],\n",
       "       [-4.57142125e-01],\n",
       "       [-4.89442190e-01],\n",
       "       [-3.86670720e-01],\n",
       "       [-4.92377828e-01],\n",
       "       [ 9.39198431e-01],\n",
       "       [ 1.18542955e+00],\n",
       "       [-3.89187556e-01],\n",
       "       [-4.70229672e-01],\n",
       "       [-4.89442190e-01],\n",
       "       [-9.02720170e-02],\n",
       "       [-5.02863973e-01],\n",
       "       [ 2.40299019e+00],\n",
       "       [-3.43136943e-02],\n",
       "       [ 4.33533223e+00],\n",
       "       [-4.92377828e-01],\n",
       "       [-1.80290176e-01],\n",
       "       [-6.48421654e-01],\n",
       "       [-3.99758267e-01],\n",
       "       [-4.86337422e-01],\n",
       "       [ 2.40299019e+00],\n",
       "       [ 1.58417891e+00],\n",
       "       [ 1.54424578e+00],\n",
       "       [-1.65189161e-01],\n",
       "       [ 4.97829980e-01],\n",
       "       [ 1.02594470e+00],\n",
       "       [ 4.63441690e+00],\n",
       "       [-1.24919787e-01],\n",
       "       [-4.89442190e-01],\n",
       "       [-1.19886115e-01],\n",
       "       [-4.90279793e-01],\n",
       "       [-1.24919787e-01],\n",
       "       [-3.66536033e-01],\n",
       "       [ 2.67111778e+00],\n",
       "       [ 2.05969377e+00],\n",
       "       [-5.02445171e-01],\n",
       "       [-4.89442190e-01],\n",
       "       [-3.99758267e-01],\n",
       "       [-6.45157251e-02],\n",
       "       [ 7.51945840e-01],\n",
       "       [ 2.08251241e+00],\n",
       "       [-5.22831542e-01],\n",
       "       [-3.86670720e-01],\n",
       "       [-2.35157199e-01],\n",
       "       [ 5.18971402e-01],\n",
       "       [-1.80290176e-01],\n",
       "       [-7.45830687e-02],\n",
       "       [ 2.44149778e+00],\n",
       "       [-2.85997284e-01],\n",
       "       [ 2.04257929e+00],\n",
       "       [-4.89442190e-01],\n",
       "       [ 6.92548513e-01],\n",
       "       [ 2.05969377e+00],\n",
       "       [-4.86337422e-01],\n",
       "       [ 6.63597416e-02],\n",
       "       [-1.24919787e-01],\n",
       "       [ 4.64700108e+00],\n",
       "       [-3.86670720e-01],\n",
       "       [-3.86670720e-01],\n",
       "       [-3.86670720e-01],\n",
       "       [-3.86670720e-01],\n",
       "       [-3.86670720e-01],\n",
       "       [-3.24253190e-01],\n",
       "       [-3.28280127e-01],\n",
       "       [-4.74004926e-01],\n",
       "       [-4.62679164e-01],\n",
       "       [ 5.62923980e-02],\n",
       "       [-5.02863973e-01],\n",
       "       [-2.90024222e-01],\n",
       "       [-5.02948539e-01],\n",
       "       [-4.57142125e-01],\n",
       "       [ 4.58986142e-01],\n",
       "       [-3.86670720e-01],\n",
       "       [-4.89776426e-01],\n",
       "       [-4.89776426e-01],\n",
       "       [-8.66638810e-02],\n",
       "       [-9.02720170e-02],\n",
       "       [-3.57390858e-01],\n",
       "       [-5.06472109e-01],\n",
       "       [-3.36334002e-01],\n",
       "       [-5.02445171e-01],\n",
       "       [ 8.66713557e-01],\n",
       "       [-5.02863973e-01],\n",
       "       [-4.92377828e-01],\n",
       "       [ 7.46912168e-01],\n",
       "       [ 4.67879633e-01],\n",
       "       [-5.17630753e-01],\n",
       "       [-4.86337422e-01],\n",
       "       [ 2.08251241e+00],\n",
       "       [-2.24083121e-01],\n",
       "       [ 1.00606170e+00],\n",
       "       [-5.02445171e-01],\n",
       "       [ 3.61006469e+00],\n",
       "       [-5.67631221e-01],\n",
       "       [-4.91874461e-01],\n",
       "       [ 3.93272305e+00],\n",
       "       [-3.31467448e-01],\n",
       "       [-4.88854258e-01],\n",
       "       [ 3.98582080e-01],\n",
       "       [-4.89442190e-01],\n",
       "       [ 8.31477855e-01],\n",
       "       [ 2.95895176e-01],\n",
       "       [-3.86670720e-01],\n",
       "       [-4.92796629e-01],\n",
       "       [-4.06805407e-01],\n",
       "       [ 1.76774081e+00],\n",
       "       [-4.91455659e-01],\n",
       "       [-4.88854258e-01],\n",
       "       [ 1.63233504e+00],\n",
       "       [-3.12172378e-01],\n",
       "       [-4.91455659e-01],\n",
       "       [-4.90279793e-01],\n",
       "       [-1.24919787e-01],\n",
       "       [-4.37007438e-01],\n",
       "       [-3.93717861e-01],\n",
       "       [-4.88854258e-01],\n",
       "       [-4.86337422e-01],\n",
       "       [-4.50598352e-01],\n",
       "       [-3.29286862e-01],\n",
       "       [-4.74004926e-01],\n",
       "       [-2.25593223e-01],\n",
       "       [-4.92377828e-01],\n",
       "       [-2.70896269e-01],\n",
       "       [-4.91874461e-01],\n",
       "       [-1.35657615e-01],\n",
       "       [-4.89442190e-01],\n",
       "       [-5.10331928e-01],\n",
       "       [ 1.16370019e+00],\n",
       "       [-6.48421654e-01],\n",
       "       [-4.88854258e-01],\n",
       "       [-4.86337422e-01],\n",
       "       [ 5.95568003e-03],\n",
       "       [-3.86670720e-01],\n",
       "       [-3.86670720e-01],\n",
       "       [-1.62168958e-01],\n",
       "       [-4.89442190e-01],\n",
       "       [-4.92714077e-01],\n",
       "       [-4.89860992e-01],\n",
       "       [-3.58482158e-01],\n",
       "       [-2.41449289e-01],\n",
       "       [-5.02445171e-01],\n",
       "       [-1.24919787e-01],\n",
       "       [-1.24919787e-01],\n",
       "       [-4.92377828e-01],\n",
       "       [-4.86337422e-01],\n",
       "       [-1.13845709e-01],\n",
       "       [-3.24253190e-01],\n",
       "       [-1.24919787e-01],\n",
       "       [-5.04962007e-01],\n",
       "       [ 4.77107360e-01],\n",
       "       [ 1.76774081e+00],\n",
       "       [ 4.37082185e-02],\n",
       "       [-2.70896269e-01],\n",
       "       [ 4.64700108e+00],\n",
       "       [-4.37007438e-01],\n",
       "       [-1.19886115e-01],\n",
       "       [-4.57142125e-01],\n",
       "       [-4.91874461e-01],\n",
       "       [-3.86670720e-01],\n",
       "       [-4.85079004e-01],\n",
       "       [ 9.99769611e-01],\n",
       "       [-2.55795253e-01],\n",
       "       [-1.13845709e-01],\n",
       "       [-2.60661807e-01],\n",
       "       [-3.43136943e-02],\n",
       "       [-8.96840841e-02],\n",
       "       [-2.46398395e-01],\n",
       "       [-8.96840841e-02],\n",
       "       [ 1.14566354e+00],\n",
       "       [-4.86337422e-01],\n",
       "       [-4.89442190e-01],\n",
       "       [-1.13845709e-01],\n",
       "       [ 3.95813561e-01],\n",
       "       [-4.37007438e-01],\n",
       "       [-4.92377828e-01],\n",
       "       [-1.13845709e-01],\n",
       "       [-4.86337422e-01],\n",
       "       [ 1.26763803e-01],\n",
       "       [-3.86670720e-01],\n",
       "       [-4.86337422e-01],\n",
       "       [-5.06472109e-01],\n",
       "       [-6.48421654e-01],\n",
       "       [-1.13845709e-01],\n",
       "       [-4.92881195e-01],\n",
       "       [-2.60661807e-01],\n",
       "       [-5.02445171e-01],\n",
       "       [-4.74004926e-01],\n",
       "       [-8.96840841e-02],\n",
       "       [-3.70730088e-01],\n",
       "       [-4.50346668e-01],\n",
       "       [ 3.98582080e-01],\n",
       "       [-2.25593223e-01],\n",
       "       [-5.06556675e-01],\n",
       "       [-4.96992698e-01],\n",
       "       [-4.01016685e-01],\n",
       "       [ 2.95895176e-01],\n",
       "       [-6.48421654e-01],\n",
       "       [-4.86337422e-01],\n",
       "       [-4.55380340e-01],\n",
       "       [ 1.18542955e+00],\n",
       "       [-1.35657615e-01],\n",
       "       [ 1.16370019e+00],\n",
       "       [-5.04214441e-02],\n",
       "       [-4.86337422e-01],\n",
       "       [-3.28280127e-01],\n",
       "       [-2.46398395e-01],\n",
       "       [-5.02445171e-01],\n",
       "       [-3.43136943e-02],\n",
       "       [ 3.48329928e-01],\n",
       "       [-4.86337422e-01],\n",
       "       [-3.57308306e-01],\n",
       "       [ 9.27453868e-01],\n",
       "       [-3.44387877e-01],\n",
       "       [ 2.40299019e+00],\n",
       "       [-4.91455659e-01],\n",
       "       [-4.74004926e-01],\n",
       "       [-4.92377828e-01],\n",
       "       [-4.94810098e-01],\n",
       "       [-4.55380340e-01],\n",
       "       [ 1.09322879e+00],\n",
       "       [ 1.54424578e+00],\n",
       "       [-1.24919787e-01],\n",
       "       [-1.13845709e-01],\n",
       "       [-1.94887825e-01],\n",
       "       [ 4.89103607e-01],\n",
       "       [-4.92377828e-01],\n",
       "       [-4.86337422e-01],\n",
       "       [-1.19131064e-01],\n",
       "       [ 5.47578765e-01],\n",
       "       [-4.97496065e-01],\n",
       "       [ 3.65765123e-02],\n",
       "       [-4.37007438e-01],\n",
       "       [-1.62168958e-01],\n",
       "       [-1.24919787e-01],\n",
       "       [-4.89442190e-01],\n",
       "       [ 1.23417160e+00],\n",
       "       [-4.89442190e-01],\n",
       "       [-5.02948539e-01],\n",
       "       [ 5.18971402e-01],\n",
       "       [-5.02863973e-01],\n",
       "       [-4.92377828e-01],\n",
       "       [-4.37007438e-01],\n",
       "       [ 3.81703316e+00],\n",
       "       [-4.88854258e-01],\n",
       "       [-4.16872751e-01],\n",
       "       [-1.24919787e-01],\n",
       "       [-5.02863973e-01],\n",
       "       [-5.02863973e-01],\n",
       "       [-1.98244277e-01],\n",
       "       [-4.74004926e-01],\n",
       "       [-1.19886115e-01],\n",
       "       [-1.13845709e-01],\n",
       "       [ 1.49441243e+00],\n",
       "       [-3.56468689e-01],\n",
       "       [ 3.48245362e-01],\n",
       "       [ 7.81141137e-01],\n",
       "       [-1.87093118e-02],\n",
       "       [-1.87093118e-02],\n",
       "       [-1.24919787e-01],\n",
       "       [ 1.49441243e+00],\n",
       "       [-1.24919787e-01],\n",
       "       [-1.24919787e-01],\n",
       "       [-3.69304552e-01],\n",
       "       [-2.35157199e-01],\n",
       "       [ 9.15281006e-02],\n",
       "       [ 1.58417891e+00],\n",
       "       [-1.24919787e-01],\n",
       "       [-4.90783161e-01],\n",
       "       [-5.02948539e-01],\n",
       "       [-4.91874461e-01],\n",
       "       [-1.13845709e-01],\n",
       "       [ 1.48911959e-01],\n",
       "       [ 3.93272305e+00],\n",
       "       [ 9.55306181e-01],\n",
       "       [-2.98078096e-01],\n",
       "       [-4.92377828e-01],\n",
       "       [-4.89442190e-01],\n",
       "       [-3.76603377e-01],\n",
       "       [-4.86337422e-01],\n",
       "       [-4.86337422e-01],\n",
       "       [-1.62168958e-01],\n",
       "       [-4.89442190e-01],\n",
       "       [-2.24083121e-01],\n",
       "       [-5.02863973e-01],\n",
       "       [-4.90279793e-01],\n",
       "       [-4.37007438e-01],\n",
       "       [ 3.88095935e-01],\n",
       "       [-1.17117595e-01],\n",
       "       [-4.92377828e-01],\n",
       "       [-4.86337422e-01],\n",
       "       [-3.56468689e-01],\n",
       "       [-3.86670720e-01],\n",
       "       [ 4.77107360e-01],\n",
       "       [-3.57308306e-01],\n",
       "       [-4.88854258e-01],\n",
       "       [-4.43810379e-02],\n",
       "       [ 1.58417891e+00],\n",
       "       [-1.24919787e-01],\n",
       "       [ 1.59482670e-01],\n",
       "       [-4.72998191e-01],\n",
       "       [ 9.55306181e-01],\n",
       "       [-3.46401346e-01],\n",
       "       [ 9.46245572e-01],\n",
       "       [-4.86337422e-01],\n",
       "       [-4.86337422e-01],\n",
       "       [-5.04962007e-01],\n",
       "       [ 9.27453868e-01],\n",
       "       [-5.02445171e-01],\n",
       "       [-4.92377828e-01],\n",
       "       [-1.24919787e-01],\n",
       "       [-1.62168958e-01],\n",
       "       [ 1.60230236e-02],\n",
       "       [-6.48421654e-01],\n",
       "       [-5.02948539e-01],\n",
       "       [ 4.97829980e-01],\n",
       "       [-1.04785100e-01],\n",
       "       [-4.89442190e-01],\n",
       "       [ 2.05289083e-01],\n",
       "       [-4.86337422e-01],\n",
       "       [-1.13845709e-01],\n",
       "       [-3.35327268e-01],\n",
       "       [-4.89442190e-01],\n",
       "       [-3.43136943e-02],\n",
       "       [ 1.88762532e-01],\n",
       "       [ 2.44149778e+00],\n",
       "       [-1.87093118e-02],\n",
       "       [-5.06472109e-01],\n",
       "       [-3.36334002e-01],\n",
       "       [-4.92377828e-01],\n",
       "       [-4.86337422e-01],\n",
       "       [ 6.60333014e-01],\n",
       "       [-3.58482158e-01],\n",
       "       [-3.24253190e-01],\n",
       "       [ 1.36831147e-01],\n",
       "       [-4.37007438e-01],\n",
       "       [-3.57390858e-01],\n",
       "       [ 4.09740724e-01],\n",
       "       [-3.31467448e-01],\n",
       "       [-4.90279793e-01],\n",
       "       [-3.24253190e-01],\n",
       "       [ 2.34754408e-03],\n",
       "       [-3.99758267e-01],\n",
       "       [ 9.21244331e-01],\n",
       "       [-4.89442190e-01],\n",
       "       [-4.92714077e-01],\n",
       "       [-4.43810379e-02],\n",
       "       [-5.06387543e-01],\n",
       "       [-3.43136943e-02],\n",
       "       [-6.48421654e-01],\n",
       "       [-8.66638810e-02],\n",
       "       [-3.86670720e-01],\n",
       "       [-4.88854258e-01],\n",
       "       [-1.19886115e-01],\n",
       "       [ 1.50673744e-01],\n",
       "       [-3.24253190e-01],\n",
       "       [-4.90279793e-01],\n",
       "       [ 7.46912168e-01],\n",
       "       [-8.66638810e-02],\n",
       "       [ 4.89103607e-01],\n",
       "       [-2.60661807e-01],\n",
       "       [ 8.96496787e-01],\n",
       "       [-4.89442190e-01],\n",
       "       [ 6.63597416e-02],\n",
       "       [-4.96404765e-01],\n",
       "       [-4.96404765e-01],\n",
       "       [-4.89442190e-01],\n",
       "       [-1.85323848e-01],\n",
       "       [-4.78619796e-01],\n",
       "       [-4.90783161e-01],\n",
       "       [-5.12512515e-01],\n",
       "       [ 8.31477855e-01],\n",
       "       [-4.89442190e-01],\n",
       "       [-3.36334002e-01],\n",
       "       [-3.86670720e-01],\n",
       "       [ 1.63233504e+00],\n",
       "       [ 2.04257929e+00],\n",
       "       [-5.02948539e-01],\n",
       "       [-1.33225345e-01],\n",
       "       [-4.97496065e-01],\n",
       "       [-4.88854258e-01],\n",
       "       [ 8.31477855e-01],\n",
       "       [-3.86670720e-01],\n",
       "       [-4.91874461e-01],\n",
       "       [-4.86337422e-01],\n",
       "       [ 3.98582080e-01],\n",
       "       [ 1.36831147e-01],\n",
       "       [ 3.98582080e-01],\n",
       "       [-4.37007438e-01],\n",
       "       [-3.86670720e-01],\n",
       "       [-6.48421654e-01],\n",
       "       [-4.91874461e-01],\n",
       "       [-4.86337422e-01],\n",
       "       [-4.50262103e-01],\n",
       "       [ 2.95895176e-01],\n",
       "       [ 9.66716653e+00],\n",
       "       [-4.84575637e-01],\n",
       "       [ 8.96496787e-01],\n",
       "       [-4.62679164e-01],\n",
       "       [ 2.95895176e-01],\n",
       "       [ 1.36831147e-01],\n",
       "       [ 1.88762532e-01],\n",
       "       [ 1.50673744e-01],\n",
       "       [-4.43635777e-01],\n",
       "       [-4.91455659e-01],\n",
       "       [ 3.60679280e+00],\n",
       "       [ 4.99255516e-01],\n",
       "       [-3.78280596e-01],\n",
       "       [ 4.89103607e-01],\n",
       "       [-5.02948539e-01],\n",
       "       [-1.13845709e-01],\n",
       "       [-3.76603377e-01],\n",
       "       [-4.86337422e-01],\n",
       "       [-4.92714077e-01],\n",
       "       [ 1.58417891e+00],\n",
       "       [-4.94391297e-01],\n",
       "       [ 3.93272305e+00],\n",
       "       [-1.19131064e-01],\n",
       "       [-3.57390858e-01],\n",
       "       [-4.92544946e-01],\n",
       "       [-4.90279793e-01],\n",
       "       [-1.24919787e-01],\n",
       "       [-3.76603377e-01],\n",
       "       [-1.19131064e-01],\n",
       "       [ 2.40299019e+00],\n",
       "       [-3.41452240e-01],\n",
       "       [ 3.48329928e-01],\n",
       "       [-1.13845709e-01],\n",
       "       [ 3.98582080e-01],\n",
       "       [-4.57478375e-01],\n",
       "       [-3.86670720e-01],\n",
       "       [-4.94391297e-01],\n",
       "       [ 3.93272305e+00],\n",
       "       [-4.37007438e-01],\n",
       "       [-3.36334002e-01],\n",
       "       [-4.91874461e-01],\n",
       "       [ 1.60230236e-02],\n",
       "       [-5.06387543e-01],\n",
       "       [-3.86670720e-01],\n",
       "       [-3.86670720e-01],\n",
       "       [ 4.20730236e-01],\n",
       "       [-4.74004926e-01],\n",
       "       [-2.25593223e-01],\n",
       "       [-4.92629511e-01],\n",
       "       [-1.24919787e-01],\n",
       "       [-4.88854258e-01],\n",
       "       [ 3.60679280e+00],\n",
       "       [-2.70141218e-01],\n",
       "       [-6.48421654e-01],\n",
       "       [-3.86670720e-01],\n",
       "       [-3.86670720e-01],\n",
       "       [-3.24253190e-01],\n",
       "       [ 4.37082185e-02],\n",
       "       [ 9.66716653e+00],\n",
       "       [-4.89442190e-01],\n",
       "       [-4.89442190e-01],\n",
       "       [-4.43810379e-02],\n",
       "       [ 9.39198431e-01],\n",
       "       [ 4.63441690e+00],\n",
       "       [-3.24253190e-01],\n",
       "       [-4.88854258e-01],\n",
       "       [ 7.81141137e-01],\n",
       "       [-2.40694238e-01],\n",
       "       [-3.86670720e-01],\n",
       "       [ 4.20730236e-01],\n",
       "       [-4.92377828e-01],\n",
       "       [-1.85323848e-01],\n",
       "       [-3.97241431e-01],\n",
       "       [-4.57142125e-01],\n",
       "       [-4.89442190e-01],\n",
       "       [ 6.60333014e-01],\n",
       "       [-3.56468689e-01],\n",
       "       [-4.91455659e-01],\n",
       "       [-4.16872751e-01],\n",
       "       [-4.86337422e-01],\n",
       "       [ 1.09322879e+00],\n",
       "       [-3.56468689e-01],\n",
       "       [-5.04962007e-01],\n",
       "       [-5.02863973e-01],\n",
       "       [ 1.76774081e+00],\n",
       "       [-4.91874461e-01],\n",
       "       [ 9.21244331e-01],\n",
       "       [ 1.48911959e-01],\n",
       "       [-4.92377828e-01],\n",
       "       [-1.62168958e-01],\n",
       "       [-4.80045332e-01],\n",
       "       [-4.57142125e-01],\n",
       "       [-4.90279793e-01],\n",
       "       [-4.37007438e-01],\n",
       "       [-5.02948539e-01],\n",
       "       [-1.85323848e-01],\n",
       "       [-4.92377828e-01],\n",
       "       [-4.92377828e-01],\n",
       "       [-3.97241431e-01],\n",
       "       [-4.92629511e-01],\n",
       "       [ 3.60679280e+00],\n",
       "       [-5.02863973e-01],\n",
       "       [ 4.99255516e-01],\n",
       "       [-4.43810379e-02],\n",
       "       [-1.76263239e-01],\n",
       "       [-5.06472109e-01],\n",
       "       [-5.02445171e-01],\n",
       "       [-4.97496065e-01],\n",
       "       [-6.19988892e-02],\n",
       "       [-2.34150465e-01],\n",
       "       [ 9.46245572e-01],\n",
       "       [-4.92377828e-01],\n",
       "       [-1.24919787e-01],\n",
       "       [ 7.51945840e-01],\n",
       "       [-3.03713226e-02],\n",
       "       [-4.89442190e-01],\n",
       "       [-3.86670720e-01],\n",
       "       [-1.26345323e-01],\n",
       "       [-4.73586124e-01],\n",
       "       [-5.02863973e-01],\n",
       "       [-1.62168958e-01],\n",
       "       [-3.86670720e-01],\n",
       "       [-1.19886115e-01],\n",
       "       [ 1.76774081e+00],\n",
       "       [-4.76940563e-01],\n",
       "       [-5.07982210e-01],\n",
       "       [-4.91874461e-01],\n",
       "       [-6.48421654e-01],\n",
       "       [-4.91874461e-01],\n",
       "       [-3.86670720e-01],\n",
       "       [ 4.20730236e-01],\n",
       "       [-4.89609308e-01],\n",
       "       [-1.62168958e-01],\n",
       "       [-4.37007438e-01],\n",
       "       [-1.87093118e-02],\n",
       "       [-4.86337422e-01],\n",
       "       [-6.48421654e-01],\n",
       "       [-4.88854258e-01],\n",
       "       [ 9.66463381e-02],\n",
       "       [-5.18552921e-01],\n",
       "       [-8.66638810e-02],\n",
       "       [ 1.23417160e+00],\n",
       "       [-4.74004926e-01],\n",
       "       [-6.48421654e-01],\n",
       "       [-3.97241431e-01],\n",
       "       [ 1.50673744e-01],\n",
       "       [-5.08485578e-01],\n",
       "       [ 4.89103607e-01],\n",
       "       [ 9.66463381e-02],\n",
       "       [-4.92377828e-01],\n",
       "       [ 9.62353321e-01],\n",
       "       [-3.57390858e-01],\n",
       "       [-2.70896269e-01],\n",
       "       [-5.02863973e-01],\n",
       "       [-4.90279793e-01],\n",
       "       [-4.81303750e-01],\n",
       "       [ 1.02594470e+00],\n",
       "       [-4.74004926e-01],\n",
       "       [-4.86337422e-01],\n",
       "       [ 4.89103607e-01],\n",
       "       [-5.04214441e-02],\n",
       "       [-4.88854258e-01],\n",
       "       [-4.37007438e-01],\n",
       "       [-2.42463508e-02],\n",
       "       [-5.18804605e-01],\n",
       "       [-4.74004926e-01],\n",
       "       [-4.96404765e-01],\n",
       "       [ 7.51945840e-01],\n",
       "       [-4.89442190e-01],\n",
       "       [ 1.60230236e-02],\n",
       "       [ 1.14566354e+00],\n",
       "       [-1.87093118e-02],\n",
       "       [-4.91874461e-01],\n",
       "       [-3.41452240e-01],\n",
       "       [ 1.44885022e-01],\n",
       "       [-1.24919787e-01],\n",
       "       [-4.60162328e-01],\n",
       "       [ 2.67111778e+00],\n",
       "       [-1.13845709e-01],\n",
       "       [-2.60661807e-01],\n",
       "       [-5.02863973e-01],\n",
       "       [-3.64355446e-01],\n",
       "       [-4.16872751e-01],\n",
       "       [-1.26345323e-01],\n",
       "       [ 7.51945840e-01],\n",
       "       [-3.86670720e-01],\n",
       "       [-3.86670720e-01],\n",
       "       [-3.69389118e-01],\n",
       "       [ 3.68295484e-01],\n",
       "       [-4.57142125e-01],\n",
       "       [-4.24256141e-01],\n",
       "       [-4.89442190e-01],\n",
       "       [ 4.09740724e-01],\n",
       "       [-5.47748218e-01],\n",
       "       [-4.67209469e-01],\n",
       "       [-1.65189161e-01],\n",
       "       [-5.02948539e-01],\n",
       "       [-4.50179550e-01],\n",
       "       [-4.89442190e-01],\n",
       "       [-4.89442190e-01],\n",
       "       [ 1.02594470e+00],\n",
       "       [-1.24919787e-01],\n",
       "       [-4.89442190e-01],\n",
       "       [-4.36671189e-01],\n",
       "       [-4.37007438e-01],\n",
       "       [-5.06472109e-01],\n",
       "       [-6.19988892e-02],\n",
       "       [-3.86670720e-01],\n",
       "       [-4.43810379e-02],\n",
       "       [-1.76263239e-01],\n",
       "       [-4.43810379e-02],\n",
       "       [-4.92377828e-01]])"
      ]
     },
     "execution_count": 170,
     "metadata": {},
     "output_type": "execute_result"
    }
   ],
   "source": [
    "from sklearn.preprocessing import StandardScaler\n",
    "scale=StandardScaler()\n",
    "scale.fit_transform(df['Fare'].values.reshape(-1,1))"
   ]
  },
  {
   "cell_type": "code",
   "execution_count": 154,
   "id": "ordinary-carol",
   "metadata": {},
   "outputs": [
    {
     "data": {
      "text/html": [
       "<div>\n",
       "<style scoped>\n",
       "    .dataframe tbody tr th:only-of-type {\n",
       "        vertical-align: middle;\n",
       "    }\n",
       "\n",
       "    .dataframe tbody tr th {\n",
       "        vertical-align: top;\n",
       "    }\n",
       "\n",
       "    .dataframe thead th {\n",
       "        text-align: right;\n",
       "    }\n",
       "</style>\n",
       "<table border=\"1\" class=\"dataframe\">\n",
       "  <thead>\n",
       "    <tr style=\"text-align: right;\">\n",
       "      <th></th>\n",
       "      <th>Fare</th>\n",
       "    </tr>\n",
       "  </thead>\n",
       "  <tbody>\n",
       "    <tr>\n",
       "      <th>0</th>\n",
       "      <td>7.2500</td>\n",
       "    </tr>\n",
       "    <tr>\n",
       "      <th>1</th>\n",
       "      <td>71.2833</td>\n",
       "    </tr>\n",
       "    <tr>\n",
       "      <th>2</th>\n",
       "      <td>7.9250</td>\n",
       "    </tr>\n",
       "    <tr>\n",
       "      <th>3</th>\n",
       "      <td>53.1000</td>\n",
       "    </tr>\n",
       "    <tr>\n",
       "      <th>4</th>\n",
       "      <td>8.0500</td>\n",
       "    </tr>\n",
       "    <tr>\n",
       "      <th>...</th>\n",
       "      <td>...</td>\n",
       "    </tr>\n",
       "    <tr>\n",
       "      <th>886</th>\n",
       "      <td>13.0000</td>\n",
       "    </tr>\n",
       "    <tr>\n",
       "      <th>887</th>\n",
       "      <td>30.0000</td>\n",
       "    </tr>\n",
       "    <tr>\n",
       "      <th>888</th>\n",
       "      <td>23.4500</td>\n",
       "    </tr>\n",
       "    <tr>\n",
       "      <th>889</th>\n",
       "      <td>30.0000</td>\n",
       "    </tr>\n",
       "    <tr>\n",
       "      <th>890</th>\n",
       "      <td>7.7500</td>\n",
       "    </tr>\n",
       "  </tbody>\n",
       "</table>\n",
       "<p>891 rows × 1 columns</p>\n",
       "</div>"
      ],
      "text/plain": [
       "        Fare\n",
       "0     7.2500\n",
       "1    71.2833\n",
       "2     7.9250\n",
       "3    53.1000\n",
       "4     8.0500\n",
       "..       ...\n",
       "886  13.0000\n",
       "887  30.0000\n",
       "888  23.4500\n",
       "889  30.0000\n",
       "890   7.7500\n",
       "\n",
       "[891 rows x 1 columns]"
      ]
     },
     "execution_count": 154,
     "metadata": {},
     "output_type": "execute_result"
    }
   ],
   "source": [
    "x=df[['Fare']]\n",
    "x"
   ]
  },
  {
   "cell_type": "code",
   "execution_count": 166,
   "id": "legislative-antibody",
   "metadata": {},
   "outputs": [],
   "source": [
    "xtrain,xtest,ytrain,ytest=train_test_split(x,y)"
   ]
  },
  {
   "cell_type": "code",
   "execution_count": 156,
   "id": "accomplished-ferry",
   "metadata": {},
   "outputs": [],
   "source": [
    "fare=LogisticRegression()"
   ]
  },
  {
   "cell_type": "code",
   "execution_count": 167,
   "id": "objective-tokyo",
   "metadata": {},
   "outputs": [
    {
     "data": {
      "text/plain": [
       "LogisticRegression()"
      ]
     },
     "execution_count": 167,
     "metadata": {},
     "output_type": "execute_result"
    }
   ],
   "source": [
    "fare.fit(xtrain,ytrain)"
   ]
  },
  {
   "cell_type": "code",
   "execution_count": 168,
   "id": "annual-ottawa",
   "metadata": {},
   "outputs": [
    {
     "data": {
      "text/plain": [
       "0.3619047619047619"
      ]
     },
     "execution_count": 168,
     "metadata": {},
     "output_type": "execute_result"
    }
   ],
   "source": [
    "f1_score(fare.predict(xtest),ytest)"
   ]
  },
  {
   "cell_type": "code",
   "execution_count": 171,
   "id": "composite-malawi",
   "metadata": {},
   "outputs": [],
   "source": [
    "x=scale.fit_transform(df['Fare'].values.reshape(-1,1))"
   ]
  },
  {
   "cell_type": "code",
   "execution_count": 172,
   "id": "civil-party",
   "metadata": {},
   "outputs": [],
   "source": [
    "farestand=LogisticRegression()"
   ]
  },
  {
   "cell_type": "code",
   "execution_count": 191,
   "id": "rational-unknown",
   "metadata": {},
   "outputs": [],
   "source": [
    "xtrain,xtest,ytrain,ytest=train_test_split(x,y)"
   ]
  },
  {
   "cell_type": "code",
   "execution_count": 192,
   "id": "broadband-lebanon",
   "metadata": {},
   "outputs": [
    {
     "data": {
      "text/plain": [
       "LogisticRegression()"
      ]
     },
     "execution_count": 192,
     "metadata": {},
     "output_type": "execute_result"
    }
   ],
   "source": [
    "farestand.fit(xtrain,ytrain)"
   ]
  },
  {
   "cell_type": "code",
   "execution_count": 193,
   "id": "described-figure",
   "metadata": {},
   "outputs": [
    {
     "data": {
      "text/plain": [
       "0.3238095238095238"
      ]
     },
     "execution_count": 193,
     "metadata": {},
     "output_type": "execute_result"
    }
   ],
   "source": [
    "f1_score(farestand.predict(xtest),ytest)"
   ]
  },
  {
   "cell_type": "code",
   "execution_count": 211,
   "id": "billion-wednesday",
   "metadata": {},
   "outputs": [],
   "source": [
    "from sklearn.preprocessing import KBinsDiscretizer\n",
    "disc=KBinsDiscretizer(encode='ordinal').fit_transform(df['Fare'].values.reshape(-1,1))"
   ]
  },
  {
   "cell_type": "code",
   "execution_count": 214,
   "id": "choice-aaron",
   "metadata": {},
   "outputs": [],
   "source": [
    "disc=disc.reshape(-1)"
   ]
  },
  {
   "cell_type": "code",
   "execution_count": 216,
   "id": "stuck-dubai",
   "metadata": {},
   "outputs": [],
   "source": [
    "df['Fare']=disc"
   ]
  },
  {
   "cell_type": "code",
   "execution_count": 222,
   "id": "brilliant-class",
   "metadata": {},
   "outputs": [],
   "source": [
    "x=df[['Fare']]"
   ]
  },
  {
   "cell_type": "code",
   "execution_count": 223,
   "id": "conscious-portfolio",
   "metadata": {},
   "outputs": [],
   "source": [
    "kbin=LogisticRegression()"
   ]
  },
  {
   "cell_type": "code",
   "execution_count": 257,
   "id": "monthly-louisiana",
   "metadata": {},
   "outputs": [],
   "source": [
    "xtrain,xtest,ytrain,ytest=train_test_split(x,y)"
   ]
  },
  {
   "cell_type": "code",
   "execution_count": 258,
   "id": "heated-major",
   "metadata": {},
   "outputs": [
    {
     "data": {
      "text/plain": [
       "LogisticRegression()"
      ]
     },
     "execution_count": 258,
     "metadata": {},
     "output_type": "execute_result"
    }
   ],
   "source": [
    "kbin.fit(xtrain,ytrain)"
   ]
  },
  {
   "cell_type": "code",
   "execution_count": 260,
   "id": "coordinate-guinea",
   "metadata": {},
   "outputs": [
    {
     "data": {
      "text/plain": [
       "0.46715328467153283"
      ]
     },
     "execution_count": 260,
     "metadata": {},
     "output_type": "execute_result"
    }
   ],
   "source": [
    "f1_score(kbin.predict(xtest),ytest)"
   ]
  },
  {
   "cell_type": "code",
   "execution_count": 270,
   "id": "following-mills",
   "metadata": {},
   "outputs": [],
   "source": [
    "trainx=df[df['Age'].isnull()==False].drop('Age',axis=1)"
   ]
  },
  {
   "cell_type": "code",
   "execution_count": 273,
   "id": "dried-indie",
   "metadata": {},
   "outputs": [],
   "source": [
    "trainy=df[df['Age'].isnull()==False]['Age']"
   ]
  },
  {
   "cell_type": "code",
   "execution_count": 274,
   "id": "controversial-elizabeth",
   "metadata": {},
   "outputs": [
    {
     "data": {
      "text/html": [
       "<div>\n",
       "<style scoped>\n",
       "    .dataframe tbody tr th:only-of-type {\n",
       "        vertical-align: middle;\n",
       "    }\n",
       "\n",
       "    .dataframe tbody tr th {\n",
       "        vertical-align: top;\n",
       "    }\n",
       "\n",
       "    .dataframe thead th {\n",
       "        text-align: right;\n",
       "    }\n",
       "</style>\n",
       "<table border=\"1\" class=\"dataframe\">\n",
       "  <thead>\n",
       "    <tr style=\"text-align: right;\">\n",
       "      <th></th>\n",
       "      <th>Survived</th>\n",
       "      <th>Pclass</th>\n",
       "      <th>Sex</th>\n",
       "      <th>SibSp</th>\n",
       "      <th>Parch</th>\n",
       "      <th>Fare</th>\n",
       "      <th>Q</th>\n",
       "      <th>S</th>\n",
       "    </tr>\n",
       "  </thead>\n",
       "  <tbody>\n",
       "    <tr>\n",
       "      <th>5</th>\n",
       "      <td>0</td>\n",
       "      <td>3</td>\n",
       "      <td>0</td>\n",
       "      <td>0</td>\n",
       "      <td>0</td>\n",
       "      <td>1.0</td>\n",
       "      <td>1</td>\n",
       "      <td>0</td>\n",
       "    </tr>\n",
       "    <tr>\n",
       "      <th>17</th>\n",
       "      <td>1</td>\n",
       "      <td>2</td>\n",
       "      <td>0</td>\n",
       "      <td>0</td>\n",
       "      <td>0</td>\n",
       "      <td>2.0</td>\n",
       "      <td>0</td>\n",
       "      <td>1</td>\n",
       "    </tr>\n",
       "    <tr>\n",
       "      <th>19</th>\n",
       "      <td>1</td>\n",
       "      <td>3</td>\n",
       "      <td>1</td>\n",
       "      <td>0</td>\n",
       "      <td>0</td>\n",
       "      <td>0.0</td>\n",
       "      <td>0</td>\n",
       "      <td>0</td>\n",
       "    </tr>\n",
       "    <tr>\n",
       "      <th>26</th>\n",
       "      <td>0</td>\n",
       "      <td>3</td>\n",
       "      <td>0</td>\n",
       "      <td>0</td>\n",
       "      <td>0</td>\n",
       "      <td>0.0</td>\n",
       "      <td>0</td>\n",
       "      <td>0</td>\n",
       "    </tr>\n",
       "    <tr>\n",
       "      <th>28</th>\n",
       "      <td>1</td>\n",
       "      <td>3</td>\n",
       "      <td>1</td>\n",
       "      <td>0</td>\n",
       "      <td>0</td>\n",
       "      <td>1.0</td>\n",
       "      <td>1</td>\n",
       "      <td>0</td>\n",
       "    </tr>\n",
       "    <tr>\n",
       "      <th>...</th>\n",
       "      <td>...</td>\n",
       "      <td>...</td>\n",
       "      <td>...</td>\n",
       "      <td>...</td>\n",
       "      <td>...</td>\n",
       "      <td>...</td>\n",
       "      <td>...</td>\n",
       "      <td>...</td>\n",
       "    </tr>\n",
       "    <tr>\n",
       "      <th>859</th>\n",
       "      <td>0</td>\n",
       "      <td>3</td>\n",
       "      <td>0</td>\n",
       "      <td>0</td>\n",
       "      <td>0</td>\n",
       "      <td>0.0</td>\n",
       "      <td>0</td>\n",
       "      <td>0</td>\n",
       "    </tr>\n",
       "    <tr>\n",
       "      <th>863</th>\n",
       "      <td>0</td>\n",
       "      <td>3</td>\n",
       "      <td>1</td>\n",
       "      <td>8</td>\n",
       "      <td>2</td>\n",
       "      <td>4.0</td>\n",
       "      <td>0</td>\n",
       "      <td>1</td>\n",
       "    </tr>\n",
       "    <tr>\n",
       "      <th>868</th>\n",
       "      <td>0</td>\n",
       "      <td>3</td>\n",
       "      <td>0</td>\n",
       "      <td>0</td>\n",
       "      <td>0</td>\n",
       "      <td>1.0</td>\n",
       "      <td>0</td>\n",
       "      <td>1</td>\n",
       "    </tr>\n",
       "    <tr>\n",
       "      <th>878</th>\n",
       "      <td>0</td>\n",
       "      <td>3</td>\n",
       "      <td>0</td>\n",
       "      <td>0</td>\n",
       "      <td>0</td>\n",
       "      <td>1.0</td>\n",
       "      <td>0</td>\n",
       "      <td>1</td>\n",
       "    </tr>\n",
       "    <tr>\n",
       "      <th>888</th>\n",
       "      <td>0</td>\n",
       "      <td>3</td>\n",
       "      <td>1</td>\n",
       "      <td>1</td>\n",
       "      <td>2</td>\n",
       "      <td>3.0</td>\n",
       "      <td>0</td>\n",
       "      <td>1</td>\n",
       "    </tr>\n",
       "  </tbody>\n",
       "</table>\n",
       "<p>177 rows × 8 columns</p>\n",
       "</div>"
      ],
      "text/plain": [
       "     Survived  Pclass  Sex  SibSp  Parch  Fare  Q  S\n",
       "5           0       3    0      0      0   1.0  1  0\n",
       "17          1       2    0      0      0   2.0  0  1\n",
       "19          1       3    1      0      0   0.0  0  0\n",
       "26          0       3    0      0      0   0.0  0  0\n",
       "28          1       3    1      0      0   1.0  1  0\n",
       "..        ...     ...  ...    ...    ...   ... .. ..\n",
       "859         0       3    0      0      0   0.0  0  0\n",
       "863         0       3    1      8      2   4.0  0  1\n",
       "868         0       3    0      0      0   1.0  0  1\n",
       "878         0       3    0      0      0   1.0  0  1\n",
       "888         0       3    1      1      2   3.0  0  1\n",
       "\n",
       "[177 rows x 8 columns]"
      ]
     },
     "execution_count": 274,
     "metadata": {},
     "output_type": "execute_result"
    }
   ],
   "source": [
    "testx=df[df['Age'].isnull()==True].drop('Age',axis=1)\n",
    "testx"
   ]
  },
  {
   "cell_type": "code",
   "execution_count": 278,
   "id": "motivated-april",
   "metadata": {},
   "outputs": [
    {
     "data": {
      "text/plain": [
       "5     NaN\n",
       "17    NaN\n",
       "19    NaN\n",
       "26    NaN\n",
       "28    NaN\n",
       "       ..\n",
       "859   NaN\n",
       "863   NaN\n",
       "868   NaN\n",
       "878   NaN\n",
       "888   NaN\n",
       "Name: Age, Length: 177, dtype: float64"
      ]
     },
     "execution_count": 278,
     "metadata": {},
     "output_type": "execute_result"
    }
   ],
   "source": [
    "testy=df[df['Age'].isnull()==True]['Age']\n",
    "testy"
   ]
  },
  {
   "cell_type": "code",
   "execution_count": 279,
   "id": "auburn-vegetarian",
   "metadata": {},
   "outputs": [],
   "source": [
    "from sklearn.linear_model import LinearRegression"
   ]
  },
  {
   "cell_type": "code",
   "execution_count": 280,
   "id": "tight-reader",
   "metadata": {},
   "outputs": [],
   "source": [
    "age=LinearRegression()"
   ]
  },
  {
   "cell_type": "code",
   "execution_count": 281,
   "id": "painted-interference",
   "metadata": {},
   "outputs": [
    {
     "data": {
      "text/plain": [
       "LinearRegression()"
      ]
     },
     "execution_count": 281,
     "metadata": {},
     "output_type": "execute_result"
    }
   ],
   "source": [
    "age.fit(trainx,trainy)"
   ]
  },
  {
   "cell_type": "code",
   "execution_count": 296,
   "id": "rising-brook",
   "metadata": {},
   "outputs": [
    {
     "data": {
      "text/plain": [
       "array([32., 30., 21., 28., 25., 29., 32., 25., 21., 27., 29., 27., 25.,\n",
       "       19., 38., 43., 15., 29., 29., 25., 29., 29., 29., 23., 20., 29.,\n",
       "       32., 15., 26., 29., 29., -6., 37., 45., 16., -5., 35., 45., 21.,\n",
       "       32., 25., -6., 28., 29., 16., 30., 23., 21., 29., 36., 32., 32.,\n",
       "       45., 25., 38., 45., 43., 38., 25., 16., 33., 29., 36., -6., 16.,\n",
       "       34., 29., 18., 45., 28., 25., 25., 27., 21., 25., 32., 29., 32.,\n",
       "       16., 29., 32., 38., 29., 27., 29., 32., 18., 22., 25., 29., 34.,\n",
       "       32., 29., 38., 32., 29., 45., 38., 16., 25., 27., 29., 32., 38.,\n",
       "       29., 31., 28., 28., 45., 28., 19., 29., 28., 32., 43., 32., 29.,\n",
       "       29., 28., 25., 23., 27., 29., 30., 30., 28., 29., 45., 29., 21.,\n",
       "       32., 32., 46., 25., 22., 29., 29., 25., 29., 29., 34., 38., 32.,\n",
       "       22., 25., 15., 45., 31., 25., 38., 29., 29., 38., 29., 43., 27.,\n",
       "       28., 32., 32., 23., 32., -5., 43., 46., 32., 28., 25., 28., 29.,\n",
       "       36., -6., 32., 28., -5., 29., 29., 23.])"
      ]
     },
     "execution_count": 296,
     "metadata": {},
     "output_type": "execute_result"
    }
   ],
   "source": [
    "estage=np.round(age.predict(testx))\n",
    "estage"
   ]
  },
  {
   "cell_type": "code",
   "execution_count": 289,
   "id": "religious-poland",
   "metadata": {},
   "outputs": [
    {
     "name": "stderr",
     "output_type": "stream",
     "text": [
      "<ipython-input-289-8fadd78aac53>:1: SettingWithCopyWarning: \n",
      "A value is trying to be set on a copy of a slice from a DataFrame.\n",
      "Try using .loc[row_indexer,col_indexer] = value instead\n",
      "\n",
      "See the caveats in the documentation: https://pandas.pydata.org/pandas-docs/stable/user_guide/indexing.html#returning-a-view-versus-a-copy\n",
      "  df[df['Age'].isnull()]['Age']=estage\n"
     ]
    }
   ],
   "source": [
    "df[df['Age'].isnull()]['Age']=estage"
   ]
  },
  {
   "cell_type": "code",
   "execution_count": 293,
   "id": "tutorial-principle",
   "metadata": {},
   "outputs": [],
   "source": [
    "indx=df[df['Age'].isnull()].index"
   ]
  },
  {
   "cell_type": "code",
   "execution_count": 297,
   "id": "upper-prospect",
   "metadata": {},
   "outputs": [
    {
     "ename": "ValueError",
     "evalue": "Must have equal len keys and value when setting with an iterable",
     "output_type": "error",
     "traceback": [
      "\u001b[1;31m---------------------------------------------------------------------------\u001b[0m",
      "\u001b[1;31mValueError\u001b[0m                                Traceback (most recent call last)",
      "\u001b[1;32m<ipython-input-297-99ebc84d3700>\u001b[0m in \u001b[0;36m<module>\u001b[1;34m\u001b[0m\n\u001b[0;32m      1\u001b[0m \u001b[1;32mfor\u001b[0m \u001b[0mi\u001b[0m \u001b[1;32min\u001b[0m \u001b[0mindx\u001b[0m\u001b[1;33m:\u001b[0m\u001b[1;33m\u001b[0m\u001b[1;33m\u001b[0m\u001b[0m\n\u001b[1;32m----> 2\u001b[1;33m     \u001b[0mdf\u001b[0m\u001b[1;33m.\u001b[0m\u001b[0mloc\u001b[0m\u001b[1;33m[\u001b[0m\u001b[0mi\u001b[0m\u001b[1;33m,\u001b[0m\u001b[1;34m'Age'\u001b[0m\u001b[1;33m]\u001b[0m\u001b[1;33m=\u001b[0m\u001b[0mestage\u001b[0m\u001b[1;33m\u001b[0m\u001b[1;33m\u001b[0m\u001b[0m\n\u001b[0m",
      "\u001b[1;32mc:\\python\\lib\\site-packages\\pandas\\core\\indexing.py\u001b[0m in \u001b[0;36m__setitem__\u001b[1;34m(self, key, value)\u001b[0m\n\u001b[0;32m    689\u001b[0m \u001b[1;33m\u001b[0m\u001b[0m\n\u001b[0;32m    690\u001b[0m         \u001b[0miloc\u001b[0m \u001b[1;33m=\u001b[0m \u001b[0mself\u001b[0m \u001b[1;32mif\u001b[0m \u001b[0mself\u001b[0m\u001b[1;33m.\u001b[0m\u001b[0mname\u001b[0m \u001b[1;33m==\u001b[0m \u001b[1;34m\"iloc\"\u001b[0m \u001b[1;32melse\u001b[0m \u001b[0mself\u001b[0m\u001b[1;33m.\u001b[0m\u001b[0mobj\u001b[0m\u001b[1;33m.\u001b[0m\u001b[0miloc\u001b[0m\u001b[1;33m\u001b[0m\u001b[1;33m\u001b[0m\u001b[0m\n\u001b[1;32m--> 691\u001b[1;33m         \u001b[0miloc\u001b[0m\u001b[1;33m.\u001b[0m\u001b[0m_setitem_with_indexer\u001b[0m\u001b[1;33m(\u001b[0m\u001b[0mindexer\u001b[0m\u001b[1;33m,\u001b[0m \u001b[0mvalue\u001b[0m\u001b[1;33m,\u001b[0m \u001b[0mself\u001b[0m\u001b[1;33m.\u001b[0m\u001b[0mname\u001b[0m\u001b[1;33m)\u001b[0m\u001b[1;33m\u001b[0m\u001b[1;33m\u001b[0m\u001b[0m\n\u001b[0m\u001b[0;32m    692\u001b[0m \u001b[1;33m\u001b[0m\u001b[0m\n\u001b[0;32m    693\u001b[0m     \u001b[1;32mdef\u001b[0m \u001b[0m_validate_key\u001b[0m\u001b[1;33m(\u001b[0m\u001b[0mself\u001b[0m\u001b[1;33m,\u001b[0m \u001b[0mkey\u001b[0m\u001b[1;33m,\u001b[0m \u001b[0maxis\u001b[0m\u001b[1;33m:\u001b[0m \u001b[0mint\u001b[0m\u001b[1;33m)\u001b[0m\u001b[1;33m:\u001b[0m\u001b[1;33m\u001b[0m\u001b[1;33m\u001b[0m\u001b[0m\n",
      "\u001b[1;32mc:\\python\\lib\\site-packages\\pandas\\core\\indexing.py\u001b[0m in \u001b[0;36m_setitem_with_indexer\u001b[1;34m(self, indexer, value, name)\u001b[0m\n\u001b[0;32m   1632\u001b[0m         \u001b[1;32mif\u001b[0m \u001b[0mtake_split_path\u001b[0m\u001b[1;33m:\u001b[0m\u001b[1;33m\u001b[0m\u001b[1;33m\u001b[0m\u001b[0m\n\u001b[0;32m   1633\u001b[0m             \u001b[1;31m# We have to operate column-wise\u001b[0m\u001b[1;33m\u001b[0m\u001b[1;33m\u001b[0m\u001b[1;33m\u001b[0m\u001b[0m\n\u001b[1;32m-> 1634\u001b[1;33m             \u001b[0mself\u001b[0m\u001b[1;33m.\u001b[0m\u001b[0m_setitem_with_indexer_split_path\u001b[0m\u001b[1;33m(\u001b[0m\u001b[0mindexer\u001b[0m\u001b[1;33m,\u001b[0m \u001b[0mvalue\u001b[0m\u001b[1;33m,\u001b[0m \u001b[0mname\u001b[0m\u001b[1;33m)\u001b[0m\u001b[1;33m\u001b[0m\u001b[1;33m\u001b[0m\u001b[0m\n\u001b[0m\u001b[0;32m   1635\u001b[0m         \u001b[1;32melse\u001b[0m\u001b[1;33m:\u001b[0m\u001b[1;33m\u001b[0m\u001b[1;33m\u001b[0m\u001b[0m\n\u001b[0;32m   1636\u001b[0m             \u001b[0mself\u001b[0m\u001b[1;33m.\u001b[0m\u001b[0m_setitem_single_block\u001b[0m\u001b[1;33m(\u001b[0m\u001b[0mindexer\u001b[0m\u001b[1;33m,\u001b[0m \u001b[0mvalue\u001b[0m\u001b[1;33m,\u001b[0m \u001b[0mname\u001b[0m\u001b[1;33m)\u001b[0m\u001b[1;33m\u001b[0m\u001b[1;33m\u001b[0m\u001b[0m\n",
      "\u001b[1;32mc:\\python\\lib\\site-packages\\pandas\\core\\indexing.py\u001b[0m in \u001b[0;36m_setitem_with_indexer_split_path\u001b[1;34m(self, indexer, value, name)\u001b[0m\n\u001b[0;32m   1685\u001b[0m                     \u001b[1;32mreturn\u001b[0m \u001b[0mself\u001b[0m\u001b[1;33m.\u001b[0m\u001b[0m_setitem_with_indexer\u001b[0m\u001b[1;33m(\u001b[0m\u001b[1;33m(\u001b[0m\u001b[0mpi\u001b[0m\u001b[1;33m,\u001b[0m \u001b[0minfo_axis\u001b[0m\u001b[1;33m[\u001b[0m\u001b[1;36m0\u001b[0m\u001b[1;33m]\u001b[0m\u001b[1;33m)\u001b[0m\u001b[1;33m,\u001b[0m \u001b[0mvalue\u001b[0m\u001b[1;33m[\u001b[0m\u001b[1;36m0\u001b[0m\u001b[1;33m]\u001b[0m\u001b[1;33m)\u001b[0m\u001b[1;33m\u001b[0m\u001b[1;33m\u001b[0m\u001b[0m\n\u001b[0;32m   1686\u001b[0m \u001b[1;33m\u001b[0m\u001b[0m\n\u001b[1;32m-> 1687\u001b[1;33m                 raise ValueError(\n\u001b[0m\u001b[0;32m   1688\u001b[0m                     \u001b[1;34m\"Must have equal len keys and value \"\u001b[0m\u001b[1;33m\u001b[0m\u001b[1;33m\u001b[0m\u001b[0m\n\u001b[0;32m   1689\u001b[0m                     \u001b[1;34m\"when setting with an iterable\"\u001b[0m\u001b[1;33m\u001b[0m\u001b[1;33m\u001b[0m\u001b[0m\n",
      "\u001b[1;31mValueError\u001b[0m: Must have equal len keys and value when setting with an iterable"
     ]
    }
   ],
   "source": [
    "for i in indx:\n",
    "    df.loc[i,'Age']=estage"
   ]
  },
  {
   "cell_type": "code",
   "execution_count": 301,
   "id": "demographic-overview",
   "metadata": {},
   "outputs": [],
   "source": [
    "df.loc[indx,'Age']=estage"
   ]
  },
  {
   "cell_type": "code",
   "execution_count": 307,
   "id": "popular-alloy",
   "metadata": {},
   "outputs": [],
   "source": [
    "indx2=df[df['Age']<0].index"
   ]
  },
  {
   "cell_type": "code",
   "execution_count": 313,
   "id": "outer-headset",
   "metadata": {},
   "outputs": [],
   "source": [
    "df.loc[indx2,'Age']=29"
   ]
  },
  {
   "cell_type": "code",
   "execution_count": 320,
   "id": "progressive-sleeping",
   "metadata": {},
   "outputs": [],
   "source": [
    "x=df.drop('Survived',axis=1)"
   ]
  },
  {
   "cell_type": "code",
   "execution_count": 321,
   "id": "lovely-representation",
   "metadata": {},
   "outputs": [
    {
     "data": {
      "text/html": [
       "<div>\n",
       "<style scoped>\n",
       "    .dataframe tbody tr th:only-of-type {\n",
       "        vertical-align: middle;\n",
       "    }\n",
       "\n",
       "    .dataframe tbody tr th {\n",
       "        vertical-align: top;\n",
       "    }\n",
       "\n",
       "    .dataframe thead th {\n",
       "        text-align: right;\n",
       "    }\n",
       "</style>\n",
       "<table border=\"1\" class=\"dataframe\">\n",
       "  <thead>\n",
       "    <tr style=\"text-align: right;\">\n",
       "      <th></th>\n",
       "      <th>Pclass</th>\n",
       "      <th>Sex</th>\n",
       "      <th>Age</th>\n",
       "      <th>SibSp</th>\n",
       "      <th>Parch</th>\n",
       "      <th>Fare</th>\n",
       "      <th>Q</th>\n",
       "      <th>S</th>\n",
       "    </tr>\n",
       "  </thead>\n",
       "  <tbody>\n",
       "    <tr>\n",
       "      <th>0</th>\n",
       "      <td>3</td>\n",
       "      <td>0</td>\n",
       "      <td>22.0</td>\n",
       "      <td>1</td>\n",
       "      <td>0</td>\n",
       "      <td>0.0</td>\n",
       "      <td>0</td>\n",
       "      <td>1</td>\n",
       "    </tr>\n",
       "    <tr>\n",
       "      <th>1</th>\n",
       "      <td>1</td>\n",
       "      <td>1</td>\n",
       "      <td>38.0</td>\n",
       "      <td>1</td>\n",
       "      <td>0</td>\n",
       "      <td>4.0</td>\n",
       "      <td>0</td>\n",
       "      <td>0</td>\n",
       "    </tr>\n",
       "    <tr>\n",
       "      <th>2</th>\n",
       "      <td>3</td>\n",
       "      <td>1</td>\n",
       "      <td>26.0</td>\n",
       "      <td>0</td>\n",
       "      <td>0</td>\n",
       "      <td>1.0</td>\n",
       "      <td>0</td>\n",
       "      <td>1</td>\n",
       "    </tr>\n",
       "    <tr>\n",
       "      <th>3</th>\n",
       "      <td>1</td>\n",
       "      <td>1</td>\n",
       "      <td>35.0</td>\n",
       "      <td>1</td>\n",
       "      <td>0</td>\n",
       "      <td>4.0</td>\n",
       "      <td>0</td>\n",
       "      <td>1</td>\n",
       "    </tr>\n",
       "    <tr>\n",
       "      <th>4</th>\n",
       "      <td>3</td>\n",
       "      <td>0</td>\n",
       "      <td>35.0</td>\n",
       "      <td>0</td>\n",
       "      <td>0</td>\n",
       "      <td>1.0</td>\n",
       "      <td>0</td>\n",
       "      <td>1</td>\n",
       "    </tr>\n",
       "    <tr>\n",
       "      <th>...</th>\n",
       "      <td>...</td>\n",
       "      <td>...</td>\n",
       "      <td>...</td>\n",
       "      <td>...</td>\n",
       "      <td>...</td>\n",
       "      <td>...</td>\n",
       "      <td>...</td>\n",
       "      <td>...</td>\n",
       "    </tr>\n",
       "    <tr>\n",
       "      <th>886</th>\n",
       "      <td>2</td>\n",
       "      <td>0</td>\n",
       "      <td>27.0</td>\n",
       "      <td>0</td>\n",
       "      <td>0</td>\n",
       "      <td>2.0</td>\n",
       "      <td>0</td>\n",
       "      <td>1</td>\n",
       "    </tr>\n",
       "    <tr>\n",
       "      <th>887</th>\n",
       "      <td>1</td>\n",
       "      <td>1</td>\n",
       "      <td>19.0</td>\n",
       "      <td>0</td>\n",
       "      <td>0</td>\n",
       "      <td>3.0</td>\n",
       "      <td>0</td>\n",
       "      <td>1</td>\n",
       "    </tr>\n",
       "    <tr>\n",
       "      <th>888</th>\n",
       "      <td>3</td>\n",
       "      <td>1</td>\n",
       "      <td>23.0</td>\n",
       "      <td>1</td>\n",
       "      <td>2</td>\n",
       "      <td>3.0</td>\n",
       "      <td>0</td>\n",
       "      <td>1</td>\n",
       "    </tr>\n",
       "    <tr>\n",
       "      <th>889</th>\n",
       "      <td>1</td>\n",
       "      <td>0</td>\n",
       "      <td>26.0</td>\n",
       "      <td>0</td>\n",
       "      <td>0</td>\n",
       "      <td>3.0</td>\n",
       "      <td>0</td>\n",
       "      <td>0</td>\n",
       "    </tr>\n",
       "    <tr>\n",
       "      <th>890</th>\n",
       "      <td>3</td>\n",
       "      <td>0</td>\n",
       "      <td>32.0</td>\n",
       "      <td>0</td>\n",
       "      <td>0</td>\n",
       "      <td>0.0</td>\n",
       "      <td>1</td>\n",
       "      <td>0</td>\n",
       "    </tr>\n",
       "  </tbody>\n",
       "</table>\n",
       "<p>891 rows × 8 columns</p>\n",
       "</div>"
      ],
      "text/plain": [
       "     Pclass  Sex   Age  SibSp  Parch  Fare  Q  S\n",
       "0         3    0  22.0      1      0   0.0  0  1\n",
       "1         1    1  38.0      1      0   4.0  0  0\n",
       "2         3    1  26.0      0      0   1.0  0  1\n",
       "3         1    1  35.0      1      0   4.0  0  1\n",
       "4         3    0  35.0      0      0   1.0  0  1\n",
       "..      ...  ...   ...    ...    ...   ... .. ..\n",
       "886       2    0  27.0      0      0   2.0  0  1\n",
       "887       1    1  19.0      0      0   3.0  0  1\n",
       "888       3    1  23.0      1      2   3.0  0  1\n",
       "889       1    0  26.0      0      0   3.0  0  0\n",
       "890       3    0  32.0      0      0   0.0  1  0\n",
       "\n",
       "[891 rows x 8 columns]"
      ]
     },
     "execution_count": 321,
     "metadata": {},
     "output_type": "execute_result"
    }
   ],
   "source": [
    "x"
   ]
  },
  {
   "cell_type": "code",
   "execution_count": 322,
   "id": "pressing-singapore",
   "metadata": {},
   "outputs": [],
   "source": [
    "y=df['Survived']"
   ]
  },
  {
   "cell_type": "code",
   "execution_count": 347,
   "id": "elegant-teddy",
   "metadata": {},
   "outputs": [],
   "source": [
    "trainx,testx,trainy,testy=train_test_split(x,y)"
   ]
  },
  {
   "cell_type": "code",
   "execution_count": 354,
   "id": "formed-cruise",
   "metadata": {},
   "outputs": [],
   "source": [
    "comp1=LogisticRegression(max_iter=1000,solver='liblinear')"
   ]
  },
  {
   "cell_type": "code",
   "execution_count": 355,
   "id": "fluid-difference",
   "metadata": {},
   "outputs": [
    {
     "data": {
      "text/plain": [
       "LogisticRegression(max_iter=1000, solver='liblinear')"
      ]
     },
     "execution_count": 355,
     "metadata": {},
     "output_type": "execute_result"
    }
   ],
   "source": [
    "comp1.fit(trainx,trainy)"
   ]
  },
  {
   "cell_type": "code",
   "execution_count": 356,
   "id": "grave-exposure",
   "metadata": {},
   "outputs": [
    {
     "data": {
      "text/plain": [
       "0.7333333333333333"
      ]
     },
     "execution_count": 356,
     "metadata": {},
     "output_type": "execute_result"
    }
   ],
   "source": [
    "f1_score(comp1.predict(testx),testy)"
   ]
  },
  {
   "cell_type": "code",
   "execution_count": null,
   "id": "charged-background",
   "metadata": {},
   "outputs": [],
   "source": []
  }
 ],
 "metadata": {
  "kernelspec": {
   "display_name": "Python 3",
   "language": "python",
   "name": "python3"
  },
  "language_info": {
   "codemirror_mode": {
    "name": "ipython",
    "version": 3
   },
   "file_extension": ".py",
   "mimetype": "text/x-python",
   "name": "python",
   "nbconvert_exporter": "python",
   "pygments_lexer": "ipython3",
   "version": "3.8.5"
  }
 },
 "nbformat": 4,
 "nbformat_minor": 5
}
