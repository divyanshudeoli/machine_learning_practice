{
 "cells": [
  {
   "cell_type": "code",
   "execution_count": 1,
   "id": "palestinian-maldives",
   "metadata": {},
   "outputs": [],
   "source": [
    "import numpy as np\n",
    "import pandas as pd\n",
    "import matplotlib.pyplot as plt\n",
    "import seaborn as sns\n",
    "from sklearn.tree import DecisionTreeClassifier\n",
    "from sklearn.metrics import f1_score\n",
    "from sklearn.model_selection import train_test_split"
   ]
  },
  {
   "cell_type": "code",
   "execution_count": 30,
   "id": "flush-pierce",
   "metadata": {},
   "outputs": [
    {
     "data": {
      "text/html": [
       "<div>\n",
       "<style scoped>\n",
       "    .dataframe tbody tr th:only-of-type {\n",
       "        vertical-align: middle;\n",
       "    }\n",
       "\n",
       "    .dataframe tbody tr th {\n",
       "        vertical-align: top;\n",
       "    }\n",
       "\n",
       "    .dataframe thead th {\n",
       "        text-align: right;\n",
       "    }\n",
       "</style>\n",
       "<table border=\"1\" class=\"dataframe\">\n",
       "  <thead>\n",
       "    <tr style=\"text-align: right;\">\n",
       "      <th></th>\n",
       "      <th>Survived</th>\n",
       "      <th>Pclass</th>\n",
       "      <th>Sex</th>\n",
       "      <th>Age</th>\n",
       "      <th>SibSp</th>\n",
       "      <th>Parch</th>\n",
       "      <th>Q</th>\n",
       "      <th>S</th>\n",
       "      <th>Farem</th>\n",
       "    </tr>\n",
       "  </thead>\n",
       "  <tbody>\n",
       "    <tr>\n",
       "      <th>0</th>\n",
       "      <td>0</td>\n",
       "      <td>3</td>\n",
       "      <td>0</td>\n",
       "      <td>1.0</td>\n",
       "      <td>1</td>\n",
       "      <td>0</td>\n",
       "      <td>0</td>\n",
       "      <td>1</td>\n",
       "      <td>0.0</td>\n",
       "    </tr>\n",
       "    <tr>\n",
       "      <th>1</th>\n",
       "      <td>1</td>\n",
       "      <td>1</td>\n",
       "      <td>1</td>\n",
       "      <td>3.0</td>\n",
       "      <td>1</td>\n",
       "      <td>0</td>\n",
       "      <td>0</td>\n",
       "      <td>0</td>\n",
       "      <td>3.0</td>\n",
       "    </tr>\n",
       "    <tr>\n",
       "      <th>2</th>\n",
       "      <td>1</td>\n",
       "      <td>3</td>\n",
       "      <td>1</td>\n",
       "      <td>2.0</td>\n",
       "      <td>0</td>\n",
       "      <td>0</td>\n",
       "      <td>0</td>\n",
       "      <td>1</td>\n",
       "      <td>1.0</td>\n",
       "    </tr>\n",
       "    <tr>\n",
       "      <th>3</th>\n",
       "      <td>1</td>\n",
       "      <td>1</td>\n",
       "      <td>1</td>\n",
       "      <td>3.0</td>\n",
       "      <td>1</td>\n",
       "      <td>0</td>\n",
       "      <td>0</td>\n",
       "      <td>1</td>\n",
       "      <td>3.0</td>\n",
       "    </tr>\n",
       "    <tr>\n",
       "      <th>4</th>\n",
       "      <td>0</td>\n",
       "      <td>3</td>\n",
       "      <td>0</td>\n",
       "      <td>3.0</td>\n",
       "      <td>0</td>\n",
       "      <td>0</td>\n",
       "      <td>0</td>\n",
       "      <td>1</td>\n",
       "      <td>1.0</td>\n",
       "    </tr>\n",
       "    <tr>\n",
       "      <th>...</th>\n",
       "      <td>...</td>\n",
       "      <td>...</td>\n",
       "      <td>...</td>\n",
       "      <td>...</td>\n",
       "      <td>...</td>\n",
       "      <td>...</td>\n",
       "      <td>...</td>\n",
       "      <td>...</td>\n",
       "      <td>...</td>\n",
       "    </tr>\n",
       "    <tr>\n",
       "      <th>886</th>\n",
       "      <td>0</td>\n",
       "      <td>2</td>\n",
       "      <td>0</td>\n",
       "      <td>2.0</td>\n",
       "      <td>0</td>\n",
       "      <td>0</td>\n",
       "      <td>0</td>\n",
       "      <td>1</td>\n",
       "      <td>1.0</td>\n",
       "    </tr>\n",
       "    <tr>\n",
       "      <th>887</th>\n",
       "      <td>1</td>\n",
       "      <td>1</td>\n",
       "      <td>1</td>\n",
       "      <td>0.0</td>\n",
       "      <td>0</td>\n",
       "      <td>0</td>\n",
       "      <td>0</td>\n",
       "      <td>1</td>\n",
       "      <td>2.0</td>\n",
       "    </tr>\n",
       "    <tr>\n",
       "      <th>888</th>\n",
       "      <td>0</td>\n",
       "      <td>3</td>\n",
       "      <td>1</td>\n",
       "      <td>0.0</td>\n",
       "      <td>1</td>\n",
       "      <td>2</td>\n",
       "      <td>0</td>\n",
       "      <td>1</td>\n",
       "      <td>2.0</td>\n",
       "    </tr>\n",
       "    <tr>\n",
       "      <th>889</th>\n",
       "      <td>1</td>\n",
       "      <td>1</td>\n",
       "      <td>0</td>\n",
       "      <td>2.0</td>\n",
       "      <td>0</td>\n",
       "      <td>0</td>\n",
       "      <td>0</td>\n",
       "      <td>0</td>\n",
       "      <td>2.0</td>\n",
       "    </tr>\n",
       "    <tr>\n",
       "      <th>890</th>\n",
       "      <td>0</td>\n",
       "      <td>3</td>\n",
       "      <td>0</td>\n",
       "      <td>3.0</td>\n",
       "      <td>0</td>\n",
       "      <td>0</td>\n",
       "      <td>1</td>\n",
       "      <td>0</td>\n",
       "      <td>0.0</td>\n",
       "    </tr>\n",
       "  </tbody>\n",
       "</table>\n",
       "<p>891 rows × 9 columns</p>\n",
       "</div>"
      ],
      "text/plain": [
       "     Survived  Pclass  Sex  Age  SibSp  Parch  Q  S  Farem\n",
       "0           0       3    0  1.0      1      0  0  1    0.0\n",
       "1           1       1    1  3.0      1      0  0  0    3.0\n",
       "2           1       3    1  2.0      0      0  0  1    1.0\n",
       "3           1       1    1  3.0      1      0  0  1    3.0\n",
       "4           0       3    0  3.0      0      0  0  1    1.0\n",
       "..        ...     ...  ...  ...    ...    ... .. ..    ...\n",
       "886         0       2    0  2.0      0      0  0  1    1.0\n",
       "887         1       1    1  0.0      0      0  0  1    2.0\n",
       "888         0       3    1  0.0      1      2  0  1    2.0\n",
       "889         1       1    0  2.0      0      0  0  0    2.0\n",
       "890         0       3    0  3.0      0      0  1  0    0.0\n",
       "\n",
       "[891 rows x 9 columns]"
      ]
     },
     "execution_count": 30,
     "metadata": {},
     "output_type": "execute_result"
    }
   ],
   "source": [
    "df=pd.read_csv('discrete_processed.csv')\n",
    "df"
   ]
  },
  {
   "cell_type": "code",
   "execution_count": 31,
   "id": "sticky-array",
   "metadata": {},
   "outputs": [],
   "source": [
    "df['Family']=df['SibSp']+df['Parch']"
   ]
  },
  {
   "cell_type": "code",
   "execution_count": 20,
   "id": "spiritual-fifty",
   "metadata": {},
   "outputs": [],
   "source": [
    "x=df.drop(columns=['Survived'])"
   ]
  },
  {
   "cell_type": "code",
   "execution_count": 66,
   "id": "injured-instrumentation",
   "metadata": {},
   "outputs": [],
   "source": [
    "x=df[['Sex','Age','Family','Pclass','Farem','Q','S']]"
   ]
  },
  {
   "cell_type": "code",
   "execution_count": 56,
   "id": "conservative-switch",
   "metadata": {},
   "outputs": [],
   "source": [
    "y=df['Survived']"
   ]
  },
  {
   "cell_type": "code",
   "execution_count": 67,
   "id": "processed-plain",
   "metadata": {},
   "outputs": [],
   "source": [
    "xtrain,xtest,ytrain,ytest=train_test_split(x,y)"
   ]
  },
  {
   "cell_type": "code",
   "execution_count": 68,
   "id": "printable-treasure",
   "metadata": {},
   "outputs": [],
   "source": [
    "dtc=DecisionTreeClassifier()"
   ]
  },
  {
   "cell_type": "code",
   "execution_count": 69,
   "id": "divine-conjunction",
   "metadata": {},
   "outputs": [
    {
     "data": {
      "text/plain": [
       "DecisionTreeClassifier()"
      ]
     },
     "execution_count": 69,
     "metadata": {},
     "output_type": "execute_result"
    }
   ],
   "source": [
    "dtc.fit(xtrain,ytrain)"
   ]
  },
  {
   "cell_type": "code",
   "execution_count": 71,
   "id": "patent-absence",
   "metadata": {},
   "outputs": [
    {
     "data": {
      "text/plain": [
       "0.7231638418079096"
      ]
     },
     "execution_count": 71,
     "metadata": {},
     "output_type": "execute_result"
    }
   ],
   "source": [
    "f1_score(dtc.predict(xtest),ytest)"
   ]
  },
  {
   "cell_type": "code",
   "execution_count": 75,
   "id": "biological-bullet",
   "metadata": {},
   "outputs": [],
   "source": [
    "#dtc.predict_proba(xtest)"
   ]
  },
  {
   "cell_type": "code",
   "execution_count": 77,
   "id": "north-salon",
   "metadata": {},
   "outputs": [],
   "source": [
    "from sklearn.tree import plot_tree"
   ]
  },
  {
   "cell_type": "code",
   "execution_count": 78,
   "id": "foreign-monroe",
   "metadata": {},
   "outputs": [
    {
     "data": {
      "text/plain": [
       "[Text(181.12197115384615, 209.07692307692307, 'X[0] <= 0.5\\ngini = 0.47\\nsamples = 668\\nvalue = [416, 252]'),\n",
       " Text(96.09403846153846, 192.35076923076923, 'X[4] <= 1.5\\ngini = 0.317\\nsamples = 445\\nvalue = [357, 88]'),\n",
       " Text(35.089615384615385, 175.62461538461537, 'X[4] <= 0.5\\ngini = 0.22\\nsamples = 254\\nvalue = [222, 32]'),\n",
       " Text(20.603076923076923, 158.89846153846153, 'X[1] <= 2.5\\ngini = 0.162\\nsamples = 135\\nvalue = [123, 12]'),\n",
       " Text(12.876923076923077, 142.1723076923077, 'X[1] <= 0.5\\ngini = 0.199\\nsamples = 98\\nvalue = [87, 11]'),\n",
       " Text(10.301538461538462, 125.44615384615385, 'gini = 0.0\\nsamples = 12\\nvalue = [12, 0]'),\n",
       " Text(15.452307692307691, 125.44615384615385, 'X[2] <= 0.5\\ngini = 0.223\\nsamples = 86\\nvalue = [75, 11]'),\n",
       " Text(12.876923076923077, 108.72, 'X[1] <= 1.5\\ngini = 0.235\\nsamples = 81\\nvalue = [70, 11]'),\n",
       " Text(7.726153846153846, 91.99384615384615, 'X[6] <= 0.5\\ngini = 0.285\\nsamples = 29\\nvalue = [24, 5]'),\n",
       " Text(5.150769230769231, 75.2676923076923, 'X[5] <= 0.5\\ngini = 0.408\\nsamples = 7\\nvalue = [5, 2]'),\n",
       " Text(2.5753846153846154, 58.541538461538465, 'gini = 0.48\\nsamples = 5\\nvalue = [3, 2]'),\n",
       " Text(7.726153846153846, 58.541538461538465, 'gini = 0.0\\nsamples = 2\\nvalue = [2, 0]'),\n",
       " Text(10.301538461538462, 75.2676923076923, 'gini = 0.236\\nsamples = 22\\nvalue = [19, 3]'),\n",
       " Text(18.02769230769231, 91.99384615384615, 'X[5] <= 0.5\\ngini = 0.204\\nsamples = 52\\nvalue = [46, 6]'),\n",
       " Text(15.452307692307691, 75.2676923076923, 'X[6] <= 0.5\\ngini = 0.193\\nsamples = 37\\nvalue = [33, 4]'),\n",
       " Text(12.876923076923077, 58.541538461538465, 'gini = 0.153\\nsamples = 12\\nvalue = [11, 1]'),\n",
       " Text(18.02769230769231, 58.541538461538465, 'gini = 0.211\\nsamples = 25\\nvalue = [22, 3]'),\n",
       " Text(20.603076923076923, 75.2676923076923, 'gini = 0.231\\nsamples = 15\\nvalue = [13, 2]'),\n",
       " Text(18.02769230769231, 108.72, 'gini = 0.0\\nsamples = 5\\nvalue = [5, 0]'),\n",
       " Text(28.32923076923077, 142.1723076923077, 'X[1] <= 3.5\\ngini = 0.053\\nsamples = 37\\nvalue = [36, 1]'),\n",
       " Text(25.753846153846155, 125.44615384615385, 'X[3] <= 2.5\\ngini = 0.105\\nsamples = 18\\nvalue = [17, 1]'),\n",
       " Text(23.178461538461537, 108.72, 'gini = 0.0\\nsamples = 5\\nvalue = [5, 0]'),\n",
       " Text(28.32923076923077, 108.72, 'X[6] <= 0.5\\ngini = 0.142\\nsamples = 13\\nvalue = [12, 1]'),\n",
       " Text(25.753846153846155, 91.99384615384615, 'gini = 0.0\\nsamples = 2\\nvalue = [2, 0]'),\n",
       " Text(30.904615384615383, 91.99384615384615, 'gini = 0.165\\nsamples = 11\\nvalue = [10, 1]'),\n",
       " Text(30.904615384615383, 125.44615384615385, 'gini = 0.0\\nsamples = 19\\nvalue = [19, 0]'),\n",
       " Text(49.576153846153844, 158.89846153846153, 'X[1] <= 0.5\\ngini = 0.28\\nsamples = 119\\nvalue = [99, 20]'),\n",
       " Text(38.63076923076923, 142.1723076923077, 'X[2] <= 0.5\\ngini = 0.444\\nsamples = 15\\nvalue = [10, 5]'),\n",
       " Text(36.05538461538462, 125.44615384615385, 'X[3] <= 2.5\\ngini = 0.355\\nsamples = 13\\nvalue = [10, 3]'),\n",
       " Text(33.48, 108.72, 'gini = 0.32\\nsamples = 5\\nvalue = [4, 1]'),\n",
       " Text(38.63076923076923, 108.72, 'gini = 0.375\\nsamples = 8\\nvalue = [6, 2]'),\n",
       " Text(41.206153846153846, 125.44615384615385, 'gini = 0.0\\nsamples = 2\\nvalue = [0, 2]'),\n",
       " Text(60.52153846153846, 142.1723076923077, 'X[1] <= 2.5\\ngini = 0.247\\nsamples = 104\\nvalue = [89, 15]'),\n",
       " Text(51.50769230769231, 125.44615384615385, 'X[2] <= 0.5\\ngini = 0.131\\nsamples = 57\\nvalue = [53, 4]'),\n",
       " Text(43.78153846153846, 108.72, 'X[1] <= 1.5\\ngini = 0.107\\nsamples = 53\\nvalue = [50, 3]'),\n",
       " Text(41.206153846153846, 91.99384615384615, 'gini = 0.0\\nsamples = 26\\nvalue = [26, 0]'),\n",
       " Text(46.356923076923074, 91.99384615384615, 'X[3] <= 2.5\\ngini = 0.198\\nsamples = 27\\nvalue = [24, 3]'),\n",
       " Text(43.78153846153846, 75.2676923076923, 'gini = 0.0\\nsamples = 6\\nvalue = [6, 0]'),\n",
       " Text(48.932307692307695, 75.2676923076923, 'X[6] <= 0.5\\ngini = 0.245\\nsamples = 21\\nvalue = [18, 3]'),\n",
       " Text(46.356923076923074, 58.541538461538465, 'gini = 0.0\\nsamples = 2\\nvalue = [2, 0]'),\n",
       " Text(51.50769230769231, 58.541538461538465, 'gini = 0.266\\nsamples = 19\\nvalue = [16, 3]'),\n",
       " Text(59.23384615384615, 108.72, 'X[2] <= 1.5\\ngini = 0.375\\nsamples = 4\\nvalue = [3, 1]'),\n",
       " Text(56.65846153846154, 91.99384615384615, 'X[3] <= 2.5\\ngini = 0.5\\nsamples = 2\\nvalue = [1, 1]'),\n",
       " Text(54.08307692307692, 75.2676923076923, 'gini = 0.0\\nsamples = 1\\nvalue = [1, 0]'),\n",
       " Text(59.23384615384615, 75.2676923076923, 'gini = 0.0\\nsamples = 1\\nvalue = [0, 1]'),\n",
       " Text(61.809230769230766, 91.99384615384615, 'gini = 0.0\\nsamples = 2\\nvalue = [2, 0]'),\n",
       " Text(69.53538461538461, 125.44615384615385, 'X[6] <= 0.5\\ngini = 0.359\\nsamples = 47\\nvalue = [36, 11]'),\n",
       " Text(66.96, 108.72, 'gini = 0.0\\nsamples = 1\\nvalue = [0, 1]'),\n",
       " Text(72.11076923076924, 108.72, 'X[2] <= 0.5\\ngini = 0.34\\nsamples = 46\\nvalue = [36, 10]'),\n",
       " Text(69.53538461538461, 91.99384615384615, 'X[3] <= 2.5\\ngini = 0.357\\nsamples = 43\\nvalue = [33, 10]'),\n",
       " Text(64.38461538461539, 75.2676923076923, 'X[1] <= 3.5\\ngini = 0.308\\nsamples = 21\\nvalue = [17, 4]'),\n",
       " Text(61.809230769230766, 58.541538461538465, 'gini = 0.298\\nsamples = 11\\nvalue = [9, 2]'),\n",
       " Text(66.96, 58.541538461538465, 'gini = 0.32\\nsamples = 10\\nvalue = [8, 2]'),\n",
       " Text(74.68615384615384, 75.2676923076923, 'X[1] <= 3.5\\ngini = 0.397\\nsamples = 22\\nvalue = [16, 6]'),\n",
       " Text(72.11076923076924, 58.541538461538465, 'gini = 0.375\\nsamples = 16\\nvalue = [12, 4]'),\n",
       " Text(77.26153846153846, 58.541538461538465, 'gini = 0.444\\nsamples = 6\\nvalue = [4, 2]'),\n",
       " Text(74.68615384615384, 91.99384615384615, 'gini = 0.0\\nsamples = 3\\nvalue = [3, 0]'),\n",
       " Text(157.09846153846155, 175.62461538461537, 'X[2] <= 3.5\\ngini = 0.414\\nsamples = 191\\nvalue = [135, 56]'),\n",
       " Text(117.18, 158.89846153846153, 'X[1] <= 0.5\\ngini = 0.443\\nsamples = 166\\nvalue = [111, 55]'),\n",
       " Text(84.98769230769231, 142.1723076923077, 'X[2] <= 1.5\\ngini = 0.408\\nsamples = 21\\nvalue = [6, 15]'),\n",
       " Text(82.41230769230769, 125.44615384615385, 'gini = 0.0\\nsamples = 3\\nvalue = [3, 0]'),\n",
       " Text(87.56307692307692, 125.44615384615385, 'X[3] <= 2.5\\ngini = 0.278\\nsamples = 18\\nvalue = [3, 15]'),\n",
       " Text(82.41230769230769, 108.72, 'X[3] <= 1.5\\ngini = 0.153\\nsamples = 12\\nvalue = [1, 11]'),\n",
       " Text(79.83692307692307, 91.99384615384615, 'gini = 0.0\\nsamples = 4\\nvalue = [0, 4]'),\n",
       " Text(84.98769230769231, 91.99384615384615, 'X[4] <= 2.5\\ngini = 0.219\\nsamples = 8\\nvalue = [1, 7]'),\n",
       " Text(82.41230769230769, 75.2676923076923, 'gini = 0.0\\nsamples = 4\\nvalue = [0, 4]'),\n",
       " Text(87.56307692307692, 75.2676923076923, 'X[6] <= 0.5\\ngini = 0.375\\nsamples = 4\\nvalue = [1, 3]'),\n",
       " Text(84.98769230769231, 58.541538461538465, 'gini = 0.0\\nsamples = 1\\nvalue = [0, 1]'),\n",
       " Text(90.13846153846154, 58.541538461538465, 'X[2] <= 2.5\\ngini = 0.444\\nsamples = 3\\nvalue = [1, 2]'),\n",
       " Text(87.56307692307692, 41.81538461538463, 'gini = 0.5\\nsamples = 2\\nvalue = [1, 1]'),\n",
       " Text(92.71384615384615, 41.81538461538463, 'gini = 0.0\\nsamples = 1\\nvalue = [0, 1]'),\n",
       " Text(92.71384615384615, 108.72, 'X[2] <= 2.5\\ngini = 0.444\\nsamples = 6\\nvalue = [2, 4]'),\n",
       " Text(90.13846153846154, 91.99384615384615, 'gini = 0.48\\nsamples = 5\\nvalue = [2, 3]'),\n",
       " Text(95.28923076923077, 91.99384615384615, 'gini = 0.0\\nsamples = 1\\nvalue = [0, 1]'),\n",
       " Text(149.3723076923077, 142.1723076923077, 'X[3] <= 1.5\\ngini = 0.4\\nsamples = 145\\nvalue = [105, 40]'),\n",
       " Text(122.97461538461539, 125.44615384615385, 'X[1] <= 3.5\\ngini = 0.462\\nsamples = 80\\nvalue = [51, 29]'),\n",
       " Text(109.45384615384616, 108.72, 'X[4] <= 2.5\\ngini = 0.485\\nsamples = 29\\nvalue = [12, 17]'),\n",
       " Text(100.44, 91.99384615384615, 'X[2] <= 0.5\\ngini = 0.346\\nsamples = 9\\nvalue = [2, 7]'),\n",
       " Text(97.86461538461539, 75.2676923076923, 'X[1] <= 2.5\\ngini = 0.219\\nsamples = 8\\nvalue = [1, 7]'),\n",
       " Text(95.28923076923077, 58.541538461538465, 'gini = 0.5\\nsamples = 2\\nvalue = [1, 1]'),\n",
       " Text(100.44, 58.541538461538465, 'gini = 0.0\\nsamples = 6\\nvalue = [0, 6]'),\n",
       " Text(103.01538461538462, 75.2676923076923, 'gini = 0.0\\nsamples = 1\\nvalue = [1, 0]'),\n",
       " Text(118.4676923076923, 91.99384615384615, 'X[2] <= 1.5\\ngini = 0.5\\nsamples = 20\\nvalue = [10, 10]'),\n",
       " Text(115.8923076923077, 75.2676923076923, 'X[2] <= 0.5\\ngini = 0.494\\nsamples = 18\\nvalue = [10, 8]'),\n",
       " Text(105.59076923076923, 58.541538461538465, 'X[1] <= 1.5\\ngini = 0.469\\nsamples = 8\\nvalue = [5, 3]'),\n",
       " Text(103.01538461538462, 41.81538461538463, 'gini = 0.0\\nsamples = 2\\nvalue = [2, 0]'),\n",
       " Text(108.16615384615385, 41.81538461538463, 'X[6] <= 0.5\\ngini = 0.5\\nsamples = 6\\nvalue = [3, 3]'),\n",
       " Text(103.01538461538462, 25.089230769230767, 'X[1] <= 2.5\\ngini = 0.444\\nsamples = 3\\nvalue = [1, 2]'),\n",
       " Text(100.44, 8.363076923076932, 'gini = 0.0\\nsamples = 1\\nvalue = [0, 1]'),\n",
       " Text(105.59076923076923, 8.363076923076932, 'gini = 0.5\\nsamples = 2\\nvalue = [1, 1]'),\n",
       " Text(113.31692307692308, 25.089230769230767, 'X[1] <= 2.5\\ngini = 0.444\\nsamples = 3\\nvalue = [2, 1]'),\n",
       " Text(110.74153846153847, 8.363076923076932, 'gini = 0.5\\nsamples = 2\\nvalue = [1, 1]'),\n",
       " Text(115.8923076923077, 8.363076923076932, 'gini = 0.0\\nsamples = 1\\nvalue = [1, 0]'),\n",
       " Text(126.19384615384615, 58.541538461538465, 'X[1] <= 1.5\\ngini = 0.5\\nsamples = 10\\nvalue = [5, 5]'),\n",
       " Text(123.61846153846153, 41.81538461538463, 'gini = 0.0\\nsamples = 1\\nvalue = [0, 1]'),\n",
       " Text(128.76923076923077, 41.81538461538463, 'X[1] <= 2.5\\ngini = 0.494\\nsamples = 9\\nvalue = [5, 4]'),\n",
       " Text(123.61846153846153, 25.089230769230767, 'X[6] <= 0.5\\ngini = 0.444\\nsamples = 3\\nvalue = [2, 1]'),\n",
       " Text(121.04307692307692, 8.363076923076932, 'gini = 0.0\\nsamples = 1\\nvalue = [1, 0]'),\n",
       " Text(126.19384615384615, 8.363076923076932, 'gini = 0.5\\nsamples = 2\\nvalue = [1, 1]'),\n",
       " Text(133.92, 25.089230769230767, 'X[6] <= 0.5\\ngini = 0.5\\nsamples = 6\\nvalue = [3, 3]'),\n",
       " Text(131.3446153846154, 8.363076923076932, 'gini = 0.0\\nsamples = 1\\nvalue = [0, 1]'),\n",
       " Text(136.4953846153846, 8.363076923076932, 'gini = 0.48\\nsamples = 5\\nvalue = [3, 2]'),\n",
       " Text(121.04307692307692, 75.2676923076923, 'gini = 0.0\\nsamples = 2\\nvalue = [0, 2]'),\n",
       " Text(136.4953846153846, 108.72, 'X[4] <= 2.5\\ngini = 0.36\\nsamples = 51\\nvalue = [39, 12]'),\n",
       " Text(128.76923076923077, 91.99384615384615, 'X[6] <= 0.5\\ngini = 0.461\\nsamples = 25\\nvalue = [16, 9]'),\n",
       " Text(126.19384615384615, 75.2676923076923, 'gini = 0.278\\nsamples = 6\\nvalue = [5, 1]'),\n",
       " Text(131.3446153846154, 75.2676923076923, 'gini = 0.488\\nsamples = 19\\nvalue = [11, 8]'),\n",
       " Text(144.22153846153847, 91.99384615384615, 'X[2] <= 1.5\\ngini = 0.204\\nsamples = 26\\nvalue = [23, 3]'),\n",
       " Text(136.4953846153846, 75.2676923076923, 'X[2] <= 0.5\\ngini = 0.095\\nsamples = 20\\nvalue = [19, 1]'),\n",
       " Text(133.92, 58.541538461538465, 'gini = 0.0\\nsamples = 13\\nvalue = [13, 0]'),\n",
       " Text(139.07076923076923, 58.541538461538465, 'X[6] <= 0.5\\ngini = 0.245\\nsamples = 7\\nvalue = [6, 1]'),\n",
       " Text(136.4953846153846, 41.81538461538463, 'gini = 0.444\\nsamples = 3\\nvalue = [2, 1]'),\n",
       " Text(141.64615384615385, 41.81538461538463, 'gini = 0.0\\nsamples = 4\\nvalue = [4, 0]'),\n",
       " Text(151.9476923076923, 75.2676923076923, 'X[5] <= 0.5\\ngini = 0.444\\nsamples = 6\\nvalue = [4, 2]'),\n",
       " Text(149.3723076923077, 58.541538461538465, 'X[6] <= 0.5\\ngini = 0.48\\nsamples = 5\\nvalue = [3, 2]'),\n",
       " Text(146.79692307692306, 41.81538461538463, 'gini = 0.444\\nsamples = 3\\nvalue = [2, 1]'),\n",
       " Text(151.9476923076923, 41.81538461538463, 'gini = 0.5\\nsamples = 2\\nvalue = [1, 1]'),\n",
       " Text(154.52307692307693, 58.541538461538465, 'gini = 0.0\\nsamples = 1\\nvalue = [1, 0]'),\n",
       " Text(175.77, 125.44615384615385, 'X[3] <= 2.5\\ngini = 0.281\\nsamples = 65\\nvalue = [54, 11]'),\n",
       " Text(162.24923076923076, 108.72, 'X[1] <= 2.5\\ngini = 0.069\\nsamples = 28\\nvalue = [27, 1]'),\n",
       " Text(159.67384615384614, 91.99384615384615, 'gini = 0.0\\nsamples = 10\\nvalue = [10, 0]'),\n",
       " Text(164.82461538461538, 91.99384615384615, 'X[1] <= 3.5\\ngini = 0.105\\nsamples = 18\\nvalue = [17, 1]'),\n",
       " Text(162.24923076923076, 75.2676923076923, 'X[2] <= 1.5\\ngini = 0.165\\nsamples = 11\\nvalue = [10, 1]'),\n",
       " Text(159.67384615384614, 58.541538461538465, 'X[2] <= 0.5\\ngini = 0.245\\nsamples = 7\\nvalue = [6, 1]'),\n",
       " Text(157.09846153846155, 41.81538461538463, 'gini = 0.0\\nsamples = 2\\nvalue = [2, 0]'),\n",
       " Text(162.24923076923076, 41.81538461538463, 'X[6] <= 0.5\\ngini = 0.32\\nsamples = 5\\nvalue = [4, 1]'),\n",
       " Text(159.67384615384614, 25.089230769230767, 'gini = 0.0\\nsamples = 1\\nvalue = [1, 0]'),\n",
       " Text(164.82461538461538, 25.089230769230767, 'gini = 0.375\\nsamples = 4\\nvalue = [3, 1]'),\n",
       " Text(164.82461538461538, 58.541538461538465, 'gini = 0.0\\nsamples = 4\\nvalue = [4, 0]'),\n",
       " Text(167.4, 75.2676923076923, 'gini = 0.0\\nsamples = 7\\nvalue = [7, 0]'),\n",
       " Text(189.29076923076923, 108.72, 'X[4] <= 2.5\\ngini = 0.394\\nsamples = 37\\nvalue = [27, 10]'),\n",
       " Text(182.8523076923077, 91.99384615384615, 'X[2] <= 1.5\\ngini = 0.278\\nsamples = 30\\nvalue = [25, 5]'),\n",
       " Text(177.70153846153846, 75.2676923076923, 'X[2] <= 0.5\\ngini = 0.083\\nsamples = 23\\nvalue = [22, 1]'),\n",
       " Text(175.12615384615384, 58.541538461538465, 'X[6] <= 0.5\\ngini = 0.198\\nsamples = 9\\nvalue = [8, 1]'),\n",
       " Text(172.55076923076922, 41.81538461538463, 'X[5] <= 0.5\\ngini = 0.375\\nsamples = 4\\nvalue = [3, 1]'),\n",
       " Text(169.97538461538463, 25.089230769230767, 'gini = 0.5\\nsamples = 2\\nvalue = [1, 1]'),\n",
       " Text(175.12615384615384, 25.089230769230767, 'gini = 0.0\\nsamples = 2\\nvalue = [2, 0]'),\n",
       " Text(177.70153846153846, 41.81538461538463, 'gini = 0.0\\nsamples = 5\\nvalue = [5, 0]'),\n",
       " Text(180.27692307692308, 58.541538461538465, 'gini = 0.0\\nsamples = 14\\nvalue = [14, 0]'),\n",
       " Text(188.00307692307692, 75.2676923076923, 'X[1] <= 1.5\\ngini = 0.49\\nsamples = 7\\nvalue = [3, 4]'),\n",
       " Text(185.4276923076923, 58.541538461538465, 'gini = 0.0\\nsamples = 4\\nvalue = [0, 4]'),\n",
       " Text(190.57846153846154, 58.541538461538465, 'gini = 0.0\\nsamples = 3\\nvalue = [3, 0]'),\n",
       " Text(195.72923076923078, 91.99384615384615, 'X[1] <= 2.5\\ngini = 0.408\\nsamples = 7\\nvalue = [2, 5]'),\n",
       " Text(193.15384615384616, 75.2676923076923, 'gini = 0.48\\nsamples = 5\\nvalue = [2, 3]'),\n",
       " Text(198.30461538461537, 75.2676923076923, 'gini = 0.0\\nsamples = 2\\nvalue = [0, 2]'),\n",
       " Text(197.01692307692306, 158.89846153846153, 'X[2] <= 5.5\\ngini = 0.077\\nsamples = 25\\nvalue = [24, 1]'),\n",
       " Text(194.44153846153847, 142.1723076923077, 'gini = 0.0\\nsamples = 14\\nvalue = [14, 0]'),\n",
       " Text(199.59230769230768, 142.1723076923077, 'X[2] <= 6.5\\ngini = 0.165\\nsamples = 11\\nvalue = [10, 1]'),\n",
       " Text(197.01692307692306, 125.44615384615385, 'X[1] <= 1.5\\ngini = 0.375\\nsamples = 4\\nvalue = [3, 1]'),\n",
       " Text(194.44153846153847, 108.72, 'gini = 0.444\\nsamples = 3\\nvalue = [2, 1]'),\n",
       " Text(199.59230769230768, 108.72, 'gini = 0.0\\nsamples = 1\\nvalue = [1, 0]'),\n",
       " Text(202.1676923076923, 125.44615384615385, 'gini = 0.0\\nsamples = 7\\nvalue = [7, 0]'),\n",
       " Text(266.14990384615385, 192.35076923076923, 'X[3] <= 2.5\\ngini = 0.389\\nsamples = 223\\nvalue = [59, 164]'),\n",
       " Text(227.27769230769232, 175.62461538461537, 'X[2] <= 2.5\\ngini = 0.091\\nsamples = 126\\nvalue = [6, 120]'),\n",
       " Text(217.62, 158.89846153846153, 'X[4] <= 2.5\\ngini = 0.069\\nsamples = 111\\nvalue = [4, 107]'),\n",
       " Text(215.04461538461538, 142.1723076923077, 'X[1] <= 1.5\\ngini = 0.159\\nsamples = 46\\nvalue = [4, 42]'),\n",
       " Text(212.46923076923076, 125.44615384615385, 'gini = 0.0\\nsamples = 15\\nvalue = [0, 15]'),\n",
       " Text(217.62, 125.44615384615385, 'X[2] <= 1.5\\ngini = 0.225\\nsamples = 31\\nvalue = [4, 27]'),\n",
       " Text(211.18153846153845, 108.72, 'X[3] <= 1.5\\ngini = 0.191\\nsamples = 28\\nvalue = [3, 25]'),\n",
       " Text(206.03076923076924, 91.99384615384615, 'X[6] <= 0.5\\ngini = 0.444\\nsamples = 3\\nvalue = [1, 2]'),\n",
       " Text(203.45538461538462, 75.2676923076923, 'gini = 0.0\\nsamples = 1\\nvalue = [1, 0]'),\n",
       " Text(208.60615384615386, 75.2676923076923, 'gini = 0.0\\nsamples = 2\\nvalue = [0, 2]'),\n",
       " Text(216.3323076923077, 91.99384615384615, 'X[4] <= 1.5\\ngini = 0.147\\nsamples = 25\\nvalue = [2, 23]'),\n",
       " Text(213.75692307692307, 75.2676923076923, 'X[1] <= 2.5\\ngini = 0.219\\nsamples = 16\\nvalue = [2, 14]'),\n",
       " Text(211.18153846153845, 58.541538461538465, 'gini = 0.0\\nsamples = 5\\nvalue = [0, 5]'),\n",
       " Text(216.3323076923077, 58.541538461538465, 'X[6] <= 0.5\\ngini = 0.298\\nsamples = 11\\nvalue = [2, 9]'),\n",
       " Text(213.75692307692307, 41.81538461538463, 'gini = 0.0\\nsamples = 2\\nvalue = [0, 2]'),\n",
       " Text(218.90769230769232, 41.81538461538463, 'X[1] <= 3.5\\ngini = 0.346\\nsamples = 9\\nvalue = [2, 7]'),\n",
       " Text(216.3323076923077, 25.089230769230767, 'gini = 0.375\\nsamples = 4\\nvalue = [1, 3]'),\n",
       " Text(221.48307692307694, 25.089230769230767, 'gini = 0.32\\nsamples = 5\\nvalue = [1, 4]'),\n",
       " Text(218.90769230769232, 75.2676923076923, 'gini = 0.0\\nsamples = 9\\nvalue = [0, 9]'),\n",
       " Text(224.05846153846153, 108.72, 'X[1] <= 2.5\\ngini = 0.444\\nsamples = 3\\nvalue = [1, 2]'),\n",
       " Text(221.48307692307694, 91.99384615384615, 'gini = 0.0\\nsamples = 1\\nvalue = [1, 0]'),\n",
       " Text(226.63384615384615, 91.99384615384615, 'gini = 0.0\\nsamples = 2\\nvalue = [0, 2]'),\n",
       " Text(220.19538461538463, 142.1723076923077, 'gini = 0.0\\nsamples = 65\\nvalue = [0, 65]'),\n",
       " Text(236.9353846153846, 158.89846153846153, 'X[3] <= 1.5\\ngini = 0.231\\nsamples = 15\\nvalue = [2, 13]'),\n",
       " Text(234.36, 142.1723076923077, 'X[2] <= 3.5\\ngini = 0.444\\nsamples = 6\\nvalue = [2, 4]'),\n",
       " Text(231.7846153846154, 125.44615384615385, 'X[1] <= 2.0\\ngini = 0.444\\nsamples = 3\\nvalue = [2, 1]'),\n",
       " Text(229.20923076923077, 108.72, 'gini = 0.0\\nsamples = 2\\nvalue = [2, 0]'),\n",
       " Text(234.36, 108.72, 'gini = 0.0\\nsamples = 1\\nvalue = [0, 1]'),\n",
       " Text(236.9353846153846, 125.44615384615385, 'gini = 0.0\\nsamples = 3\\nvalue = [0, 3]'),\n",
       " Text(239.51076923076923, 142.1723076923077, 'gini = 0.0\\nsamples = 9\\nvalue = [0, 9]'),\n",
       " Text(305.0221153846154, 175.62461538461537, 'X[2] <= 3.5\\ngini = 0.496\\nsamples = 97\\nvalue = [53, 44]'),\n",
       " Text(285.5457692307692, 158.89846153846153, 'X[1] <= 1.5\\ngini = 0.492\\nsamples = 73\\nvalue = [32, 41]'),\n",
       " Text(264.6207692307692, 142.1723076923077, 'X[6] <= 0.5\\ngini = 0.456\\nsamples = 54\\nvalue = [19, 35]'),\n",
       " Text(247.23692307692306, 125.44615384615385, 'X[2] <= 0.5\\ngini = 0.302\\nsamples = 27\\nvalue = [5, 22]'),\n",
       " Text(239.51076923076923, 108.72, 'X[1] <= 0.5\\ngini = 0.133\\nsamples = 14\\nvalue = [1, 13]'),\n",
       " Text(236.9353846153846, 91.99384615384615, 'gini = 0.0\\nsamples = 4\\nvalue = [0, 4]'),\n",
       " Text(242.08615384615385, 91.99384615384615, 'X[5] <= 0.5\\ngini = 0.18\\nsamples = 10\\nvalue = [1, 9]'),\n",
       " Text(239.51076923076923, 75.2676923076923, 'gini = 0.0\\nsamples = 1\\nvalue = [0, 1]'),\n",
       " Text(244.66153846153847, 75.2676923076923, 'gini = 0.198\\nsamples = 9\\nvalue = [1, 8]'),\n",
       " Text(254.96307692307693, 108.72, 'X[4] <= 0.5\\ngini = 0.426\\nsamples = 13\\nvalue = [4, 9]'),\n",
       " Text(252.3876923076923, 91.99384615384615, 'gini = 0.0\\nsamples = 1\\nvalue = [1, 0]'),\n",
       " Text(257.53846153846155, 91.99384615384615, 'X[1] <= 0.5\\ngini = 0.375\\nsamples = 12\\nvalue = [3, 9]'),\n",
       " Text(249.81230769230768, 75.2676923076923, 'X[4] <= 1.5\\ngini = 0.245\\nsamples = 7\\nvalue = [1, 6]'),\n",
       " Text(247.23692307692306, 58.541538461538465, 'gini = 0.0\\nsamples = 2\\nvalue = [0, 2]'),\n",
       " Text(252.3876923076923, 58.541538461538465, 'X[2] <= 2.5\\ngini = 0.32\\nsamples = 5\\nvalue = [1, 4]'),\n",
       " Text(249.81230769230768, 41.81538461538463, 'X[5] <= 0.5\\ngini = 0.444\\nsamples = 3\\nvalue = [1, 2]'),\n",
       " Text(247.23692307692306, 25.089230769230767, 'gini = 0.5\\nsamples = 2\\nvalue = [1, 1]'),\n",
       " Text(252.3876923076923, 25.089230769230767, 'gini = 0.0\\nsamples = 1\\nvalue = [0, 1]'),\n",
       " Text(254.96307692307693, 41.81538461538463, 'gini = 0.0\\nsamples = 2\\nvalue = [0, 2]'),\n",
       " Text(265.2646153846154, 75.2676923076923, 'X[5] <= 0.5\\ngini = 0.48\\nsamples = 5\\nvalue = [2, 3]'),\n",
       " Text(262.6892307692308, 58.541538461538465, 'X[2] <= 1.5\\ngini = 0.5\\nsamples = 4\\nvalue = [2, 2]'),\n",
       " Text(260.11384615384617, 41.81538461538463, 'gini = 0.0\\nsamples = 1\\nvalue = [1, 0]'),\n",
       " Text(265.2646153846154, 41.81538461538463, 'gini = 0.444\\nsamples = 3\\nvalue = [1, 2]'),\n",
       " Text(267.84, 58.541538461538465, 'gini = 0.0\\nsamples = 1\\nvalue = [0, 1]'),\n",
       " Text(282.00461538461536, 125.44615384615385, 'X[4] <= 0.5\\ngini = 0.499\\nsamples = 27\\nvalue = [14, 13]'),\n",
       " Text(275.56615384615384, 108.72, 'X[1] <= 0.5\\ngini = 0.408\\nsamples = 7\\nvalue = [2, 5]'),\n",
       " Text(272.9907692307692, 91.99384615384615, 'X[2] <= 0.5\\ngini = 0.5\\nsamples = 4\\nvalue = [2, 2]'),\n",
       " Text(270.4153846153846, 75.2676923076923, 'gini = 0.444\\nsamples = 3\\nvalue = [2, 1]'),\n",
       " Text(275.56615384615384, 75.2676923076923, 'gini = 0.0\\nsamples = 1\\nvalue = [0, 1]'),\n",
       " Text(278.14153846153846, 91.99384615384615, 'gini = 0.0\\nsamples = 3\\nvalue = [0, 3]'),\n",
       " Text(288.44307692307694, 108.72, 'X[1] <= 0.5\\ngini = 0.48\\nsamples = 20\\nvalue = [12, 8]'),\n",
       " Text(283.2923076923077, 91.99384615384615, 'X[4] <= 1.5\\ngini = 0.469\\nsamples = 8\\nvalue = [3, 5]'),\n",
       " Text(280.7169230769231, 75.2676923076923, 'gini = 0.0\\nsamples = 5\\nvalue = [0, 5]'),\n",
       " Text(285.8676923076923, 75.2676923076923, 'gini = 0.0\\nsamples = 3\\nvalue = [3, 0]'),\n",
       " Text(293.59384615384613, 91.99384615384615, 'X[4] <= 1.5\\ngini = 0.375\\nsamples = 12\\nvalue = [9, 3]'),\n",
       " Text(291.01846153846157, 75.2676923076923, 'gini = 0.0\\nsamples = 9\\nvalue = [9, 0]'),\n",
       " Text(296.16923076923075, 75.2676923076923, 'gini = 0.0\\nsamples = 3\\nvalue = [0, 3]'),\n",
       " Text(306.47076923076924, 142.1723076923077, 'X[2] <= 0.5\\ngini = 0.432\\nsamples = 19\\nvalue = [13, 6]'),\n",
       " Text(298.7446153846154, 125.44615384615385, 'X[4] <= 0.5\\ngini = 0.5\\nsamples = 8\\nvalue = [4, 4]'),\n",
       " Text(296.16923076923075, 108.72, 'gini = 0.0\\nsamples = 2\\nvalue = [2, 0]'),\n",
       " Text(301.32, 108.72, 'X[1] <= 2.5\\ngini = 0.444\\nsamples = 6\\nvalue = [2, 4]'),\n",
       " Text(298.7446153846154, 91.99384615384615, 'gini = 0.0\\nsamples = 1\\nvalue = [0, 1]'),\n",
       " Text(303.8953846153846, 91.99384615384615, 'X[1] <= 3.5\\ngini = 0.48\\nsamples = 5\\nvalue = [2, 3]'),\n",
       " Text(301.32, 75.2676923076923, 'gini = 0.5\\nsamples = 4\\nvalue = [2, 2]'),\n",
       " Text(306.47076923076924, 75.2676923076923, 'gini = 0.0\\nsamples = 1\\nvalue = [0, 1]'),\n",
       " Text(314.1969230769231, 125.44615384615385, 'X[1] <= 2.5\\ngini = 0.298\\nsamples = 11\\nvalue = [9, 2]'),\n",
       " Text(311.6215384615385, 108.72, 'gini = 0.0\\nsamples = 3\\nvalue = [3, 0]'),\n",
       " Text(316.7723076923077, 108.72, 'X[1] <= 3.5\\ngini = 0.375\\nsamples = 8\\nvalue = [6, 2]'),\n",
       " Text(314.1969230769231, 91.99384615384615, 'X[5] <= 0.5\\ngini = 0.48\\nsamples = 5\\nvalue = [3, 2]'),\n",
       " Text(311.6215384615385, 75.2676923076923, 'X[2] <= 1.5\\ngini = 0.5\\nsamples = 4\\nvalue = [2, 2]'),\n",
       " Text(309.04615384615386, 58.541538461538465, 'gini = 0.5\\nsamples = 2\\nvalue = [1, 1]'),\n",
       " Text(314.1969230769231, 58.541538461538465, 'gini = 0.5\\nsamples = 2\\nvalue = [1, 1]'),\n",
       " Text(316.7723076923077, 75.2676923076923, 'gini = 0.0\\nsamples = 1\\nvalue = [1, 0]'),\n",
       " Text(319.3476923076923, 91.99384615384615, 'gini = 0.0\\nsamples = 3\\nvalue = [3, 0]'),\n",
       " Text(324.4984615384615, 158.89846153846153, 'X[4] <= 1.5\\ngini = 0.219\\nsamples = 24\\nvalue = [21, 3]'),\n",
       " Text(321.9230769230769, 142.1723076923077, 'gini = 0.0\\nsamples = 1\\nvalue = [0, 1]'),\n",
       " Text(327.07384615384615, 142.1723076923077, 'X[2] <= 5.5\\ngini = 0.159\\nsamples = 23\\nvalue = [21, 2]'),\n",
       " Text(324.4984615384615, 125.44615384615385, 'gini = 0.0\\nsamples = 13\\nvalue = [13, 0]'),\n",
       " Text(329.64923076923077, 125.44615384615385, 'X[2] <= 6.5\\ngini = 0.32\\nsamples = 10\\nvalue = [8, 2]'),\n",
       " Text(327.07384615384615, 108.72, 'X[1] <= 1.5\\ngini = 0.444\\nsamples = 6\\nvalue = [4, 2]'),\n",
       " Text(324.4984615384615, 91.99384615384615, 'gini = 0.32\\nsamples = 5\\nvalue = [4, 1]'),\n",
       " Text(329.64923076923077, 91.99384615384615, 'gini = 0.0\\nsamples = 1\\nvalue = [0, 1]'),\n",
       " Text(332.2246153846154, 108.72, 'gini = 0.0\\nsamples = 4\\nvalue = [4, 0]')]"
      ]
     },
     "execution_count": 78,
     "metadata": {},
     "output_type": "execute_result"
    },
    {
     "data": {
      "image/png": "[encoded data removed]",
      "text/plain": [
       "<Figure size 432x288 with 1 Axes>"
      ]
     },
     "metadata": {
      "needs_background": "light"
     },
     "output_type": "display_data"
    }
   ],
   "source": [
    "plot_tree(dtc)"
   ]
  },
  {
   "cell_type": "code",
   "execution_count": 12,
   "id": "limiting-calcium",
   "metadata": {},
   "outputs": [],
   "source": [
    "DecisionTreeClassifier?"
   ]
  },
  {
   "cell_type": "code",
   "execution_count": 13,
   "id": "polyphonic-photography",
   "metadata": {},
   "outputs": [],
   "source": [
    "from sklearn.ensemble import RandomForestClassifier"
   ]
  },
  {
   "cell_type": "code",
   "execution_count": 17,
   "id": "neutral-manor",
   "metadata": {},
   "outputs": [],
   "source": [
    "rfc=RandomForestClassifier(n_estimators=10)"
   ]
  },
  {
   "cell_type": "code",
   "execution_count": 18,
   "id": "sealed-strip",
   "metadata": {},
   "outputs": [
    {
     "data": {
      "text/plain": [
       "RandomForestClassifier(n_estimators=10)"
      ]
     },
     "execution_count": 18,
     "metadata": {},
     "output_type": "execute_result"
    }
   ],
   "source": [
    "rfc.fit(xtrain,ytrain)"
   ]
  },
  {
   "cell_type": "code",
   "execution_count": 19,
   "id": "academic-cradle",
   "metadata": {},
   "outputs": [
    {
     "data": {
      "text/plain": [
       "0.7432432432432432"
      ]
     },
     "execution_count": 19,
     "metadata": {},
     "output_type": "execute_result"
    }
   ],
   "source": [
    "f1_score(rfc.predict(xtest),ytest)"
   ]
  },
  {
   "cell_type": "code",
   "execution_count": null,
   "id": "proof-sheet",
   "metadata": {},
   "outputs": [],
   "source": []
  }
 ],
 "metadata": {
  "kernelspec": {
   "display_name": "Python 3",
   "language": "python",
   "name": "python3"
  },
  "language_info": {
   "codemirror_mode": {
    "name": "ipython",
    "version": 3
   },
   "file_extension": ".py",
   "mimetype": "text/x-python",
   "name": "python",
   "nbconvert_exporter": "python",
   "pygments_lexer": "ipython3",
   "version": "3.8.5"
  }
 },
 "nbformat": 4,
 "nbformat_minor": 5
}
