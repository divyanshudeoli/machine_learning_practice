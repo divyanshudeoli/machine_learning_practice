{
 "cells": [
  {
   "cell_type": "code",
   "execution_count": 39,
   "id": "significant-fleet",
   "metadata": {},
   "outputs": [],
   "source": [
    "import numpy as np\n",
    "import pandas as pd\n",
    "import matplotlib.pyplot as plt\n",
    "import sklearn as sk\n",
    "from sklearn.tree import DecisionTreeClassifier"
   ]
  },
  {
   "cell_type": "code",
   "execution_count": 74,
   "id": "recorded-chaos",
   "metadata": {},
   "outputs": [],
   "source": [
    "c1=np.random.randint(0,10,10000)"
   ]
  },
  {
   "cell_type": "code",
   "execution_count": 75,
   "id": "damaged-gather",
   "metadata": {},
   "outputs": [],
   "source": [
    "c2=np.random.randint(0,2,10000)"
   ]
  },
  {
   "cell_type": "code",
   "execution_count": 76,
   "id": "royal-momentum",
   "metadata": {},
   "outputs": [],
   "source": [
    "c3=np.random.randint(5,10,10000)"
   ]
  },
  {
   "cell_type": "code",
   "execution_count": 49,
   "id": "interior-warrant",
   "metadata": {},
   "outputs": [],
   "source": [
    "#y=np.random.randint(1,5,1000)"
   ]
  },
  {
   "cell_type": "code",
   "execution_count": 87,
   "id": "proper-nothing",
   "metadata": {},
   "outputs": [],
   "source": [
    "y=((c1**3+c3/2)%6)"
   ]
  },
  {
   "cell_type": "code",
   "execution_count": 88,
   "id": "wired-pepper",
   "metadata": {},
   "outputs": [],
   "source": [
    "y=y.astype(int)"
   ]
  },
  {
   "cell_type": "code",
   "execution_count": 81,
   "id": "absolute-removal",
   "metadata": {},
   "outputs": [],
   "source": [
    "x=pd.DataFrame(data=[c1,c2,c3]).T"
   ]
  },
  {
   "cell_type": "code",
   "execution_count": 83,
   "id": "surprised-alaska",
   "metadata": {},
   "outputs": [],
   "source": [
    "x.columns=['c1','c2','c3']"
   ]
  },
  {
   "cell_type": "code",
   "execution_count": 89,
   "id": "determined-master",
   "metadata": {},
   "outputs": [],
   "source": [
    "y=y.reshape(-1,1)"
   ]
  },
  {
   "cell_type": "code",
   "execution_count": 38,
   "id": "dedicated-italy",
   "metadata": {},
   "outputs": [],
   "source": [
    "dt=DecisionTreeClassifier()"
   ]
  },
  {
   "cell_type": "code",
   "execution_count": 90,
   "id": "hearing-myrtle",
   "metadata": {},
   "outputs": [],
   "source": [
    "trainx,testx,trainy,testy=sk.model_selection.train_test_split(x,y)"
   ]
  },
  {
   "cell_type": "code",
   "execution_count": 91,
   "id": "reduced-march",
   "metadata": {},
   "outputs": [
    {
     "data": {
      "text/plain": [
       "DecisionTreeClassifier()"
      ]
     },
     "execution_count": 91,
     "metadata": {},
     "output_type": "execute_result"
    }
   ],
   "source": [
    "dt.fit(trainx,trainy)"
   ]
  },
  {
   "cell_type": "code",
   "execution_count": 92,
   "id": "impossible-lover",
   "metadata": {},
   "outputs": [],
   "source": [
    "pred=dt.predict(testx)"
   ]
  },
  {
   "cell_type": "code",
   "execution_count": 93,
   "id": "valued-rally",
   "metadata": {},
   "outputs": [
    {
     "data": {
      "text/plain": [
       "1.0"
      ]
     },
     "execution_count": 93,
     "metadata": {},
     "output_type": "execute_result"
    }
   ],
   "source": [
    "sk.metrics.accuracy_score(pred,testy)"
   ]
  },
  {
   "cell_type": "code",
   "execution_count": null,
   "id": "cross-occurrence",
   "metadata": {},
   "outputs": [],
   "source": []
  }
 ],
 "metadata": {
  "kernelspec": {
   "display_name": "Python 3",
   "language": "python",
   "name": "python3"
  },
  "language_info": {
   "codemirror_mode": {
    "name": "ipython",
    "version": 3
   },
   "file_extension": ".py",
   "mimetype": "text/x-python",
   "name": "python",
   "nbconvert_exporter": "python",
   "pygments_lexer": "ipython3",
   "version": "3.8.5"
  }
 },
 "nbformat": 4,
 "nbformat_minor": 5
}
