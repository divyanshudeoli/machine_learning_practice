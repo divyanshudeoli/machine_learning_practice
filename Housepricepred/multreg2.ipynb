{
 "cells": [
  {
   "cell_type": "code",
   "execution_count": 1,
   "id": "western-reception",
   "metadata": {},
   "outputs": [],
   "source": [
    "import numpy as np\n",
    "i''''''mport pandas as pd\n",
    "import matplotlib.pyplot as plt\n",
    "from sklearn.linear_model import LinearRegression\n",
    "from sklearn.model_selection import train_test_split\n",
    "from sklearn.metrics import r2_score''''''"
   ]
  },
  {
   "cell_type": "code",
   "execution_count": 31,
   "id": "preliminary-binding",
   "metadata": {},
   "outputs": [],
   "source": [
    "x=np.arange(1,501)"
   ]
  },
  {
   "cell_type": "code",
   "execution_count": 37,
   "id": "arabic-syndrome",
   "metadata": {},
   "outputs": [],
   "source": [
    "ran=np.random.normal(0,10,500)"
   ]
  },
  {
   "cell_type": "code",
   "execution_count": 38,
   "id": "duplicate-compact",
   "metadata": {},
   "outputs": [],
   "source": [
    "x1=7*x-(x**1.01)"
   ]
  },
  {
   "cell_type": "code",
   "execution_count": 80,
   "id": "intimate-intersection",
   "metadata": {},
   "outputs": [],
   "source": [
    "x2=10000-(13*x+27+0.003*(x**1.5))"
   ]
  },
  {
   "cell_type": "code",
   "execution_count": 81,
   "id": "serial-appeal",
   "metadata": {},
   "outputs": [],
   "source": [
    "x12=x1+x2+ran"
   ]
  },
  {
   "cell_type": "code",
   "execution_count": 67,
   "id": "parliamentary-seven",
   "metadata": {},
   "outputs": [],
   "source": [
    "x3=x1+x**1.005+35"
   ]
  },
  {
   "cell_type": "code",
   "execution_count": 82,
   "id": "unique-grain",
   "metadata": {},
   "outputs": [],
   "source": [
    "x123=x12+x3"
   ]
  },
  {
   "cell_type": "code",
   "execution_count": 83,
   "id": "fifty-chassis",
   "metadata": {},
   "outputs": [
    {
     "data": {
      "text/plain": [
       "[<matplotlib.lines.Line2D at 0x21b60b08>]"
      ]
     },
     "execution_count": 83,
     "metadata": {},
     "output_type": "execute_result"
    },
    {
     "data": {
      "image/png": "[encoded data removed]",
      "text/plain": [
       "<Figure size 432x288 with 1 Axes>"
      ]
     },
     "metadata": {
      "needs_background": "light"
     },
     "output_type": "display_data"
    }
   ],
   "source": [
    "plt.plot(x,y)"
   ]
  },
  {
   "cell_type": "code",
   "execution_count": 50,
   "id": "bound-upgrade",
   "metadata": {},
   "outputs": [],
   "source": [
    "y=x2+0.5*x12+x3"
   ]
  },
  {
   "cell_type": "code",
   "execution_count": 85,
   "id": "given-quest",
   "metadata": {},
   "outputs": [],
   "source": [
    "xdf=pd.DataFrame(data=[x12]).T"
   ]
  },
  {
   "cell_type": "code",
   "execution_count": 86,
   "id": "blessed-morris",
   "metadata": {},
   "outputs": [],
   "source": [
    "y=y.reshape(-1,1)"
   ]
  },
  {
   "cell_type": "code",
   "execution_count": 59,
   "id": "latest-medicare",
   "metadata": {},
   "outputs": [],
   "source": [
    "le=LinearRegression()"
   ]
  },
  {
   "cell_type": "code",
   "execution_count": 87,
   "id": "correct-personal",
   "metadata": {},
   "outputs": [],
   "source": [
    "xr,xe,yr,ye=train_test_split(xdf,y)"
   ]
  },
  {
   "cell_type": "code",
   "execution_count": 88,
   "id": "swiss-commerce",
   "metadata": {},
   "outputs": [
    {
     "data": {
      "text/plain": [
       "LinearRegression()"
      ]
     },
     "execution_count": 88,
     "metadata": {},
     "output_type": "execute_result"
    }
   ],
   "source": [
    "le.fit(xr,yr)"
   ]
  },
  {
   "cell_type": "code",
   "execution_count": 89,
   "id": "military-diana",
   "metadata": {},
   "outputs": [],
   "source": [
    "pred=le.predict(xe)"
   ]
  },
  {
   "cell_type": "code",
   "execution_count": 90,
   "id": "domestic-bracket",
   "metadata": {},
   "outputs": [
    {
     "data": {
      "text/plain": [
       "0.999838920858757"
      ]
     },
     "execution_count": 90,
     "metadata": {},
     "output_type": "execute_result"
    }
   ],
   "source": [
    "r2_score(ye,pred)"
   ]
  },
  {
   "cell_type": "code",
   "execution_count": null,
   "id": "hidden-training",
   "metadata": {},
   "outputs": [],
   "source": []
  }
 ],
 "metadata": {
  "kernelspec": {
   "display_name": "Python 3",
   "language": "python",
   "name": "python3"
  },
  "language_info": {
   "codemirror_mode": {
    "name": "ipython",
    "version": 3
   },
   "file_extension": ".py",
   "mimetype": "text/x-python",
   "name": "python",
   "nbconvert_exporter": "python",
   "pygments_lexer": "ipython3",
   "version": "3.8.5"
  }
 },
 "nbformat": 4,
 "nbformat_minor": 5
}
