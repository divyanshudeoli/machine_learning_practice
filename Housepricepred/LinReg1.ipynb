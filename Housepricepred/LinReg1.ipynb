{
 "cells": [
  {
   "cell_type": "code",
   "execution_count": 1,
   "id": "local-richardson",
   "metadata": {},
   "outputs": [],
   "source": [
    "import numpy as np\n",
    "import pandas as pd"
   ]
  },
  {
   "cell_type": "code",
   "execution_count": 2,
   "id": "younger-assurance",
   "metadata": {},
   "outputs": [],
   "source": [
    "ind=np.arange(1,101)"
   ]
  },
  {
   "cell_type": "code",
   "execution_count": 3,
   "id": "liable-third",
   "metadata": {},
   "outputs": [
    {
     "data": {
      "text/plain": [
       "array([  1,   2,   3,   4,   5,   6,   7,   8,   9,  10,  11,  12,  13,\n",
       "        14,  15,  16,  17,  18,  19,  20,  21,  22,  23,  24,  25,  26,\n",
       "        27,  28,  29,  30,  31,  32,  33,  34,  35,  36,  37,  38,  39,\n",
       "        40,  41,  42,  43,  44,  45,  46,  47,  48,  49,  50,  51,  52,\n",
       "        53,  54,  55,  56,  57,  58,  59,  60,  61,  62,  63,  64,  65,\n",
       "        66,  67,  68,  69,  70,  71,  72,  73,  74,  75,  76,  77,  78,\n",
       "        79,  80,  81,  82,  83,  84,  85,  86,  87,  88,  89,  90,  91,\n",
       "        92,  93,  94,  95,  96,  97,  98,  99, 100])"
      ]
     },
     "execution_count": 3,
     "metadata": {},
     "output_type": "execute_result"
    }
   ],
   "source": [
    "ind"
   ]
  },
  {
   "cell_type": "code",
   "execution_count": 4,
   "id": "unique-destiny",
   "metadata": {},
   "outputs": [],
   "source": [
    "x=7*(ind*ind)-3*ind"
   ]
  },
  {
   "cell_type": "code",
   "execution_count": 5,
   "id": "latest-turtle",
   "metadata": {},
   "outputs": [
    {
     "data": {
      "text/plain": [
       "array([    4,    22,    54,   100,   160,   234,   322,   424,   540,\n",
       "         670,   814,   972,  1144,  1330,  1530,  1744,  1972,  2214,\n",
       "        2470,  2740,  3024,  3322,  3634,  3960,  4300,  4654,  5022,\n",
       "        5404,  5800,  6210,  6634,  7072,  7524,  7990,  8470,  8964,\n",
       "        9472,  9994, 10530, 11080, 11644, 12222, 12814, 13420, 14040,\n",
       "       14674, 15322, 15984, 16660, 17350, 18054, 18772, 19504, 20250,\n",
       "       21010, 21784, 22572, 23374, 24190, 25020, 25864, 26722, 27594,\n",
       "       28480, 29380, 30294, 31222, 32164, 33120, 34090, 35074, 36072,\n",
       "       37084, 38110, 39150, 40204, 41272, 42354, 43450, 44560, 45684,\n",
       "       46822, 47974, 49140, 50320, 51514, 52722, 53944, 55180, 56430,\n",
       "       57694, 58972, 60264, 61570, 62890, 64224, 65572, 66934, 68310,\n",
       "       69700])"
      ]
     },
     "execution_count": 5,
     "metadata": {},
     "output_type": "execute_result"
    }
   ],
   "source": [
    "x"
   ]
  },
  {
   "cell_type": "code",
   "execution_count": 6,
   "id": "convinced-toyota",
   "metadata": {},
   "outputs": [],
   "source": [
    "y=ind"
   ]
  },
  {
   "cell_type": "code",
   "execution_count": 7,
   "id": "minor-scanner",
   "metadata": {},
   "outputs": [
    {
     "data": {
      "text/plain": [
       "array([  1,   2,   3,   4,   5,   6,   7,   8,   9,  10,  11,  12,  13,\n",
       "        14,  15,  16,  17,  18,  19,  20,  21,  22,  23,  24,  25,  26,\n",
       "        27,  28,  29,  30,  31,  32,  33,  34,  35,  36,  37,  38,  39,\n",
       "        40,  41,  42,  43,  44,  45,  46,  47,  48,  49,  50,  51,  52,\n",
       "        53,  54,  55,  56,  57,  58,  59,  60,  61,  62,  63,  64,  65,\n",
       "        66,  67,  68,  69,  70,  71,  72,  73,  74,  75,  76,  77,  78,\n",
       "        79,  80,  81,  82,  83,  84,  85,  86,  87,  88,  89,  90,  91,\n",
       "        92,  93,  94,  95,  96,  97,  98,  99, 100])"
      ]
     },
     "execution_count": 7,
     "metadata": {},
     "output_type": "execute_result"
    }
   ],
   "source": [
    "y"
   ]
  },
  {
   "cell_type": "code",
   "execution_count": 8,
   "id": "italian-lover",
   "metadata": {},
   "outputs": [],
   "source": [
    "from sklearn.model_selection import train_test_split"
   ]
  },
  {
   "cell_type": "code",
   "execution_count": 9,
   "id": "brown-shape",
   "metadata": {},
   "outputs": [],
   "source": [
    "xtr,xtest,ytr,ytest=train_test_split(y,x,test_size=0.25)"
   ]
  },
  {
   "cell_type": "code",
   "execution_count": 10,
   "id": "discrete-europe",
   "metadata": {},
   "outputs": [],
   "source": [
    "from sklearn.linear_model import LinearRegression"
   ]
  },
  {
   "cell_type": "code",
   "execution_count": 15,
   "id": "assisted-birth",
   "metadata": {},
   "outputs": [],
   "source": [
    "le=LinearRegression()"
   ]
  },
  {
   "cell_type": "code",
   "execution_count": 21,
   "id": "considered-ethnic",
   "metadata": {},
   "outputs": [],
   "source": [
    "ytr=ytr.reshape(-1,1)"
   ]
  },
  {
   "cell_type": "code",
   "execution_count": 20,
   "id": "infrared-ticket",
   "metadata": {},
   "outputs": [
    {
     "data": {
      "text/plain": [
       "array([[ 60],\n",
       "       [ 65],\n",
       "       [  4],\n",
       "       [ 48],\n",
       "       [ 61],\n",
       "       [ 71],\n",
       "       [ 72],\n",
       "       [ 18],\n",
       "       [ 26],\n",
       "       [ 19],\n",
       "       [ 85],\n",
       "       [ 54],\n",
       "       [ 98],\n",
       "       [ 87],\n",
       "       [ 79],\n",
       "       [ 27],\n",
       "       [ 92],\n",
       "       [ 66],\n",
       "       [ 91],\n",
       "       [ 15],\n",
       "       [ 96],\n",
       "       [ 35],\n",
       "       [ 11],\n",
       "       [ 37],\n",
       "       [ 64],\n",
       "       [ 80],\n",
       "       [ 83],\n",
       "       [ 81],\n",
       "       [ 62],\n",
       "       [ 59],\n",
       "       [  5],\n",
       "       [ 12],\n",
       "       [ 23],\n",
       "       [ 45],\n",
       "       [ 82],\n",
       "       [100],\n",
       "       [ 93],\n",
       "       [ 10],\n",
       "       [ 14],\n",
       "       [ 56],\n",
       "       [ 97],\n",
       "       [ 76],\n",
       "       [  6],\n",
       "       [ 99],\n",
       "       [ 52],\n",
       "       [ 46],\n",
       "       [ 84],\n",
       "       [ 70],\n",
       "       [ 32],\n",
       "       [ 74],\n",
       "       [ 75],\n",
       "       [ 34],\n",
       "       [ 28],\n",
       "       [ 25],\n",
       "       [ 77],\n",
       "       [ 33],\n",
       "       [ 42],\n",
       "       [ 49],\n",
       "       [ 41],\n",
       "       [ 24],\n",
       "       [ 68],\n",
       "       [ 90],\n",
       "       [ 69],\n",
       "       [ 38],\n",
       "       [  2],\n",
       "       [ 51],\n",
       "       [ 53],\n",
       "       [ 31],\n",
       "       [ 21],\n",
       "       [ 95],\n",
       "       [ 78],\n",
       "       [ 43],\n",
       "       [ 20],\n",
       "       [ 22],\n",
       "       [  3]])"
      ]
     },
     "execution_count": 20,
     "metadata": {},
     "output_type": "execute_result"
    }
   ],
   "source": [
    "xtr"
   ]
  },
  {
   "cell_type": "code",
   "execution_count": 22,
   "id": "governing-homeless",
   "metadata": {},
   "outputs": [
    {
     "data": {
      "text/plain": [
       "LinearRegression()"
      ]
     },
     "execution_count": 22,
     "metadata": {},
     "output_type": "execute_result"
    }
   ],
   "source": [
    "le.fit(xtr,ytr)"
   ]
  },
  {
   "cell_type": "code",
   "execution_count": 23,
   "id": "according-application",
   "metadata": {},
   "outputs": [],
   "source": [
    "xtest=xtest.reshape(-1,1)"
   ]
  },
  {
   "cell_type": "code",
   "execution_count": 24,
   "id": "qualified-charge",
   "metadata": {},
   "outputs": [
    {
     "data": {
      "text/plain": [
       "array([[73],\n",
       "       [30],\n",
       "       [57],\n",
       "       [47],\n",
       "       [94],\n",
       "       [40],\n",
       "       [29],\n",
       "       [ 9],\n",
       "       [ 8],\n",
       "       [63],\n",
       "       [44],\n",
       "       [39],\n",
       "       [ 1],\n",
       "       [ 7],\n",
       "       [86],\n",
       "       [16],\n",
       "       [55],\n",
       "       [89],\n",
       "       [36],\n",
       "       [88],\n",
       "       [13],\n",
       "       [58],\n",
       "       [50],\n",
       "       [17],\n",
       "       [67]])"
      ]
     },
     "execution_count": 24,
     "metadata": {},
     "output_type": "execute_result"
    }
   ],
   "source": [
    "xtest"
   ]
  },
  {
   "cell_type": "code",
   "execution_count": 26,
   "id": "tribal-technique",
   "metadata": {},
   "outputs": [],
   "source": [
    "pred=le.predict(xtest)"
   ]
  },
  {
   "cell_type": "code",
   "execution_count": 28,
   "id": "quarterly-profession",
   "metadata": {},
   "outputs": [],
   "source": [
    "from sklearn.metrics import mean_squared_error"
   ]
  },
  {
   "cell_type": "code",
   "execution_count": 29,
   "id": "departmental-hammer",
   "metadata": {},
   "outputs": [
    {
     "data": {
      "text/plain": [
       "29721133.80621905"
      ]
     },
     "execution_count": 29,
     "metadata": {},
     "output_type": "execute_result"
    }
   ],
   "source": [
    "mean_squared_error(pred,ytest)"
   ]
  },
  {
   "cell_type": "code",
   "execution_count": 30,
   "id": "automatic-welcome",
   "metadata": {},
   "outputs": [],
   "source": [
    "from sklearn.metrics import r2_score"
   ]
  },
  {
   "cell_type": "code",
   "execution_count": 31,
   "id": "linear-announcement",
   "metadata": {},
   "outputs": [
    {
     "data": {
      "text/plain": [
       "0.925060245619323"
      ]
     },
     "execution_count": 31,
     "metadata": {},
     "output_type": "execute_result"
    }
   ],
   "source": [
    "r2_score(pred,ytest)"
   ]
  },
  {
   "cell_type": "code",
   "execution_count": 52,
   "id": "minus-framework",
   "metadata": {},
   "outputs": [],
   "source": [
    "x=np.arange(1,10001)"
   ]
  },
  {
   "cell_type": "code",
   "execution_count": 53,
   "id": "agreed-audio",
   "metadata": {},
   "outputs": [
    {
     "data": {
      "text/plain": [
       "array([      1,       2,       3, ...,  999998,  999999, 1000000])"
      ]
     },
     "execution_count": 53,
     "metadata": {},
     "output_type": "execute_result"
    }
   ],
   "source": [
    "x"
   ]
  },
  {
   "cell_type": "code",
   "execution_count": 50,
   "id": "assured-composite",
   "metadata": {},
   "outputs": [],
   "source": [
    "y=7*(x*x)-3*x"
   ]
  },
  {
   "cell_type": "code",
   "execution_count": 51,
   "id": "covered-accuracy",
   "metadata": {},
   "outputs": [
    {
     "data": {
      "text/plain": [
       "array([         4,         22,         54, ..., -827692446, -813692470,\n",
       "       -799692480])"
      ]
     },
     "execution_count": 51,
     "metadata": {},
     "output_type": "execute_result"
    }
   ],
   "source": [
    "y"
   ]
  },
  {
   "cell_type": "code",
   "execution_count": 35,
   "id": "authorized-actress",
   "metadata": {},
   "outputs": [],
   "source": [
    "import matplotlib.pyplot as plt"
   ]
  },
  {
   "cell_type": "code",
   "execution_count": 54,
   "id": "composed-preference",
   "metadata": {},
   "outputs": [
    {
     "data": {
      "text/plain": [
       "<matplotlib.collections.PathCollection at 0x1d758d30>"
      ]
     },
     "execution_count": 54,
     "metadata": {},
     "output_type": "execute_result"
    },
    {
     "data": {
      "image/png": "[encoded data removed]",
      "text/plain": [
       "<Figure size 432x288 with 1 Axes>"
      ]
     },
     "metadata": {
      "needs_background": "light"
     },
     "output_type": "display_data"
    }
   ],
   "source": [
    "plt.scatter(x,y)"
   ]
  },
  {
   "cell_type": "code",
   "execution_count": 48,
   "id": "ultimate-camping",
   "metadata": {},
   "outputs": [],
   "source": [
    "xtr,xtest,ytr,ytest=train_test_split(x,y)"
   ]
  },
  {
   "cell_type": "code",
   "execution_count": null,
   "id": "unauthorized-optics",
   "metadata": {},
   "outputs": [],
   "source": [
    "xtr=xtr.reshape(-1,1)\n",
    "ytr=ytr.reshape(-1,1)"
   ]
  },
  {
   "cell_type": "code",
   "execution_count": 41,
   "id": "appropriate-attachment",
   "metadata": {},
   "outputs": [],
   "source": [
    "xtest=xtest.reshape(-1,1)\n",
    "ytest=ytest.reshape(-1,1)"
   ]
  },
  {
   "cell_type": "code",
   "execution_count": 42,
   "id": "amino-change",
   "metadata": {},
   "outputs": [
    {
     "data": {
      "text/plain": [
       "LinearRegression()"
      ]
     },
     "execution_count": 42,
     "metadata": {},
     "output_type": "execute_result"
    }
   ],
   "source": [
    "le.fit(xtr,ytr)"
   ]
  },
  {
   "cell_type": "code",
   "execution_count": 46,
   "id": "differential-shadow",
   "metadata": {},
   "outputs": [],
   "source": [
    "pred=le.predict(xtest)"
   ]
  },
  {
   "cell_type": "code",
   "execution_count": 47,
   "id": "married-lyric",
   "metadata": {},
   "outputs": [
    {
     "data": {
      "text/plain": [
       "0.9364427025452262"
      ]
     },
     "execution_count": 47,
     "metadata": {},
     "output_type": "execute_result"
    }
   ],
   "source": [
    "r2_score(ytest,pred)"
   ]
  },
  {
   "cell_type": "code",
   "execution_count": null,
   "id": "loaded-undergraduate",
   "metadata": {},
   "outputs": [],
   "source": []
  }
 ],
 "metadata": {
  "kernelspec": {
   "display_name": "Python 3",
   "language": "python",
   "name": "python3"
  },
  "language_info": {
   "codemirror_mode": {
    "name": "ipython",
    "version": 3
   },
   "file_extension": ".py",
   "mimetype": "text/x-python",
   "name": "python",
   "nbconvert_exporter": "python",
   "pygments_lexer": "ipython3",
   "version": "3.8.5"
  }
 },
 "nbformat": 4,
 "nbformat_minor": 5
}
