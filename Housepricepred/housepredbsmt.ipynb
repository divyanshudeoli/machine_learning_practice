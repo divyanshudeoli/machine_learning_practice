{
 "cells": [
  {
   "cell_type": "code",
   "execution_count": 2,
   "id": "synthetic-mortality",
   "metadata": {},
   "outputs": [],
   "source": [
    "import pandas as pd\n",
    "import numpy as np\n",
    "import matplotlib.pyplot as plt"
   ]
  },
  {
   "cell_type": "code",
   "execution_count": 3,
   "id": "handled-canon",
   "metadata": {},
   "outputs": [],
   "source": [
    "from sklearn.linear_model import LinearRegression\n",
    "from sklearn.metrics import r2_score\n",
    "from sklearn.preprocessing import LabelEncoder\n",
    "from sklearn.model_selection import train_test_split as split"
   ]
  },
  {
   "cell_type": "code",
   "execution_count": 4,
   "id": "sound-lingerie",
   "metadata": {},
   "outputs": [],
   "source": [
    "enc=LabelEncoder()"
   ]
  },
  {
   "cell_type": "code",
   "execution_count": 5,
   "id": "lovely-lucas",
   "metadata": {},
   "outputs": [],
   "source": [
    "train=pd.read_csv(\"train.csv\")\n",
    "y=train['SalePrice']"
   ]
  },
  {
   "cell_type": "code",
   "execution_count": 6,
   "id": "interested-pointer",
   "metadata": {},
   "outputs": [
    {
     "data": {
      "text/plain": [
       "Index(['Id', 'MSSubClass', 'MSZoning', 'LotFrontage', 'LotArea', 'Street',\n",
       "       'Alley', 'LotShape', 'LandContour', 'Utilities', 'LotConfig',\n",
       "       'LandSlope', 'Neighborhood', 'Condition1', 'Condition2', 'BldgType',\n",
       "       'HouseStyle', 'OverallQual', 'OverallCond', 'YearBuilt', 'YearRemodAdd',\n",
       "       'RoofStyle', 'RoofMatl', 'Exterior1st', 'Exterior2nd', 'MasVnrType',\n",
       "       'MasVnrArea', 'ExterQual', 'ExterCond', 'Foundation', 'BsmtQual',\n",
       "       'BsmtCond', 'BsmtExposure', 'BsmtFinType1', 'BsmtFinSF1',\n",
       "       'BsmtFinType2', 'BsmtFinSF2', 'BsmtUnfSF', 'TotalBsmtSF', 'Heating',\n",
       "       'HeatingQC', 'CentralAir', 'Electrical', '1stFlrSF', '2ndFlrSF',\n",
       "       'LowQualFinSF', 'GrLivArea', 'BsmtFullBath', 'BsmtHalfBath', 'FullBath',\n",
       "       'HalfBath', 'BedroomAbvGr', 'KitchenAbvGr', 'KitchenQual',\n",
       "       'TotRmsAbvGrd', 'Functional', 'Fireplaces', 'FireplaceQu', 'GarageType',\n",
       "       'GarageYrBlt', 'GarageFinish', 'GarageCars', 'GarageArea', 'GarageQual',\n",
       "       'GarageCond', 'PavedDrive', 'WoodDeckSF', 'OpenPorchSF',\n",
       "       'EnclosedPorch', '3SsnPorch', 'ScreenPorch', 'PoolArea', 'PoolQC',\n",
       "       'Fence', 'MiscFeature', 'MiscVal', 'MoSold', 'YrSold', 'SaleType',\n",
       "       'SaleCondition', 'SalePrice'],\n",
       "      dtype='object')"
      ]
     },
     "execution_count": 6,
     "metadata": {},
     "output_type": "execute_result"
    }
   ],
   "source": [
    "train.columns"
   ]
  },
  {
   "cell_type": "code",
   "execution_count": 6,
   "id": "laden-denial",
   "metadata": {},
   "outputs": [
    {
     "data": {
      "text/plain": [
       "BsmtQual        37\n",
       "BsmtCond        37\n",
       "BsmtExposure    38\n",
       "BsmtFinType1    37\n",
       "BsmtFinSF1       0\n",
       "BsmtFinType2    38\n",
       "BsmtFinSF2       0\n",
       "BsmtUnfSF        0\n",
       "TotalBsmtSF      0\n",
       "dtype: int64"
      ]
     },
     "execution_count": 6,
     "metadata": {},
     "output_type": "execute_result"
    }
   ],
   "source": [
    "train[['BsmtQual','BsmtCond', 'BsmtExposure', 'BsmtFinType1', 'BsmtFinSF1',\n",
    "       'BsmtFinType2', 'BsmtFinSF2', 'BsmtUnfSF', 'TotalBsmtSF']].isnull().sum()"
   ]
  },
  {
   "cell_type": "code",
   "execution_count": 24,
   "id": "violent-moldova",
   "metadata": {},
   "outputs": [
    {
     "name": "stdout",
     "output_type": "stream",
     "text": [
      "0.6135805515591956\n",
      "0.6136209792732429\n",
      "0.6136609245945207\n",
      "0.6137003861707708\n",
      "0.6137393626499851\n",
      "0.6137778526804272\n",
      "0.6138158549106558\n",
      "0.613853367989549\n",
      "0.6138903905663262\n",
      "0.6139269212905721\n",
      "0.613962958812261\n",
      "0.61399850178178\n",
      "0.6140335488499515\n",
      "0.6140680986680596\n",
      "0.6141021498878712\n",
      "0.6141357011616623\n",
      "0.6141687511422409\n",
      "0.6142012984829714\n",
      "0.6142333418378004\n",
      "0.6142648798612781\n",
      "0.6142959112085858\n",
      "0.6143264345355592\n",
      "0.6143564484987127\n",
      "0.6143859517552656\n",
      "0.6144149429631652\n",
      "0.6144434207811139\n",
      "0.6144713838685922\n",
      "0.6144988308858854\n",
      "0.6145257604941086\n",
      "0.6145521713552311\n",
      "0.6145780621321034\n",
      "0.614603431488481\n",
      "0.6146282780890526\n",
      "0.6146526005994625\n",
      "0.6146763976863393\n",
      "0.6146996680173205\n",
      "0.6147224102610784\n",
      "0.6147446230873469\n",
      "0.6147663051669476\n",
      "0.6147874551718145\n",
      "0.614808071775023\n",
      "0.6148281536508147\n",
      "0.6148476994746239\n",
      "0.6148667079231047\n",
      "0.6148851776741574\n",
      "0.6149031074069558\n",
      "0.6149204958019733\n",
      "0.6149373415410105\n",
      "0.6149536433072219\n",
      "0.6149693997851433\n",
      "0.6149846096607184\n",
      "0.6149992716213272\n",
      "0.6150133843558114\n",
      "0.6150269465545047\n",
      "0.6150399569092575\n",
      "0.6150524141134661\n",
      "0.6150643168620998\n",
      "0.615075663851729\n",
      "0.6150864537805529\n",
      "0.6150966853484273\n",
      "0.6151063572568923\n",
      "0.6151154682092008\n",
      "0.6151240169103468\n",
      "0.615132002067093\n",
      "0.6151394223879991\n",
      "0.6151462765834506\n",
      "0.6151525633656871\n",
      "0.6151582814488308\n",
      "0.6151634295489141\n",
      "0.6151680063839097\n",
      "0.6151720106737586\n",
      "0.6151754411403982\n",
      "0.6151782965077927\n",
      "0.6151805755019598\n",
      "0.6151822768510022\n",
      "0.6151833992851339\n",
      "0.6151839415367115\n",
      "0.6151839023402623\n",
      "0.6151832804325131\n",
      "0.6151820745524211\n",
      "0.6151802834412007\n",
      "0.6151779058423551\n",
      "0.6151749405017047\n",
      "0.6151713861674167\n",
      "0.6151672415900348\n",
      "0.6151625055225081\n",
      "0.615157176720222\n",
      "0.6151512539410265\n",
      "0.6151447359452678\n",
      "0.6151376214958153\n",
      "0.6151299093580946\n",
      "0.6151215983001148\n",
      "0.6151126870925003\n",
      "0.6151031745085189\n",
      "0.6150930593241144\n",
      "0.6150823403179341\n",
      "0.6150710162713608\n",
      "0.6150590859685418\n",
      "0.615046548196419\n",
      "0.6150334017447613\n",
      "0.6150196454061913\n",
      "0.615005277976219\n",
      "0.6149902982532705\n",
      "0.6149747050387184\n",
      "0.6149584971369131\n",
      "0.6149416733552119\n",
      "0.6149242325040108\n",
      "0.6149061733967749\n",
      "0.6148874948500679\n",
      "0.6148681956835844\n",
      "0.6148482747201782\n",
      "0.6148277307858966\n",
      "0.6148065627100066\n",
      "0.6147847693250293\n",
      "0.6147623494667687\n",
      "0.6147393019743433\n",
      "0.6147156256902162\n",
      "0.6146913194602273\n",
      "0.6146663821336218\n",
      "0.6146408125630837\n",
      "0.6146146096047646\n",
      "0.6145877721183158\n",
      "0.6145602989669189\n",
      "0.6145321890173164\n",
      "0.6145034411398432\n",
      "0.6144740542084569\n",
      "0.6144440271007694\n",
      "0.6144133586980773\n",
      "0.614382047885394\n",
      "0.6143500935514788\n",
      "0.6143174945888698\n",
      "0.6142842498939134\n",
      "0.6142503583667969\n",
      "0.614215818911578\n",
      "0.6141806304362164\n",
      "0.6141447918526051\n",
      "0.6141083020766014\n",
      "0.6140711600280572\n",
      "0.6140333646308506\n",
      "0.613994914812917\n",
      "0.61395580950628\n",
      "0.6139160476470826\n",
      "0.6138756281756168\n",
      "0.6138345500363569\n",
      "0.6137928121779882\n",
      "0.6137504135534401\n",
      "0.6137073531199153\n",
      "0.6136636298389214\n",
      "0.6136192426763019\n",
      "0.613574190602267\n",
      "0.6135284725914248\n",
      "0.613482087622811\n",
      "0.6134350346799214\n",
      "0.6133873127507412\n",
      "0.6133389208277776\n",
      "0.613289857908088\n",
      "0.6132401229933128\n",
      "0.6131897150897061\n",
      "0.6131386332081648\n",
      "0.6130868763642605\n",
      "0.6130344435782704\n",
      "0.6129813338752063\n",
      "0.6129275462848468\n",
      "0.6128730798417676\n",
      "0.6128179335853706\n",
      "0.6127621065599163\n",
      "0.6127055978145522\n",
      "0.612648406403345\n",
      "0.6125905313853092\n",
      "0.612531971824439\n",
      "0.6124727267897376\n",
      "0.6124127953552473\n",
      "0.61235217660008\n",
      "0.612290869608447\n",
      "0.6122288734696893\n",
      "0.6121661872783074\n",
      "0.6121028101339911\n",
      "0.6120387411416497\n",
      "0.6119739794114418\n",
      "0.6119085240588038\n",
      "0.6118423742044823\n",
      "0.6117755289745604\n",
      "0.6117079875004902\n",
      "0.6116397489191201\n",
      "0.6115708123727259\n",
      "0.6115011770090388\n",
      "0.6114308419812755\n",
      "0.6113598064481671\n",
      "0.611288069573989\n",
      "0.6112156305285881\n",
      "0.6111424884874141\n",
      "0.611068642631547\n",
      "0.6109940921477265\n",
      "0.6109188362283803\n",
      "0.6108428740716533\n",
      "0.6107662048814356\n",
      "0.610688827867392\n",
      "0.6106107422449889\n",
      "0.6105319472355252\n",
      "0.6104524420661571\n"
     ]
    }
   ],
   "source": [
    "for i in np.arange(0,200):\n",
    "    print(y.corr(train['TotalBsmtSF']-i*train['BsmtUnfSF']/1000))"
   ]
  },
  {
   "cell_type": "code",
   "execution_count": 22,
   "id": "rising-ability",
   "metadata": {},
   "outputs": [
    {
     "data": {
      "text/plain": [
       "0.6135805515591956"
      ]
     },
     "execution_count": 22,
     "metadata": {},
     "output_type": "execute_result"
    }
   ],
   "source": [
    "y.corr(train['TotalBsmtSF'])"
   ]
  },
  {
   "cell_type": "code",
   "execution_count": 7,
   "id": "continuous-diploma",
   "metadata": {},
   "outputs": [
    {
     "name": "stdout",
     "output_type": "stream",
     "text": [
      "TA    649\n",
      "Gd    618\n",
      "Ex    121\n",
      "Fa     35\n",
      "Name: BsmtQual, dtype: int64\n",
      "140759.81818181818\n",
      "202688.4789644013\n",
      "327041.04132231406\n",
      "115692.02857142857\n"
     ]
    }
   ],
   "source": [
    "print(train['BsmtQual'].value_counts())\n",
    "print(train[train['BsmtQual']==\"TA\"]['SalePrice'].mean())\n",
    "print(train[train['BsmtQual']==\"Gd\"]['SalePrice'].mean())\n",
    "print(train[train['BsmtQual']==\"Ex\"]['SalePrice'].mean())\n",
    "print(train[train['BsmtQual']==\"Fa\"]['SalePrice'].mean())\n",
    "z=train[train[\"BsmtQual\"].isnull()]['SalePrice']"
   ]
  },
  {
   "cell_type": "code",
   "execution_count": 25,
   "id": "instant-reply",
   "metadata": {},
   "outputs": [],
   "source": [
    "bq=train[train['BsmtQual'].isna()]['SalePrice']\n",
    "ind=bq[bq>110000].index\n",
    "train.loc[ind,'BsmtQual']='Gd'"
   ]
  },
  {
   "cell_type": "code",
   "execution_count": 33,
   "id": "pleased-demonstration",
   "metadata": {},
   "outputs": [],
   "source": [
    "nbq=train[train['BsmtQual'].isna()]['BsmtQual']\n",
    "ind2=nbq.index\n",
    "train.loc[ind2,'BsmtQual']='TA'"
   ]
  },
  {
   "cell_type": "code",
   "execution_count": 103,
   "id": "embedded-asset",
   "metadata": {},
   "outputs": [],
   "source": [
    "train.loc[gd,'BsmtQual']='Gd'"
   ]
  },
  {
   "cell_type": "code",
   "execution_count": 105,
   "id": "manual-thesis",
   "metadata": {},
   "outputs": [
    {
     "data": {
      "text/plain": [
       "TA    1311\n",
       "Gd      65\n",
       "Fa      45\n",
       "Po       2\n",
       "Name: BsmtCond, dtype: int64"
      ]
     },
     "execution_count": 105,
     "metadata": {},
     "output_type": "execute_result"
    }
   ],
   "source": [
    "train['BsmtCond'].value_counts()"
   ]
  },
  {
   "cell_type": "code",
   "execution_count": 113,
   "id": "sophisticated-pursuit",
   "metadata": {},
   "outputs": [],
   "source": [
    "train['BsmtCond'].fillna('TA',inplace=True)"
   ]
  },
  {
   "cell_type": "code",
   "execution_count": 173,
   "id": "important-cement",
   "metadata": {},
   "outputs": [],
   "source": [
    "train['BsmtExposure'].fillna(\"No\",inplace=True)"
   ]
  },
  {
   "cell_type": "code",
   "execution_count": 120,
   "id": "secure-macintosh",
   "metadata": {},
   "outputs": [
    {
     "data": {
      "text/plain": [
       "192789.65789473685"
      ]
     },
     "execution_count": 120,
     "metadata": {},
     "output_type": "execute_result"
    }
   ],
   "source": [
    "train[train['BsmtExposure']==\"Mn\"]"
   ]
  },
  {
   "cell_type": "code",
   "execution_count": 168,
   "id": "afraid-marathon",
   "metadata": {},
   "outputs": [
    {
     "name": "stdout",
     "output_type": "stream",
     "text": [
      "Unf    430\n",
      "GLQ    419\n",
      "ALQ    223\n",
      "BLQ    163\n",
      "Rec    133\n",
      "LwQ     74\n",
      "Name: BsmtFinType1, dtype: int64\n",
      "170670.57674418605\n",
      "235325.62052505967\n",
      "161444.07174887892\n",
      "146376.47239263804\n",
      "146889.24812030076\n",
      "151852.7027027027\n"
     ]
    }
   ],
   "source": [
    "print(train['BsmtFinType1'].value_counts())\n",
    "print(train[train['BsmtFinType1']=='Unf']['SalePrice'].mean())\n",
    "print(train[train['BsmtFinType1']=='GLQ']['SalePrice'].mean())\n",
    "print(train[train['BsmtFinType1']=='ALQ']['SalePrice'].mean())\n",
    "print(train[train['BsmtFinType1']=='BLQ']['SalePrice'].mean())\n",
    "print(train[train['BsmtFinType1']=='Rec']['SalePrice'].mean())\n",
    "print(train[train['BsmtFinType1']=='LwQ']['SalePrice'].mean())"
   ]
  },
  {
   "cell_type": "code",
   "execution_count": 137,
   "id": "responsible-vegetation",
   "metadata": {},
   "outputs": [
    {
     "data": {
      "text/plain": [
       "[<matplotlib.lines.Line2D at 0x12ede370>]"
      ]
     },
     "execution_count": 137,
     "metadata": {},
     "output_type": "execute_result"
    },
    {
     "data": {
      "image/png": "[encoded data removed]",
      "text/plain": [
       "<Figure size 432x288 with 1 Axes>"
      ]
     },
     "metadata": {
      "needs_background": "light"
     },
     "output_type": "display_data"
    }
   ],
   "source": [
    "plt.plot(unf,'b')\n",
    "plt.plot(glq,'r')\n",
    "plt.plot(alq,'g')"
   ]
  },
  {
   "cell_type": "code",
   "execution_count": 170,
   "id": "reverse-hebrew",
   "metadata": {},
   "outputs": [],
   "source": [
    "ft=train[train['BsmtFinType1'].isna()]['SalePrice']\n",
    "ft.index\n",
    "train.loc[hh,'BsmtFinType1']='Rec'"
   ]
  },
  {
   "cell_type": "code",
   "execution_count": 172,
   "id": "cloudy-wealth",
   "metadata": {},
   "outputs": [],
   "source": [
    "train['BsmtFinType2'].fillna(\"Unf\",inplace=True)"
   ]
  },
  {
   "cell_type": "code",
   "execution_count": 180,
   "id": "spatial-cleanup",
   "metadata": {},
   "outputs": [
    {
     "data": {
      "text/plain": [
       "0.6135805515591956"
      ]
     },
     "execution_count": 180,
     "metadata": {},
     "output_type": "execute_result"
    }
   ],
   "source": [
    "y.corr(train['TotalBsmtSF'])"
   ]
  },
  {
   "cell_type": "code",
   "execution_count": 179,
   "id": "charged-princeton",
   "metadata": {},
   "outputs": [
    {
     "data": {
      "text/html": [
       "<div>\n",
       "<style scoped>\n",
       "    .dataframe tbody tr th:only-of-type {\n",
       "        vertical-align: middle;\n",
       "    }\n",
       "\n",
       "    .dataframe tbody tr th {\n",
       "        vertical-align: top;\n",
       "    }\n",
       "\n",
       "    .dataframe thead th {\n",
       "        text-align: right;\n",
       "    }\n",
       "</style>\n",
       "<table border=\"1\" class=\"dataframe\">\n",
       "  <thead>\n",
       "    <tr style=\"text-align: right;\">\n",
       "      <th></th>\n",
       "      <th>BsmtQual</th>\n",
       "      <th>BsmtCond</th>\n",
       "      <th>BsmtExposure</th>\n",
       "      <th>BsmtFinType1</th>\n",
       "      <th>BsmtFinSF1</th>\n",
       "      <th>BsmtFinType2</th>\n",
       "      <th>BsmtFinSF2</th>\n",
       "      <th>BsmtUnfSF</th>\n",
       "      <th>TotalBsmtSF</th>\n",
       "    </tr>\n",
       "  </thead>\n",
       "  <tbody>\n",
       "    <tr>\n",
       "      <th>0</th>\n",
       "      <td>Gd</td>\n",
       "      <td>TA</td>\n",
       "      <td>No</td>\n",
       "      <td>GLQ</td>\n",
       "      <td>706</td>\n",
       "      <td>Unf</td>\n",
       "      <td>0</td>\n",
       "      <td>150</td>\n",
       "      <td>856</td>\n",
       "    </tr>\n",
       "    <tr>\n",
       "      <th>1</th>\n",
       "      <td>Gd</td>\n",
       "      <td>TA</td>\n",
       "      <td>Gd</td>\n",
       "      <td>ALQ</td>\n",
       "      <td>978</td>\n",
       "      <td>Unf</td>\n",
       "      <td>0</td>\n",
       "      <td>284</td>\n",
       "      <td>1262</td>\n",
       "    </tr>\n",
       "    <tr>\n",
       "      <th>2</th>\n",
       "      <td>Gd</td>\n",
       "      <td>TA</td>\n",
       "      <td>Mn</td>\n",
       "      <td>GLQ</td>\n",
       "      <td>486</td>\n",
       "      <td>Unf</td>\n",
       "      <td>0</td>\n",
       "      <td>434</td>\n",
       "      <td>920</td>\n",
       "    </tr>\n",
       "    <tr>\n",
       "      <th>3</th>\n",
       "      <td>TA</td>\n",
       "      <td>Gd</td>\n",
       "      <td>No</td>\n",
       "      <td>ALQ</td>\n",
       "      <td>216</td>\n",
       "      <td>Unf</td>\n",
       "      <td>0</td>\n",
       "      <td>540</td>\n",
       "      <td>756</td>\n",
       "    </tr>\n",
       "    <tr>\n",
       "      <th>4</th>\n",
       "      <td>Gd</td>\n",
       "      <td>TA</td>\n",
       "      <td>Av</td>\n",
       "      <td>GLQ</td>\n",
       "      <td>655</td>\n",
       "      <td>Unf</td>\n",
       "      <td>0</td>\n",
       "      <td>490</td>\n",
       "      <td>1145</td>\n",
       "    </tr>\n",
       "    <tr>\n",
       "      <th>...</th>\n",
       "      <td>...</td>\n",
       "      <td>...</td>\n",
       "      <td>...</td>\n",
       "      <td>...</td>\n",
       "      <td>...</td>\n",
       "      <td>...</td>\n",
       "      <td>...</td>\n",
       "      <td>...</td>\n",
       "      <td>...</td>\n",
       "    </tr>\n",
       "    <tr>\n",
       "      <th>1455</th>\n",
       "      <td>Gd</td>\n",
       "      <td>TA</td>\n",
       "      <td>No</td>\n",
       "      <td>Unf</td>\n",
       "      <td>0</td>\n",
       "      <td>Unf</td>\n",
       "      <td>0</td>\n",
       "      <td>953</td>\n",
       "      <td>953</td>\n",
       "    </tr>\n",
       "    <tr>\n",
       "      <th>1456</th>\n",
       "      <td>Gd</td>\n",
       "      <td>TA</td>\n",
       "      <td>No</td>\n",
       "      <td>ALQ</td>\n",
       "      <td>790</td>\n",
       "      <td>Rec</td>\n",
       "      <td>163</td>\n",
       "      <td>589</td>\n",
       "      <td>1542</td>\n",
       "    </tr>\n",
       "    <tr>\n",
       "      <th>1457</th>\n",
       "      <td>TA</td>\n",
       "      <td>Gd</td>\n",
       "      <td>No</td>\n",
       "      <td>GLQ</td>\n",
       "      <td>275</td>\n",
       "      <td>Unf</td>\n",
       "      <td>0</td>\n",
       "      <td>877</td>\n",
       "      <td>1152</td>\n",
       "    </tr>\n",
       "    <tr>\n",
       "      <th>1458</th>\n",
       "      <td>TA</td>\n",
       "      <td>TA</td>\n",
       "      <td>Mn</td>\n",
       "      <td>GLQ</td>\n",
       "      <td>49</td>\n",
       "      <td>Rec</td>\n",
       "      <td>1029</td>\n",
       "      <td>0</td>\n",
       "      <td>1078</td>\n",
       "    </tr>\n",
       "    <tr>\n",
       "      <th>1459</th>\n",
       "      <td>TA</td>\n",
       "      <td>TA</td>\n",
       "      <td>No</td>\n",
       "      <td>BLQ</td>\n",
       "      <td>830</td>\n",
       "      <td>LwQ</td>\n",
       "      <td>290</td>\n",
       "      <td>136</td>\n",
       "      <td>1256</td>\n",
       "    </tr>\n",
       "  </tbody>\n",
       "</table>\n",
       "<p>1460 rows × 9 columns</p>\n",
       "</div>"
      ],
      "text/plain": [
       "     BsmtQual BsmtCond BsmtExposure BsmtFinType1  BsmtFinSF1 BsmtFinType2  \\\n",
       "0          Gd       TA           No          GLQ         706          Unf   \n",
       "1          Gd       TA           Gd          ALQ         978          Unf   \n",
       "2          Gd       TA           Mn          GLQ         486          Unf   \n",
       "3          TA       Gd           No          ALQ         216          Unf   \n",
       "4          Gd       TA           Av          GLQ         655          Unf   \n",
       "...       ...      ...          ...          ...         ...          ...   \n",
       "1455       Gd       TA           No          Unf           0          Unf   \n",
       "1456       Gd       TA           No          ALQ         790          Rec   \n",
       "1457       TA       Gd           No          GLQ         275          Unf   \n",
       "1458       TA       TA           Mn          GLQ          49          Rec   \n",
       "1459       TA       TA           No          BLQ         830          LwQ   \n",
       "\n",
       "      BsmtFinSF2  BsmtUnfSF  TotalBsmtSF  \n",
       "0              0        150          856  \n",
       "1              0        284         1262  \n",
       "2              0        434          920  \n",
       "3              0        540          756  \n",
       "4              0        490         1145  \n",
       "...          ...        ...          ...  \n",
       "1455           0        953          953  \n",
       "1456         163        589         1542  \n",
       "1457           0        877         1152  \n",
       "1458        1029          0         1078  \n",
       "1459         290        136         1256  \n",
       "\n",
       "[1460 rows x 9 columns]"
      ]
     },
     "execution_count": 179,
     "metadata": {},
     "output_type": "execute_result"
    }
   ],
   "source": [
    "train[['BsmtQual','BsmtCond', 'BsmtExposure', 'BsmtFinType1', 'BsmtFinSF1',\n",
    "       'BsmtFinType2', 'BsmtFinSF2', 'BsmtUnfSF', 'TotalBsmtSF']]"
   ]
  },
  {
   "cell_type": "code",
   "execution_count": 189,
   "id": "protected-distributor",
   "metadata": {},
   "outputs": [
    {
     "data": {
      "text/html": [
       "<div>\n",
       "<style scoped>\n",
       "    .dataframe tbody tr th:only-of-type {\n",
       "        vertical-align: middle;\n",
       "    }\n",
       "\n",
       "    .dataframe tbody tr th {\n",
       "        vertical-align: top;\n",
       "    }\n",
       "\n",
       "    .dataframe thead th {\n",
       "        text-align: right;\n",
       "    }\n",
       "</style>\n",
       "<table border=\"1\" class=\"dataframe\">\n",
       "  <thead>\n",
       "    <tr style=\"text-align: right;\">\n",
       "      <th></th>\n",
       "      <th>BsmtQual</th>\n",
       "      <th>BsmtCond</th>\n",
       "      <th>BsmtExposure</th>\n",
       "      <th>BsmtFinType1</th>\n",
       "      <th>BsmtFinSF1</th>\n",
       "      <th>BsmtFinType2</th>\n",
       "      <th>BsmtFinSF2</th>\n",
       "      <th>BsmtUnfSF</th>\n",
       "      <th>TotalBsmtSF</th>\n",
       "    </tr>\n",
       "  </thead>\n",
       "  <tbody>\n",
       "    <tr>\n",
       "      <th>0</th>\n",
       "      <td>2</td>\n",
       "      <td>3</td>\n",
       "      <td>3</td>\n",
       "      <td>2</td>\n",
       "      <td>361</td>\n",
       "      <td>5</td>\n",
       "      <td>0</td>\n",
       "      <td>73</td>\n",
       "      <td>179</td>\n",
       "    </tr>\n",
       "    <tr>\n",
       "      <th>1</th>\n",
       "      <td>2</td>\n",
       "      <td>3</td>\n",
       "      <td>1</td>\n",
       "      <td>0</td>\n",
       "      <td>482</td>\n",
       "      <td>5</td>\n",
       "      <td>0</td>\n",
       "      <td>167</td>\n",
       "      <td>441</td>\n",
       "    </tr>\n",
       "    <tr>\n",
       "      <th>2</th>\n",
       "      <td>2</td>\n",
       "      <td>3</td>\n",
       "      <td>2</td>\n",
       "      <td>2</td>\n",
       "      <td>222</td>\n",
       "      <td>5</td>\n",
       "      <td>0</td>\n",
       "      <td>278</td>\n",
       "      <td>214</td>\n",
       "    </tr>\n",
       "    <tr>\n",
       "      <th>3</th>\n",
       "      <td>3</td>\n",
       "      <td>1</td>\n",
       "      <td>3</td>\n",
       "      <td>0</td>\n",
       "      <td>66</td>\n",
       "      <td>5</td>\n",
       "      <td>0</td>\n",
       "      <td>346</td>\n",
       "      <td>117</td>\n",
       "    </tr>\n",
       "    <tr>\n",
       "      <th>4</th>\n",
       "      <td>2</td>\n",
       "      <td>3</td>\n",
       "      <td>0</td>\n",
       "      <td>2</td>\n",
       "      <td>328</td>\n",
       "      <td>5</td>\n",
       "      <td>0</td>\n",
       "      <td>318</td>\n",
       "      <td>370</td>\n",
       "    </tr>\n",
       "    <tr>\n",
       "      <th>...</th>\n",
       "      <td>...</td>\n",
       "      <td>...</td>\n",
       "      <td>...</td>\n",
       "      <td>...</td>\n",
       "      <td>...</td>\n",
       "      <td>...</td>\n",
       "      <td>...</td>\n",
       "      <td>...</td>\n",
       "      <td>...</td>\n",
       "    </tr>\n",
       "    <tr>\n",
       "      <th>1455</th>\n",
       "      <td>2</td>\n",
       "      <td>3</td>\n",
       "      <td>3</td>\n",
       "      <td>5</td>\n",
       "      <td>0</td>\n",
       "      <td>5</td>\n",
       "      <td>0</td>\n",
       "      <td>570</td>\n",
       "      <td>238</td>\n",
       "    </tr>\n",
       "    <tr>\n",
       "      <th>1456</th>\n",
       "      <td>2</td>\n",
       "      <td>3</td>\n",
       "      <td>3</td>\n",
       "      <td>0</td>\n",
       "      <td>407</td>\n",
       "      <td>4</td>\n",
       "      <td>29</td>\n",
       "      <td>376</td>\n",
       "      <td>577</td>\n",
       "    </tr>\n",
       "    <tr>\n",
       "      <th>1457</th>\n",
       "      <td>3</td>\n",
       "      <td>1</td>\n",
       "      <td>3</td>\n",
       "      <td>2</td>\n",
       "      <td>95</td>\n",
       "      <td>5</td>\n",
       "      <td>0</td>\n",
       "      <td>536</td>\n",
       "      <td>375</td>\n",
       "    </tr>\n",
       "    <tr>\n",
       "      <th>1458</th>\n",
       "      <td>3</td>\n",
       "      <td>3</td>\n",
       "      <td>2</td>\n",
       "      <td>2</td>\n",
       "      <td>14</td>\n",
       "      <td>4</td>\n",
       "      <td>134</td>\n",
       "      <td>0</td>\n",
       "      <td>325</td>\n",
       "    </tr>\n",
       "    <tr>\n",
       "      <th>1459</th>\n",
       "      <td>3</td>\n",
       "      <td>3</td>\n",
       "      <td>3</td>\n",
       "      <td>1</td>\n",
       "      <td>423</td>\n",
       "      <td>3</td>\n",
       "      <td>59</td>\n",
       "      <td>65</td>\n",
       "      <td>436</td>\n",
       "    </tr>\n",
       "  </tbody>\n",
       "</table>\n",
       "<p>1460 rows × 9 columns</p>\n",
       "</div>"
      ],
      "text/plain": [
       "      BsmtQual  BsmtCond  BsmtExposure  BsmtFinType1  BsmtFinSF1  \\\n",
       "0            2         3             3             2         361   \n",
       "1            2         3             1             0         482   \n",
       "2            2         3             2             2         222   \n",
       "3            3         1             3             0          66   \n",
       "4            2         3             0             2         328   \n",
       "...        ...       ...           ...           ...         ...   \n",
       "1455         2         3             3             5           0   \n",
       "1456         2         3             3             0         407   \n",
       "1457         3         1             3             2          95   \n",
       "1458         3         3             2             2          14   \n",
       "1459         3         3             3             1         423   \n",
       "\n",
       "      BsmtFinType2  BsmtFinSF2  BsmtUnfSF  TotalBsmtSF  \n",
       "0                5           0         73          179  \n",
       "1                5           0        167          441  \n",
       "2                5           0        278          214  \n",
       "3                5           0        346          117  \n",
       "4                5           0        318          370  \n",
       "...            ...         ...        ...          ...  \n",
       "1455             5           0        570          238  \n",
       "1456             4          29        376          577  \n",
       "1457             5           0        536          375  \n",
       "1458             4         134          0          325  \n",
       "1459             3          59         65          436  \n",
       "\n",
       "[1460 rows x 9 columns]"
      ]
     },
     "execution_count": 189,
     "metadata": {},
     "output_type": "execute_result"
    }
   ],
   "source": [
    "train[['BsmtQual','BsmtCond', 'BsmtExposure', 'BsmtFinType1', 'BsmtFinSF1',\n",
    "       'BsmtFinType2', 'BsmtFinSF2', 'BsmtUnfSF', 'TotalBsmtSF']].apply(enc.fit_transform)"
   ]
  },
  {
   "cell_type": "code",
   "execution_count": 199,
   "id": "metallic-prediction",
   "metadata": {},
   "outputs": [
    {
     "data": {
      "text/plain": [
       "3    668\n",
       "2    626\n",
       "0    121\n",
       "1     45\n",
       "Name: BsmtQual, dtype: int64"
      ]
     },
     "execution_count": 199,
     "metadata": {},
     "output_type": "execute_result"
    }
   ],
   "source": [
    "train['BsmtQual'].value_counts()"
   ]
  },
  {
   "cell_type": "code",
   "execution_count": 187,
   "id": "irish-thesis",
   "metadata": {},
   "outputs": [
    {
     "data": {
      "text/plain": [
       "TA    668\n",
       "Gd    626\n",
       "Ex    121\n",
       "Fa     45\n",
       "Name: BsmtQual, dtype: int64"
      ]
     },
     "execution_count": 187,
     "metadata": {},
     "output_type": "execute_result"
    }
   ],
   "source": [
    "train['BsmtQual'].value_counts()"
   ]
  },
  {
   "cell_type": "code",
   "execution_count": 190,
   "id": "aggregate-culture",
   "metadata": {},
   "outputs": [
    {
     "data": {
      "text/plain": [
       "3    668\n",
       "2    626\n",
       "0    121\n",
       "1     45\n",
       "Name: BsmtQual, dtype: int64"
      ]
     },
     "execution_count": 190,
     "metadata": {},
     "output_type": "execute_result"
    }
   ],
   "source": [
    "tr['BsmtQual'].value_counts()"
   ]
  },
  {
   "cell_type": "code",
   "execution_count": 200,
   "id": "announced-julian",
   "metadata": {},
   "outputs": [
    {
     "data": {
      "text/plain": [
       "array([2, 3, 0, 1])"
      ]
     },
     "execution_count": 200,
     "metadata": {},
     "output_type": "execute_result"
    }
   ],
   "source": [
    "train['BsmtQual'].unique()"
   ]
  },
  {
   "cell_type": "code",
   "execution_count": 207,
   "id": "unlike-popularity",
   "metadata": {},
   "outputs": [],
   "source": [
    "train['BsmtQual']=enc.inverse_transform(train['BsmtQual'])"
   ]
  },
  {
   "cell_type": "code",
   "execution_count": 214,
   "id": "accredited-cyprus",
   "metadata": {},
   "outputs": [
    {
     "data": {
      "text/plain": [
       "array(['Gd', 'Gd', 'Gd', 'TA', 'Gd', 'Gd', 'Ex', 'Gd', 'TA', 'TA', 'TA',\n",
       "       'Ex', 'TA', 'Gd', 'TA', 'TA', 'TA', 'Fa', 'TA', 'TA'], dtype=object)"
      ]
     },
     "execution_count": 214,
     "metadata": {},
     "output_type": "execute_result"
    }
   ],
   "source": [
    "train['BsmtQual'][:20].values"
   ]
  },
  {
   "cell_type": "code",
   "execution_count": 215,
   "id": "subject-oakland",
   "metadata": {},
   "outputs": [],
   "source": [
    "sample=['Gd', 'Gd', 'Gd', 'TA', 'Gd', 'Gd', 'Ex', 'Gd', 'TA', 'TA', 'TA',\n",
    "       'Ex', 'TA', 'Gd', 'TA', 'TA', 'TA', 'Fa', 'TA', 'TA']"
   ]
  },
  {
   "cell_type": "code",
   "execution_count": 217,
   "id": "specific-monster",
   "metadata": {},
   "outputs": [
    {
     "data": {
      "text/plain": [
       "array(['Gd', 'TA', 'Ex', 'Fa'], dtype=object)"
      ]
     },
     "execution_count": 217,
     "metadata": {},
     "output_type": "execute_result"
    }
   ],
   "source": [
    "train['BsmtQual'].unique()"
   ]
  },
  {
   "cell_type": "code",
   "execution_count": 219,
   "id": "enhanced-effect",
   "metadata": {},
   "outputs": [
    {
     "data": {
      "text/plain": [
       "LabelEncoder()"
      ]
     },
     "execution_count": 219,
     "metadata": {},
     "output_type": "execute_result"
    }
   ],
   "source": [
    "enc.fit(['Ex','Gd','TA', 'Fa'])"
   ]
  },
  {
   "cell_type": "code",
   "execution_count": 220,
   "id": "martial-frequency",
   "metadata": {},
   "outputs": [
    {
     "data": {
      "text/plain": [
       "array([2, 2, 2, 3, 2, 2, 0, 2, 3, 3, 3, 0, 3, 2, 3, 3, 3, 1, 3, 3])"
      ]
     },
     "execution_count": 220,
     "metadata": {},
     "output_type": "execute_result"
    }
   ],
   "source": [
    "enc.transform(sample)"
   ]
  },
  {
   "cell_type": "code",
   "execution_count": 222,
   "id": "focal-florist",
   "metadata": {},
   "outputs": [],
   "source": [
    "#gd 2,ta 3, ex 0, fa  1"
   ]
  },
  {
   "cell_type": "code",
   "execution_count": 237,
   "id": "fossil-realtor",
   "metadata": {},
   "outputs": [
    {
     "data": {
      "text/plain": [
       "0.6502992049122044"
      ]
     },
     "execution_count": 237,
     "metadata": {},
     "output_type": "execute_result"
    }
   ],
   "source": [
    "y.corr(train['TotalBsmtSF']*train['BsmtQual'].replace(to_replace=['Ex','Gd','TA', 'Fa'],value=[3,2,1,0]))"
   ]
  },
  {
   "cell_type": "code",
   "execution_count": 45,
   "id": "spanish-journalist",
   "metadata": {},
   "outputs": [],
   "source": [
    "train['BsmtCond'].fillna('TA',inplace=True)\n",
    "train['BsmtCond'].replace(to_replace=['Gd','TA','Fa','Po'],value=[3,2,1,0],inplace=True)"
   ]
  },
  {
   "cell_type": "code",
   "execution_count": 77,
   "id": "appropriate-regard",
   "metadata": {},
   "outputs": [
    {
     "name": "stdout",
     "output_type": "stream",
     "text": [
      "Unf    448\n",
      "GLQ    437\n",
      "ALQ    220\n",
      "BLQ    148\n",
      "Rec    133\n",
      "LwQ     74\n",
      "Name: BsmtFinType1, dtype: int64\n",
      "Index(['Unf', 'GLQ', 'ALQ', 'BLQ', 'Rec', 'LwQ'], dtype='object')\n",
      "167207.0267857143\n",
      "230644.60411899313\n",
      "161573.06818181818\n",
      "149493.6554054054\n",
      "146889.24812030076\n",
      "151852.7027027027\n"
     ]
    }
   ],
   "source": [
    "print(train['BsmtFinType1'].value_counts())\n",
    "ind=train['BsmtFinType1'].value_counts().index\n",
    "print(ind)\n",
    "for i in ind:\n",
    "    print(train[train['BsmtFinType1']==i]['SalePrice'].mean())\n",
    "bft=train[train['BsmtFinType1'].isna()]['SalePrice']\n",
    "bfti=bft.index"
   ]
  },
  {
   "cell_type": "code",
   "execution_count": 78,
   "id": "little-processing",
   "metadata": {},
   "outputs": [],
   "source": [
    "train.loc[bfti,'BsmtFinType1']='Unf'"
   ]
  },
  {
   "cell_type": "code",
   "execution_count": 83,
   "id": "floating-marketing",
   "metadata": {},
   "outputs": [],
   "source": [
    "train['BsmtFinType1'].replace(to_replace=['GLQ','ALQ','BLQ','Rec','LwQ','Unf'],value=[5,4,3,2,1,0],inplace=True)"
   ]
  },
  {
   "cell_type": "code",
   "execution_count": 34,
   "id": "rural-spider",
   "metadata": {},
   "outputs": [],
   "source": [
    "train['BsmtQual'].replace(to_replace=['Ex','Gd','TA', 'Fa'],value=[3,2,1,0],inplace=True)"
   ]
  },
  {
   "cell_type": "code",
   "execution_count": 36,
   "id": "outer-morrison",
   "metadata": {},
   "outputs": [
    {
     "data": {
      "text/plain": [
       "0.6441698223989986"
      ]
     },
     "execution_count": 36,
     "metadata": {},
     "output_type": "execute_result"
    }
   ],
   "source": [
    "y.corr(train['BsmtQual'])"
   ]
  },
  {
   "cell_type": "code",
   "execution_count": 37,
   "id": "tested-sapphire",
   "metadata": {},
   "outputs": [
    {
     "data": {
      "text/plain": [
       "0.6135805515591956"
      ]
     },
     "execution_count": 37,
     "metadata": {},
     "output_type": "execute_result"
    }
   ],
   "source": [
    "y.corr(train['TotalBsmtSF'])"
   ]
  },
  {
   "cell_type": "code",
   "execution_count": 44,
   "id": "smart-trinidad",
   "metadata": {},
   "outputs": [
    {
     "data": {
      "text/plain": [
       "0.15944527738359277"
      ]
     },
     "execution_count": 44,
     "metadata": {},
     "output_type": "execute_result"
    }
   ],
   "source": [
    "y.corr(train['BsmtCond'])"
   ]
  },
  {
   "cell_type": "code",
   "execution_count": 84,
   "id": "empty-childhood",
   "metadata": {},
   "outputs": [
    {
     "data": {
      "text/plain": [
       "0.2773597595283747"
      ]
     },
     "execution_count": 84,
     "metadata": {},
     "output_type": "execute_result"
    }
   ],
   "source": [
    "y.corr(train['BsmtFinType1'])"
   ]
  },
  {
   "cell_type": "code",
   "execution_count": 85,
   "id": "amended-level",
   "metadata": {},
   "outputs": [
    {
     "data": {
      "text/plain": [
       "0.2144791055469689"
      ]
     },
     "execution_count": 85,
     "metadata": {},
     "output_type": "execute_result"
    }
   ],
   "source": [
    "y.corr(train['BsmtUnfSF'])"
   ]
  },
  {
   "cell_type": "code",
   "execution_count": 92,
   "id": "saved-climb",
   "metadata": {},
   "outputs": [
    {
     "data": {
      "text/plain": [
       "0.6150196454061914"
      ]
     },
     "execution_count": 92,
     "metadata": {},
     "output_type": "execute_result"
    }
   ],
   "source": [
    "train['BsmtQual']"
   ]
  },
  {
   "cell_type": "code",
   "execution_count": null,
   "id": "challenging-trout",
   "metadata": {},
   "outputs": [],
   "source": []
  }
 ],
 "metadata": {
  "kernelspec": {
   "display_name": "Python 3",
   "language": "python",
   "name": "python3"
  },
  "language_info": {
   "codemirror_mode": {
    "name": "ipython",
    "version": 3
   },
   "file_extension": ".py",
   "mimetype": "text/x-python",
   "name": "python",
   "nbconvert_exporter": "python",
   "pygments_lexer": "ipython3",
   "version": "3.8.5"
  }
 },
 "nbformat": 4,
 "nbformat_minor": 5
}
