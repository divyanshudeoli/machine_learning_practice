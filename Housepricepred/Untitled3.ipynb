{
 "cells": [
  {
   "cell_type": "code",
   "execution_count": 1,
   "id": "passing-grounds",
   "metadata": {},
   "outputs": [],
   "source": [
    "import numpy as np\n",
    "import pandas as pd\n"
   ]
  },
  {
   "cell_type": "code",
   "execution_count": 25,
   "id": "square-range",
   "metadata": {},
   "outputs": [],
   "source": [
    "from sklearn.preprocessing import LabelEncoder\n",
    "le=LabelEncoder()"
   ]
  },
  {
   "cell_type": "code",
   "execution_count": null,
   "id": "assisted-eight",
   "metadata": {},
   "outputs": [],
   "source": []
  },
  {
   "cell_type": "code",
   "execution_count": 6,
   "id": "accredited-porcelain",
   "metadata": {},
   "outputs": [],
   "source": [
    "train=pd.read_csv(\"train.csv\")\n",
    "ccol=train.corr().columns"
   ]
  },
  {
   "cell_type": "code",
   "execution_count": 19,
   "id": "charming-encounter",
   "metadata": {},
   "outputs": [],
   "source": [
    "tcol=train.columns"
   ]
  },
  {
   "cell_type": "code",
   "execution_count": 21,
   "id": "temporal-henry",
   "metadata": {},
   "outputs": [
    {
     "data": {
      "text/plain": [
       "0       208500\n",
       "1       181500\n",
       "2       223500\n",
       "3       140000\n",
       "4       250000\n",
       "         ...  \n",
       "1455    175000\n",
       "1456    210000\n",
       "1457    266500\n",
       "1458    142125\n",
       "1459    147500\n",
       "Name: SalePrice, Length: 1460, dtype: int64"
      ]
     },
     "execution_count": 21,
     "metadata": {},
     "output_type": "execute_result"
    }
   ],
   "source": [
    "y=train['SalePrice']"
   ]
  },
  {
   "cell_type": "code",
   "execution_count": 63,
   "id": "prerequisite-ceremony",
   "metadata": {},
   "outputs": [
    {
     "name": "stdout",
     "output_type": "stream",
     "text": [
      "MSZoning\n",
      "Street\n",
      "Alley\n",
      "LotShape\n",
      "LandContour\n",
      "Utilities\n",
      "LotConfig\n",
      "LandSlope\n",
      "Neighborhood\n",
      "Condition1\n",
      "Condition2\n",
      "BldgType\n",
      "HouseStyle\n",
      "RoofStyle\n",
      "RoofMatl\n",
      "Exterior1st\n",
      "Exterior2nd\n",
      "MasVnrType\n",
      "ExterQual\n",
      "ExterCond\n",
      "Foundation\n",
      "BsmtQual\n",
      "BsmtCond\n",
      "BsmtExposure\n",
      "BsmtFinType1\n",
      "BsmtFinType2\n",
      "Heating\n",
      "HeatingQC\n",
      "CentralAir\n",
      "Electrical\n",
      "KitchenQual\n",
      "Functional\n",
      "FireplaceQu\n",
      "GarageType\n",
      "GarageFinish\n",
      "GarageQual\n",
      "GarageCond\n",
      "PavedDrive\n",
      "PoolQC\n",
      "Fence\n",
      "MiscFeature\n",
      "SaleType\n",
      "SaleCondition\n"
     ]
    }
   ],
   "source": [
    "for i in tcol:\n",
    "    if i not in ccol:\n",
    "        print(i)"
   ]
  },
  {
   "cell_type": "code",
   "execution_count": 83,
   "id": "thorough-thriller",
   "metadata": {},
   "outputs": [
    {
     "data": {
      "text/plain": [
       "-0.6826392416562596"
      ]
     },
     "execution_count": 83,
     "metadata": {},
     "output_type": "execute_result"
    }
   ],
   "source": [
    "y.corr(train['ExterQual'].replace(to_replace=['Ex','Gd','TA','Fa'],value=[0,1,2,3]))"
   ]
  },
  {
   "cell_type": "code",
   "execution_count": 84,
   "id": "raised-reference",
   "metadata": {},
   "outputs": [],
   "source": [
    "#exterqual garagefinish kitchenqual fireplacequal bsmtqual"
   ]
  },
  {
   "cell_type": "code",
   "execution_count": null,
   "id": "alternative-enemy",
   "metadata": {},
   "outputs": [],
   "source": []
  },
  {
   "cell_type": "code",
   "execution_count": null,
   "id": "sustained-blame",
   "metadata": {},
   "outputs": [],
   "source": []
  },
  {
   "cell_type": "code",
   "execution_count": null,
   "id": "naval-storage",
   "metadata": {},
   "outputs": [],
   "source": []
  },
  {
   "cell_type": "code",
   "execution_count": null,
   "id": "differential-memorial",
   "metadata": {},
   "outputs": [],
   "source": []
  },
  {
   "cell_type": "code",
   "execution_count": 64,
   "id": "french-empty",
   "metadata": {},
   "outputs": [
    {
     "data": {
      "text/plain": [
       "-0.5492467563332125"
      ]
     },
     "execution_count": 64,
     "metadata": {},
     "output_type": "execute_result"
    }
   ],
   "source": [
    "y.corr(train['GarageFinish'].replace(to_replace=['Fin','RFn','Unf'],value=[0,1,2]).fillna(3))"
   ]
  },
  {
   "cell_type": "code",
   "execution_count": 66,
   "id": "desirable-bookmark",
   "metadata": {},
   "outputs": [
    {
     "data": {
      "text/plain": [
       "-0.6595997207286626"
      ]
     },
     "execution_count": 66,
     "metadata": {},
     "output_type": "execute_result"
    }
   ],
   "source": [
    "y.corr(train['KitchenQual'].replace(to_replace=['Ex','Gd','TA','Fa'],value=[0,1,2,3]))"
   ]
  },
  {
   "cell_type": "code",
   "execution_count": 51,
   "id": "cooperative-client",
   "metadata": {},
   "outputs": [
    {
     "data": {
      "text/plain": [
       "-0.5204376059504019"
      ]
     },
     "execution_count": 51,
     "metadata": {},
     "output_type": "execute_result"
    }
   ],
   "source": [
    "train['FireplaceQu']=train['FireplaceQu'].replace(to_replace=['Ex','Gd','TA','Fa','Po'],value=[0,1,2,3,4]).fillna(5)\n",
    "y.corr(train['FireplaceQu'])"
   ]
  },
  {
   "cell_type": "code",
   "execution_count": 34,
   "id": "simplified-litigation",
   "metadata": {},
   "outputs": [
    {
     "data": {
      "text/plain": [
       "4    1198\n",
       "5     125\n",
       "0     101\n",
       "3      20\n",
       "2      12\n",
       "1       4\n",
       "Name: SaleCondition, dtype: int64"
      ]
     },
     "execution_count": 34,
     "metadata": {},
     "output_type": "execute_result"
    }
   ],
   "source": [
    "train['SaleCondition']=le.fit_transform(train['SaleCondition'])\n",
    "train['SaleCondition'].value_counts()"
   ]
  },
  {
   "cell_type": "code",
   "execution_count": 35,
   "id": "floppy-treatment",
   "metadata": {},
   "outputs": [
    {
     "data": {
      "text/plain": [
       "0.21309202967780438"
      ]
     },
     "execution_count": 35,
     "metadata": {},
     "output_type": "execute_result"
    }
   ],
   "source": [
    "y.corr(train['SaleCondition'])"
   ]
  },
  {
   "cell_type": "code",
   "execution_count": null,
   "id": "hired-chicken",
   "metadata": {},
   "outputs": [],
   "source": []
  }
 ],
 "metadata": {
  "kernelspec": {
   "display_name": "Python 3",
   "language": "python",
   "name": "python3"
  },
  "language_info": {
   "codemirror_mode": {
    "name": "ipython",
    "version": 3
   },
   "file_extension": ".py",
   "mimetype": "text/x-python",
   "name": "python",
   "nbconvert_exporter": "python",
   "pygments_lexer": "ipython3",
   "version": "3.8.5"
  }
 },
 "nbformat": 4,
 "nbformat_minor": 5
}
