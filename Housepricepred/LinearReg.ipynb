{
 "cells": [
  {
   "cell_type": "code",
   "execution_count": 25,
   "id": "portable-corruption",
   "metadata": {},
   "outputs": [],
   "source": [
    "import numpy as np\n",
    "import pandas as pd\n",
    "import matplotlib.pyplot as plt"
   ]
  },
  {
   "cell_type": "code",
   "execution_count": 4,
   "id": "respiratory-chinese",
   "metadata": {},
   "outputs": [],
   "source": [
    "x=np.arange(1,501)\n",
    "x=x.reshape(-1,1)"
   ]
  },
  {
   "cell_type": "code",
   "execution_count": 44,
   "id": "renewable-madison",
   "metadata": {},
   "outputs": [],
   "source": [
    "y=(-0.01*x*x)+7*x-19"
   ]
  },
  {
   "cell_type": "code",
   "execution_count": 45,
   "id": "magnetic-officer",
   "metadata": {},
   "outputs": [
    {
     "data": {
      "text/plain": [
       "<matplotlib.collections.PathCollection at 0x1e4a3628>"
      ]
     },
     "execution_count": 45,
     "metadata": {},
     "output_type": "execute_result"
    },
    {
     "data": {
      "image/png": "[encoded data removed]",
      "text/plain": [
       "<Figure size 432x288 with 1 Axes>"
      ]
     },
     "metadata": {
      "needs_background": "light"
     },
     "output_type": "display_data"
    }
   ],
   "source": [
    "plt.scatter(x,y)"
   ]
  },
  {
   "cell_type": "code",
   "execution_count": 9,
   "id": "residential-village",
   "metadata": {},
   "outputs": [],
   "source": [
    "from sklearn.model_selection import train_test_split"
   ]
  },
  {
   "cell_type": "code",
   "execution_count": 49,
   "id": "classical-withdrawal",
   "metadata": {},
   "outputs": [],
   "source": [
    "xr,xe,yr,ye=train_test_split(x,y)"
   ]
  },
  {
   "cell_type": "code",
   "execution_count": 11,
   "id": "thermal-malpractice",
   "metadata": {},
   "outputs": [],
   "source": [
    "from sklearn.linear_model import LinearRegression"
   ]
  },
  {
   "cell_type": "code",
   "execution_count": 47,
   "id": "female-coral",
   "metadata": {},
   "outputs": [],
   "source": [
    "le=LinearRegression()"
   ]
  },
  {
   "cell_type": "code",
   "execution_count": 50,
   "id": "theoretical-perception",
   "metadata": {},
   "outputs": [
    {
     "data": {
      "text/plain": [
       "LinearRegression()"
      ]
     },
     "execution_count": 50,
     "metadata": {},
     "output_type": "execute_result"
    }
   ],
   "source": [
    "le.fit(xr,yr)"
   ]
  },
  {
   "cell_type": "code",
   "execution_count": 51,
   "id": "dramatic-compact",
   "metadata": {},
   "outputs": [],
   "source": [
    "pred=le.predict(xe)"
   ]
  },
  {
   "cell_type": "code",
   "execution_count": 36,
   "id": "checked-distributor",
   "metadata": {},
   "outputs": [],
   "source": [
    "from sklearn.metrics import r2_score"
   ]
  },
  {
   "cell_type": "code",
   "execution_count": 52,
   "id": "green-yield",
   "metadata": {},
   "outputs": [
    {
     "data": {
      "text/plain": [
       "0.5107298617606317"
      ]
     },
     "execution_count": 52,
     "metadata": {},
     "output_type": "execute_result"
    }
   ],
   "source": [
    "r2_score(pred,ye)"
   ]
  },
  {
   "cell_type": "code",
   "execution_count": null,
   "id": "champion-disposition",
   "metadata": {},
   "outputs": [],
   "source": []
  },
  {
   "cell_type": "code",
   "execution_count": null,
   "id": "extended-platform",
   "metadata": {},
   "outputs": [],
   "source": []
  },
  {
   "cell_type": "code",
   "execution_count": null,
   "id": "dress-shock",
   "metadata": {},
   "outputs": [],
   "source": []
  }
 ],
 "metadata": {
  "kernelspec": {
   "display_name": "Python 3",
   "language": "python",
   "name": "python3"
  },
  "language_info": {
   "codemirror_mode": {
    "name": "ipython",
    "version": 3
   },
   "file_extension": ".py",
   "mimetype": "text/x-python",
   "name": "python",
   "nbconvert_exporter": "python",
   "pygments_lexer": "ipython3",
   "version": "3.8.5"
  }
 },
 "nbformat": 4,
 "nbformat_minor": 5
}
